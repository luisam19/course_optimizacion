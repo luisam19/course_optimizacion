{
  "nbformat": 4,
  "nbformat_minor": 0,
  "metadata": {
    "colab": {
      "private_outputs": true,
      "provenance": [],
      "include_colab_link": true
    },
    "kernelspec": {
      "name": "python3",
      "display_name": "Python 3"
    },
    "language_info": {
      "name": "python"
    }
  },
  "cells": [
    {
      "cell_type": "markdown",
      "metadata": {
        "id": "view-in-github",
        "colab_type": "text"
      },
      "source": [
        "<a href=\"https://colab.research.google.com/github/luisam19/course_optimizacion/blob/main/TareaPL_LuisaMariaZapataSaldarriaga.ipynb\" target=\"_parent\"><img src=\"https://colab.research.google.com/assets/colab-badge.svg\" alt=\"Open In Colab\"/></a>"
      ]
    },
    {
      "cell_type": "markdown",
      "source": [
        "<p><img alt=\"udeA logo\" height=\"150px\" src=\"https://github.com/freddyduitama/images/blob/master/logo.png?raw=true\" align=\"left\" hspace=\"50px\" vspace=\"0px\" style=\"width:107px;height:152px;\"></p>\n",
        "<h1><font color='0B5345'> <center>\n",
        "Talle 02 - Programmación Lineal </center></font></h1>\n",
        "<h2><font color='0B5345'> <center>\n",
        "Optimización</center></font></h2>\n",
        "<font  face=\"Courier New\" size=\"3\">\n",
        "<p1><center> Luisa María Zapata Saldarriaga</center></p1>\n",
        "\n",
        "<p3><center><b><font color='0B5345' face=\"Lucida Calligraphy,Comic Sans MS,Lucida Console\" size=\"5\">Universidad de Antioquia</font></b> </center></p3>"
      ],
      "metadata": {
        "id": "2cpcJafV5D3z"
      }
    },
    {
      "cell_type": "markdown",
      "source": [
        "# <font color='056938'> **Descripción del problema** </font>\n",
        "\n",
        "El grupo enpresarial **Floresta** ha contratado a la agencia publicitaria **WonderBrands** para gestionar el mercadeo de sus cuatro lineas de negocio. La agencia ha establecido seis canales de mercadeo en los que desea priorizar:\n",
        "\n",
        "| Canal de Marketing | Descripción |\n",
        "|--------------------|-------------|\n",
        "| Impreso            | Anuncios o mensajes promocionales distribuidos en medios físicos como periódicos, revistas, folletos, etc. |\n",
        "| TV                 | Transmisión de anuncios o contenido promocional a través de la televisión para alcanzar audiencias masivas. |\n",
        "| SEO                | Estrategias para mejorar la visibilidad y el ranking de un sitio web en los resultados de búsqueda orgánica. |\n",
        "| AdWords            | Publicidad de pago por clic (PPC) en la plataforma de Google, que muestra anuncios en los resultados de búsqueda y en otros sitios web. |\n",
        "| Redes sociales     | Estrategias de marketing que implican la promoción de productos o servicios a través de plataformas de redes sociales como Facebook, Twitter, Instagram, etc. |\n",
        "| Email              | Enviar mensajes promocionales o informativos a una lista de correo electrónico con el objetivo de aumentar las ventas o el compromiso del cliente. |\n",
        "\n",
        "El exito de las campañas a través de estos canales  se mide a tráves de dos indicadores de desempeño, en  particular se esta interesado en:\n",
        "\n",
        "* **ROI** - Retorno de la Inversión: Calcula los ingresos generados por la campaña en comparación con el costo de ejecutarla\n",
        "* **CR** - Tasa de Conversión: Porcentaje de personas que realizaron una acción deseada sobre el total de personas impactadas por cada millon de pesos invertido.\n",
        "\n",
        "Estudios previos han permitido estimar los siguientes valores de **ROI** y **CR**\n",
        "\n",
        "\n",
        "| Canal de Marketing | Línea 1 | Línea 2 | Línea 3 | Línea 4 | | CR (%)|\n",
        "|--------------------|---------|---------|---------|---------| | |\n",
        "| Impreso            | 3.1     | 3.0     | 3.5     | 2.9     | |0.2 |\n",
        "| TV                 | 5.2     | 4.8     | 5.1     | 4.5     | |0.2 |\n",
        "| SEO                | 6.1     | 6.4     | 7.0     | 6.8     | |0.4 |\n",
        "| AdWords            | 4.0     | 4.5     | 4.9     | 4.9     | |0.5 |\n",
        "| Redes sociales     | 7.1     | 7.6     | 7.1     | 7.8     | |1.1 |\n",
        "| Email              | 8.0     | 8.9     | 8.3     | 8.8     | |1.1 |\n",
        "\n",
        "\n",
        "\n",
        "\n",
        "\n",
        "\n",
        "La planeación de la campaña de mercadeo requiere establecer la cantidad de dinero que se debe destinar para cada línea de negocio en cada canal, con el fin de maximizar el **ROI**.\n",
        "\n",
        "Para ello debe considerarse que:\n",
        "* Se dispone de un presupuesto máximo de 100 millones para destinar a la campaña\n",
        "* El valor mínimo deseado para el  **CR** es de 25%\n",
        "* El **CR** incrementa por cada millon de pesos invertidos en los porcentajes especificados para cada canal de mercadeo, hasta alcanzar un máximo del 10%, valor a partir del cual la inversión adicional en dicho canal no incrementa el valor de **CR**\n",
        "* La inversión en los diversos canales debe ser balanceada. Para ello, la diferencia entre el mayor valor de inversión y el menor valor de inversión no debe superar el 10%  \n",
        "\n",
        "\n"
      ],
      "metadata": {
        "id": "3LmS9y7iUqsL"
      }
    },
    {
      "cell_type": "markdown",
      "source": [
        "# <font color='056938'> **Verbalización del modelo** </font>\n",
        "Consideraremos la siguiente verbalización del problema\n",
        "\n"
      ],
      "metadata": {
        "id": "JpTpdq81dJCf"
      }
    },
    {
      "cell_type": "markdown",
      "source": [
        "## <font color='8EC044'> **Conjuntos** </font>\n",
        "\n",
        "\n",
        "| Conjuntos | Descripción                    |\n",
        "|----------|--------------------------------|\n",
        "| $N$      | Líneas de negocio       |\n",
        "| $M$      | Canales de mercadeo  |\n",
        "\n"
      ],
      "metadata": {
        "id": "_odidTvtdXOn"
      }
    },
    {
      "cell_type": "markdown",
      "source": [
        "## <font color='8EC044'> **Parámetros** </font>\n",
        "\n",
        "Debemos cosiderar los siguientes parámetros\n",
        "\n",
        "\n",
        "| Parámetro | Descripción |\n",
        "|-----------|-------------|\n",
        "| $roi_{ij}$     | **ROI** de cada canal  de mercadeo $j$ $\\in M$ en cada linea de negocio $i$. $\\in N$ |\n",
        "| $cr_{j}$  | **CR** de cada canal de mercadeo $j$. |\n",
        "| $B$   |  Presupuesto total disponible $B=100 M$ |\n",
        "| $\\eta$   |  máximo valor de **CR** alcanzable por canal  $\\eta = 10%$ |\n",
        "| $\\alpha$   | Valor mínimo deseable del **CR** acumulado entre todos los canales  $\\alpha = 25%$|\n",
        "| $\\beta$   | Diferencia máxima entre la inversión en cada canal  $\\beta =10% $|\n"
      ],
      "metadata": {
        "id": "3mWRkGFUmSQG"
      }
    },
    {
      "cell_type": "markdown",
      "source": [
        "\n",
        "## <font color='8EC044'> **Decisiones** </font>\n",
        "Cantidad de dinero (millones) que se debe destinar para cada línea de negocio en cada canal. Además, es probable que requerimos de variables auxiliares para calcular la inversión mínima y máxima en cada canal\n",
        "\n",
        "| Variable | Descripción |\n",
        "|-----------|-------------|\n",
        "| $x_{ij}$     | Cantidad de dinero (millones) invertidaen el canal  de mercadeo $j$ en la linea de negocio $i$. |\n",
        "| $inv\\_min$  | cantidad mínima invertida en algun canal de mercadeo  |\n",
        "| $inv\\_max$  | cantidad máxima invertida en algun canal de mercadeo  |\n"
      ],
      "metadata": {
        "id": "i6MPOygzm_Ur"
      }
    },
    {
      "cell_type": "markdown",
      "source": [
        "## <font color='8EC044'> **Restricciones** </font>\n",
        "* Se dispone de un presupuesto máximo de 100 millones para destinar a la campaña\n",
        "* El valor mínimo deseado para el  **CR** es de 25%\n",
        "* El **CR** incrementa por cada millon de pesos invertidos en los porcentajes especificados para cada canal de mercadeo, hasta alcanzar un máximo del 10%, valor a partir del cual la inversión adicional en dicho canal no incrementa el valor de **CR**\n",
        "* La inversión en los diversos canales debe ser balanceada. Para ello, la diferencia entre el mayor porcentaje de inversión y el menor porcentaje de inversión no debe superar el 10%\n"
      ],
      "metadata": {
        "id": "ZJrtaKULnNVa"
      }
    },
    {
      "cell_type": "markdown",
      "source": [
        "\n",
        "## <font color='8EC044'> **Objetivo** </font>\n",
        "Maximizar el retorno total de la invesrión entendido como la suma de los retornos **ROI** de las cantidades invertidas para cada linea de negocio en cada canal"
      ],
      "metadata": {
        "id": "eJmHghHun7ah"
      }
    },
    {
      "cell_type": "markdown",
      "source": [
        "\n",
        "# <font color='056938'> **Modelación** </font>\n",
        "\n",
        "El siguiente modelo mátematico representa el problema de optimización descrito.\n",
        "\n",
        "1. cuanto invertí por el retorno en cada canal y línea\n",
        "2. No superar el valor máximo de inversión\n",
        "3.\n",
        "4. Max y Min de las inversiones de un producto enun medio lo divido entre todo lo que invertí\n",
        "\n",
        "\\begin{align*}\n",
        "\\text{maximizar} \\ z = &\\sum_{i \\in N}\\sum_{j \\in M} roi_{ij}x_{ij}\\\\\n",
        "\\text{s.a.} \\\\\n",
        "& \\sum_{i \\in N}\\sum_{j \\in M} x_{ij} \\leq B\\\\\n",
        "& \\sum_{j \\in M} \\min \\left\\{ cr_j\\sum_{i \\in N} x_{ij}, \\ \\eta  \\right\\} \\geq \\alpha \\\\\n",
        "&\\dfrac{\\max_{j \\in M} \\left\\{ \\sum_{i \\in N} x_{ij}   \\right\\} - \\min_{j \\in M} \\left\\{ \\sum_{i \\in N} x_{ij}   \\right\\}}{\\sum_{i \\in N}\\sum_{j \\in M} x_{ij}} \\leq \\beta\\\\\n",
        "&x_{ij} \\geq 0\\quad \\forall i \\in N\\ \\forall j \\in M\n",
        "\\end{align*}"
      ],
      "metadata": {
        "id": "ZuRCovNSwi9J"
      }
    },
    {
      "cell_type": "markdown",
      "source": [
        "# <font color='056938'> **Práctica** </font>\n",
        "\n",
        "De solución a las siguientes preguntas"
      ],
      "metadata": {
        "id": "20OvfwfSfQvO"
      }
    },
    {
      "cell_type": "markdown",
      "source": [
        "## <font color='8EC044'> **Punto 1. Linearización** </font>\n",
        "\n",
        "Explique porque el modelo descrito no es lineal y relice las transformaciones necesarias para convertirlo en un modelo lineal. Puede subir en este notebook el modelo resultante como una imagen o modficar el modelo descrito en `latex` de la unidad anterior.  "
      ],
      "metadata": {
        "id": "UcRC2wnlfYe-"
      }
    },
    {
      "cell_type": "markdown",
      "source": [
        "Una función lineal no tiene un mínimo o un máximo absoluto puede ser tan alto como se quiera, por esta razón los mínimos y máximos de la restricción 2 y 3 son no lineales. A continuación se presenta la linealización de estas.\n",
        "\n",
        "**Linealización Restricción 2**\n",
        "\n",
        "\\begin{align*}\n",
        "& \\sum_{j \\in M} \\min \\left\\{ cr_j\\sum_{i \\in N} x_{ij}, \\ \\eta  \\right\\} \\geq \\alpha \\\\\n",
        "\\end{align*}\n",
        "\n",
        "Para linealizar la restricción dada, podemos introducir una variable auxiliar $ y_{j}$ para cada $j \\in M$. Luego, podemos reformular la restricción de la siguiente manera:\n",
        "\n",
        "\n",
        "\\begin{align*}\n",
        "& \\sum_{j \\in M} y_j \\geq \\alpha \\\\\n",
        "& y_j \\leq cr_j \\sum_{i \\in N} x_{ij}  \\quad  \\forall j \\in M \\\\\n",
        "& y_j \\leq \\eta \\quad  \\forall j \\in M \\\\\n",
        "& y_j \\geq 0 \\quad  \\forall  j \\in M \\\\\n",
        "\\end{align*}\n",
        "\n",
        "\n",
        "Aquí, $y_j$ actúa como una versión linealizada de la expresión $\\min \\left\\{ cr_j\\sum_{i \\in N} x_{ij}, \\ \\eta  \\right\\}$. La restricción principal requiere que la suma de todas las $y_j$ sea al menos $\\alpha$, y las otras restricciones linealizan la función mínima y limitan $y_j$ a estar entre 0 y $\\eta$.\n"
      ],
      "metadata": {
        "id": "KCozDRaS-fBZ"
      }
    },
    {
      "cell_type": "markdown",
      "source": [
        "**Linealización Restricción 3**\n",
        "\\begin{align*}\n",
        "&\\dfrac{\\max_{j \\in M} \\left\\{ \\sum_{i \\in N} x_{ij}   \\right\\} - \\min_{j \\in M} \\left\\{ \\sum_{i \\in N} x_{ij}   \\right\\}}{\\sum_{i \\in N}\\sum_{j \\in M} x_{ij}} \\leq \\beta\\\\\n",
        "\\end{align*}\n",
        "\n",
        "Para linealizar la restricción dada, introducimos las variables auxiliares $y_{1}$ y  $y_{2}$\n",
        "\n",
        "\\begin{align*}\n",
        "& w = \\max_{j \\in M} \\left\\{ \\sum_{i \\in N} x_{ij} \\right\\}  & w \\geq \\sum_{i \\in N} x_{ij} \\quad \\forall j \\in M \\\\\n",
        "& p = \\min_{j \\in M} \\left\\{ \\sum_{i \\in N} x_{ij} \\right\\}  & p \\leq \\sum_{i \\in N} x_{ij} \\quad \\forall j \\in M\\\\\n",
        "& \\frac{w - p}{\\sum_{i \\in N}\\sum_{j \\in M} x_{ij}} \\leq \\beta\n",
        "& w - p = \\beta \\cdot \\sum_{i \\in N}\\sum_{j \\in M} x_{ij}\\\\\n",
        "\\end{align*}\n",
        "\n",
        "Donde $w$ representa el máximo valor de la suma de variables $x_{ij}$ para cualquier índice $j$ en $M$, $p$ representa el mínimo valor de la suma de variables $x_{ij}$ para cualquier índice $j$ en $M$, y $\\beta$ es un parámetro dado."
      ],
      "metadata": {
        "id": "VOr9fiCiAvd5"
      }
    },
    {
      "cell_type": "markdown",
      "source": [
        "p - sumatoria <=0 incrementando el 0 en 1 unidad\n",
        "\n",
        "si se permite incrementar en una unidad se tiene un roi\n"
      ],
      "metadata": {
        "id": "yhqMqlQn3yK_"
      }
    },
    {
      "cell_type": "markdown",
      "source": [
        "## <font color='8EC044'> **Punto 2. Implementación** </font>\n",
        "Implemente, directamente en este notebook, el modelo descrito. Use para ello cualquiera de los lenguaje de modelación y solucionadores compatibles. Para ello:"
      ],
      "metadata": {
        "id": "11fkP_i6gMcs"
      }
    },
    {
      "cell_type": "markdown",
      "source": [
        "<font color='46B8A9'> **Cree la instancia de datos** </font>\n",
        "\n",
        "Cree las estructuras de datos (listas, diccionarios) necesarias para almancenar la información de la instancia."
      ],
      "metadata": {
        "id": "UwefOGckqpCQ"
      }
    },
    {
      "cell_type": "code",
      "source": [
        "!pip install -q amplpy\n",
        "from amplpy import AMPL, tools\n",
        "import pandas as pd\n",
        "import plotly.graph_objs as go\n",
        "import plotly.express as px\n",
        "import sympy as sp\n",
        "from sympy.matrices import Matrix\n",
        "from sympy.vector import Vector\n",
        "import numpy as np"
      ],
      "metadata": {
        "id": "1MCBwiiGPnGw"
      },
      "execution_count": null,
      "outputs": []
    },
    {
      "cell_type": "code",
      "source": [
        "ampl = tools.ampl_notebook(\n",
        "    modules=[\"highs\", \"cbc\", \"gurobi\", \"cplex\"], # Los optimizadores que vamos a usar\n",
        "    license_uuid=\"default\") # license to use (Aqui hay que poner su licencia :-;"
      ],
      "metadata": {
        "id": "uQnSr9gQPjhn"
      },
      "execution_count": null,
      "outputs": []
    },
    {
      "cell_type": "code",
      "source": [
        "lines_of_business = [\"Línea_1\", \"Línea_2\", \"Línea_3\", \"Línea_4\"]\n",
        "marketing_channels = [\"Impreso\", \"TV\", \"SEO\", \"AdWords\", \"Redes_sociales\", \"Email\"]\n",
        "roi = {\n",
        "    (\"Línea_1\", \"Impreso\"): 3.1, (\"Línea_1\", \"TV\"): 5.2, (\"Línea_1\", \"SEO\"): 6.1, (\"Línea_1\", \"AdWords\"): 4.0, (\"Línea_1\", \"Redes_sociales\"): 7.1, (\"Línea_1\", \"Email\"): 8.0,\n",
        "    (\"Línea_2\", \"Impreso\"): 3.0, (\"Línea_2\", \"TV\"): 4.8, (\"Línea_2\", \"SEO\"): 6.4, (\"Línea_2\", \"AdWords\"): 4.5, (\"Línea_2\", \"Redes_sociales\"): 7.6, (\"Línea_2\", \"Email\"): 8.9,\n",
        "    (\"Línea_3\", \"Impreso\"): 3.5, (\"Línea_3\", \"TV\"): 5.1, (\"Línea_3\", \"SEO\"): 7.0, (\"Línea_3\", \"AdWords\"): 4.9, (\"Línea_3\", \"Redes_sociales\"): 7.1, (\"Línea_3\", \"Email\"): 8.3,\n",
        "    (\"Línea_4\", \"Impreso\"): 2.9, (\"Línea_4\", \"TV\"): 4.5, (\"Línea_4\", \"SEO\"): 6.8, (\"Línea_4\", \"AdWords\"): 4.9, (\"Línea_4\", \"Redes_sociales\"): 7.8, (\"Línea_4\", \"Email\"): 8.8\n",
        "}\n",
        "cr = {\"Impreso\": 0.2, \"TV\": 0.2, \"SEO\": 0.4, \"AdWords\": 0.5, \"Redes_sociales\": 1.1, \"Email\": 1.1}\n",
        "budget = 100\n",
        "alpha = 25\n",
        "beta =0.1\n",
        "eta=10 #10"
      ],
      "metadata": {
        "id": "R4MVMEC8qdcJ"
      },
      "execution_count": null,
      "outputs": []
    },
    {
      "cell_type": "markdown",
      "source": [
        "<font color='46B8A9'> **Implemente la función que genera el modelo** </font>\n",
        "\n",
        "Cree una función que reciba como argumentos las estructuras de datos con la información de la instancia y retorne el modelo"
      ],
      "metadata": {
        "id": "QBQ5-NLZrFQ_"
      }
    },
    {
      "cell_type": "code",
      "source": [
        "def create_model(ampl, lines_of_business, marketing_channels, roi, cr, budget, alpha, eta,beta):\n",
        "    # Conjuntos\n",
        "    ampl.eval(\n",
        "        \"\"\" reset;\n",
        "            set N;          # Conjunto de líneas de negocio\n",
        "            set M;       # Conjunto de canales de mercadeo\n",
        "\n",
        "            # Parámetros\n",
        "            param roi{N, M} >= 0;     # ROI de cada canal de mercadeo para cada línea de negocio\n",
        "            param cr{M} >= 0;   # Tasa de conversión de cada canal de mercadeo\n",
        "            param budget >= 0;       # Presupuesto total disponible\n",
        "            param alpha >= 0;       # Tasa de conversión mínima deseada\n",
        "            param beta >= 0;       # Diferencia máxima permitida entre las inversiones en los canales de mercadeo\n",
        "            param eta >=0;\n",
        "\n",
        "            # Variables\n",
        "            var x{N, M} >= 0;              # Cantidad de dinero invertida en cada canal de mercadeo para cada línea de negocio\n",
        "            var y{M} >= 0;                               # Variable auxiliar para el cálculo de la tasa de conversión\n",
        "            var w >=0 ;                                                       # Variable para calcular el máximo de la inversión en canales de mercadeo\n",
        "            var p >=0 ;                                                       # Variable para calcular el mínimo de la inversión en canales de mercadeo\n",
        "\n",
        "            # Función objetivo\n",
        "            maximize TotalROI:\n",
        "                sum {(i, j) in N cross M} roi[i,j] * x[i,j] + 0.01*sum{j in M} y[j]; # Penalización sobre la función objetivo\n",
        "\n",
        "            # Restricciones\n",
        "            subject to BudgetConstraint:\n",
        "                sum{(i,j) in N cross M} x[i,j] <= budget;\n",
        "\n",
        "            subject to ConversionRateConstraint:\n",
        "                sum{j in M} y[j] >= alpha;\n",
        "\n",
        "            subject to CRConstraint{j in M}:\n",
        "                y[j] <= sum{i in N} cr[j] * x[i,j] ;\n",
        "\n",
        "            subject to MaxConversionRateConstraint{j in M}:\n",
        "                y[j] <= eta;\n",
        "\n",
        "            subject to MaxConstraint{j in M}:\n",
        "                w >= sum{i in N} x[i,j];\n",
        "\n",
        "            subject to MinConstraint{j in M}:\n",
        "                p <= sum{i in N} x[i,j];\n",
        "\n",
        "            subject to DifferenceConstraint:\n",
        "                w - p = beta * sum{(i,j) in N cross M} x[i,j];\n",
        "\n",
        "        \"\"\")\n",
        "\n",
        "    # Parámetros cargados directamente\n",
        "    ampl.set[\"N\"] = lines_of_business\n",
        "    ampl.set[\"M\"] = marketing_channels\n",
        "    ampl.param[\"roi\"] = roi\n",
        "    ampl.param[\"cr\"] = cr\n",
        "    ampl.param[\"budget\"] = budget\n",
        "    ampl.param[\"alpha\"] = alpha\n",
        "    ampl.param[\"eta\"]=eta\n",
        "    ampl.param['beta']=beta\n",
        "    return ampl\n"
      ],
      "metadata": {
        "id": "VP4e664-PZUE"
      },
      "execution_count": null,
      "outputs": []
    },
    {
      "cell_type": "markdown",
      "source": [
        "<font color='46B8A9'> **Imprima la solución óptima** </font>\n",
        "\n",
        "Resuelva e imprima la solución óptima del modelo implementado"
      ],
      "metadata": {
        "id": "jbwAkWDLrtke"
      }
    },
    {
      "cell_type": "code",
      "source": [
        "%%ampl_eval\n",
        "option solver cplex;\n",
        "option cplex_options 'sensitivity'; # Activar sensitividad\n",
        "option presolve 0; # Quita restricciones si no ponemos esto\n"
      ],
      "metadata": {
        "id": "2kAYiBURRA7T"
      },
      "execution_count": null,
      "outputs": []
    },
    {
      "cell_type": "code",
      "source": [
        "# Crear el modelo\n",
        "ampl = create_model(ampl, lines_of_business, marketing_channels, roi, cr, budget, alpha,eta, beta)\n",
        "\n",
        "# Resolver el modelo\n",
        "ampl.solve()\n",
        "\n",
        "print(\"\\nInversión mínima en algún canal de mercadeo:\", ampl.getVariable('p').value(), \"millones\")\n",
        "print(\"Inversión máxima en algún canal de mercadeo:\", ampl.getVariable('w').value(), \"millones\")\n",
        "\n",
        "\n",
        "TotalBenefit = ampl.get_objective(\"TotalROI\")\n",
        "print(\"\\nObjective is:\", TotalBenefit.get().value())"
      ],
      "metadata": {
        "id": "AiKOax7yREuv"
      },
      "execution_count": null,
      "outputs": []
    },
    {
      "cell_type": "markdown",
      "source": [
        "Los valores dados para cada $y$ no debe superar el 10%,, y vemos que en cada canal el valor no supera el límite."
      ],
      "metadata": {
        "id": "ltAfClamKR9k"
      }
    },
    {
      "cell_type": "code",
      "source": [
        "ampl.get_data(\"y\").to_pandas()"
      ],
      "metadata": {
        "id": "P-heZb35D7nQ"
      },
      "execution_count": null,
      "outputs": []
    },
    {
      "cell_type": "markdown",
      "source": [
        "Según la restricción dada, la sumatoria de los valores en $y$ tiene que ser mayor o igual a $\\alpha$ que es un 25% lo cual concuerda con los resultados"
      ],
      "metadata": {
        "id": "indAQuUrKFu-"
      }
    },
    {
      "cell_type": "code",
      "source": [
        "ampl.get_data(\"y\").to_pandas().sum()"
      ],
      "metadata": {
        "id": "wbAMw0ZYJn4A"
      },
      "execution_count": null,
      "outputs": []
    },
    {
      "cell_type": "code",
      "source": [
        "var_x=ampl.get_data(\"x\").to_pandas()\n",
        "var_x=ampl.get_data(\"x\").to_pandas().reset_index()\n",
        "var_x[var_x[\"x\"]>0]"
      ],
      "metadata": {
        "id": "YMCVVq8bCn99"
      },
      "execution_count": null,
      "outputs": []
    },
    {
      "cell_type": "markdown",
      "source": [
        "## <font color='8EC044'> **Punto 3. Análisis de sensibilidad y dualidad** </font>\n",
        "\n",
        "Use los conceptos de dualidad y sensibilidad para explorar y analizar la solución obtenida respecto a preguntas del negocio. Tenga en cuenta aspectos como:\n",
        "\n",
        "Presente separadamente los desarrollos de programación que requiera de los resultados obtenidos y su análisis"
      ],
      "metadata": {
        "id": "5tJhwl-csep9"
      }
    },
    {
      "cell_type": "code",
      "source": [
        "variables=ampl.get_data('_varname,_var.current, _var.down,_var.current,_var.up').to_pandas().reset_index()\n",
        "variables"
      ],
      "metadata": {
        "id": "epGb2pEUOD1s"
      },
      "execution_count": null,
      "outputs": []
    },
    {
      "cell_type": "code",
      "source": [
        "constraints=ampl.get_data(\"_conname, _con.slack, _con.down,  _con.current, _con.up, _con.dual\").to_pandas().reset_index()# cambios en el vector de recursos del lado derecho\n",
        "constraints"
      ],
      "metadata": {
        "id": "INBzYgsEOZmD"
      },
      "execution_count": null,
      "outputs": []
    },
    {
      "cell_type": "markdown",
      "source": [
        "### 1. ¿Cuál es el impacto de la limitación de presupuesto en la maximización del **ROI**?"
      ],
      "metadata": {
        "id": "Om004pl2HU-K"
      }
    },
    {
      "cell_type": "markdown",
      "source": [
        "Para evaluar el impacto de la limitación presupuestaria en la optimización del ROI, es esencial considerar cómo se comporta el modelo al incrementar en una unidad el valor de la restricción $Budget$, que representa el presupuesto asignado.\n",
        "\n",
        "\\begin{align*}\n",
        "& \\sum_{i \\in N}\\sum_{j \\in M} x_{ij} \\leq B\\\\\n",
        "\\end{align*}\n",
        "\n",
        "Al realizar un análisis de sensibilidad, se evidencia que el valor actual del presupuesto es de 100 unidades, alcanzando su capacidad máxima, por tal razón vemos que no hay holgura en esta expresión, es decir  el presupuesto se está utilizando completamente y no hay margen para aumentar la inversión. Sin embargo, este valor puede variar dentro de un rango que oscila entre 41.958042 y 115.384615 unidades. Además, el **valor dual** asociado a esta restricción es de 6.721858, lo que indica que por cada unidad adicional de presupuesto disponible, se espera un aumento de aproximadamente $6.72$ unidades en el ROI."
      ],
      "metadata": {
        "id": "c1RE71n0LNSW"
      }
    },
    {
      "cell_type": "code",
      "source": [
        "constraints.iloc[0,:]"
      ],
      "metadata": {
        "id": "5UN04UjIK55x"
      },
      "execution_count": null,
      "outputs": []
    },
    {
      "cell_type": "markdown",
      "source": [
        "### 2. ¿Es posible obtener retornos de inversión **ROI** similares a los óptimos exigiendo mayores niveles de tasa de conversión **CR**?"
      ],
      "metadata": {
        "id": "StL5Rwz9Nc1z"
      }
    },
    {
      "cell_type": "markdown",
      "source": [
        "La tasa de conversión (CR) se modela como un parámetro que influye en la efectividad de cada canal de marketing. Al exigir mayores niveles de CR, se espera que los canales generen más conversiones por cada unidad de inversión, lo que puede conducir a un ROI más alto.\n",
        "\n",
        "\\begin{align*}\n",
        "& \\sum_{j \\in M} y_j \\geq \\alpha \\\\\n",
        "\\end{align*}\n",
        "\n",
        "Ajustar el parámetro $\\alpha$, que representa la tasa de conversión mínima deseada  establece un umbral más alto para la tasa de conversión que los canales deben alcanzar. Esto incentivará a asignar más presupuesto a los canales que tienen el potencial de generar conversiones a un ritmo más alto.\n",
        "\n",
        "Los resultados de esta salida sugiere que la restricción de tasa de conversión actualmente se está utilizando en un 25%, pero hay margen para aumentarla hasta un 39.17% antes de que la solución óptima cambie. Además, muestra que la restricción actualmente no está restringiendo la función objetivo, ya que el valor dual es 0.0."
      ],
      "metadata": {
        "id": "2EbO71jXNs70"
      }
    },
    {
      "cell_type": "code",
      "source": [
        "constraints.iloc[1,:]"
      ],
      "metadata": {
        "id": "VkTnOLO1P6ga"
      },
      "execution_count": null,
      "outputs": []
    },
    {
      "cell_type": "markdown",
      "source": [
        "Además, el parámetro $\\eta$ se utiliza para limitar el crecimiento de la tasa de conversión después de cierto punto. Si se cambia un $\\eta$ más alto, los canales podrían seguir aumentando su tasa de conversión incluso después de alcanzar valores más altos, lo que podría resultar en mayores retornos de inversión.\n",
        "\n",
        "\n",
        "\\begin{align*}\n",
        "& y_j \\leq \\eta \\quad  \\forall j \\in M \\\\\n",
        "\\end{align*}\n",
        "\n",
        "Estos resultados indican que todos los canales de marketing están actualmente alcanzando su límite máximo de tasa de conversión establecido por $\\eta$ (10%). Sin embargo, aún hay margen para que algunos canales aumenten su tasa de conversión antes de alcanzar este límite y es el valor dado por la holgura para:\n",
        "* Impreso\n",
        "* TV\n",
        "* SEO\n",
        "* AdWords\n",
        "\n",
        "Por otro lado, la restricción sobre la tasa máxima de conversión ($y_j \\leq \\eta$ ) no está restringiendo la función objetivo. Esto significa que la función objetivo no está siendo limitada o afectada negativamente por esta restricción especificamente en los canales: impreso, tv, SEO, Adwords. Mientras que para Redes sociales y E-mail vemos que si se aumenta una unidad esto va tener una implicación de 0.001 en la función objetivo, el valor dual esta dado por la penalización que se realizó en la función objetivo, sino se considerará esta penalización, esta restricción vemos que no tiene impacto."
      ],
      "metadata": {
        "id": "-FfI2f4vOSQ3"
      }
    },
    {
      "cell_type": "code",
      "source": [
        "constraints.iloc[8:14,:]"
      ],
      "metadata": {
        "id": "uNHe0ffiSZmg"
      },
      "execution_count": null,
      "outputs": []
    },
    {
      "cell_type": "markdown",
      "source": [
        "### 3. Permitir un mayor desbalance entre los porcentajes de inversión en los distintos canales de mercadeo permite obtener mejores retornos de inversión **ROI**?"
      ],
      "metadata": {
        "id": "N8c-FLXDYHUO"
      }
    },
    {
      "cell_type": "markdown",
      "source": [
        "Para permitir un mayor desbalance entre los porcentajes de inversión, el parametro $\\beta$ tiene implicaciones a través de esta restricción siento un coeficiente:\n",
        "\n",
        "\\begin{align*}\n",
        "& w - p = \\beta \\cdot \\sum_{i \\in N}\\sum_{j \\in M} x_{ij}\\\\\n",
        "\\end{align*}\n",
        "\n",
        "\n",
        "\n",
        "La restricción $DifferenceConstraint$ muestra que en la solución óptima actual, la diferencia entre las inversiones máxima y mínima en los canales de marketing es de 0 millones de pesos, indicando un equilibrio perfecto en la distribución de recursos. Sin embargo, aún existe un margen de **6.67 millones de pesos** para aumentar esta diferencia sin comprometer la solución óptima. Además, el valor dual asociado con esta restricción es de 5.05, lo que sugiere que un aumento en la diferencia entre las inversiones tendría un impacto positivo en el valor óptimo de la función objetivo, es decir, en el $ROI$. Por lo tanto, permitir un mayor desbalance entre los porcentajes de inversión entre los distintos canales de mercadeo podría conducir a mejores retornos de inversión en este escenario, aprovechando el margen disponible para optimizar la asignación de recursos."
      ],
      "metadata": {
        "id": "Hvevoh_KVR4i"
      }
    },
    {
      "cell_type": "code",
      "source": [
        "constraints.iloc[-1,:]"
      ],
      "metadata": {
        "id": "ZfsX3d2MWxPY"
      },
      "execution_count": null,
      "outputs": []
    },
    {
      "cell_type": "markdown",
      "source": [
        "### 4. Si se esta dispuesto a invertir en perfilar mejor alguno de las lineas de negocio o de los canales de mercadeo con el fin de entederlo mejor y obtener mejores tasas de retorno **ROI** o tasas de conversión **CR**, ¿En cuál o cuales recomendaria usted enfocarse?"
      ],
      "metadata": {
        "id": "U2-laoc-YH-I"
      }
    },
    {
      "cell_type": "markdown",
      "source": [
        "Basándonos en el análisis de las restricciones relacionadas con el Retorno de la Inversión (ROI) y la Tasa de Conversión (CR), podemos extraer varias conclusiones.\n",
        "\n",
        "En primer lugar, observamos que el mínimo deseado para la tasa de conversión global se cumple, con un valor actual de 25, lo que sugiere que se están obteniendo resultados aceptables en cuanto a la capacidad de convertir impactos en ventas o acciones deseadas. Sin embargo, al profundizar en las restricciones individuales de tasa de conversión para cada canal de mercadeo, encontramos oportunidades para mejorar. Por ejemplo, el valor dual positivo asociado con la restricción del canal 'Impreso', con un valor de 0.01, indica que aumentar la inversión en este canal podría resultar en una mejora en la tasa de conversión global. Además, la restricción máxima de tasa de conversión para algunos canales, como 'Redes_sociales', sugiere que aún hay margen para aumentar la efectividad de estos canales, con un valor actual de 23.83. Por último, la restricción de diferencia entre inversiones muestra un valor dual positivo significativo, con un valor de 5.05, lo que indica que permitir un mayor desbalance en la distribución de la inversión entre los canales de mercadeo podría conducir a mejores retornos de inversión.\n",
        "\n",
        "En conclusión, ajustar la inversión en ciertos canales (Impreso y Redes sociales) y permitir un mayor desbalance en la distribución de la inversión podría ser una estrategia efectiva para mejorar tanto la tasa de conversión como el retorno de la inversión en general."
      ],
      "metadata": {
        "id": "I_h7mAd9gglI"
      }
    }
  ]
}