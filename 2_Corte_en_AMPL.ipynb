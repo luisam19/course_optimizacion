{
  "nbformat": 4,
  "nbformat_minor": 0,
  "metadata": {
    "colab": {
      "provenance": [],
      "include_colab_link": true
    },
    "kernelspec": {
      "name": "python3",
      "display_name": "Python 3"
    },
    "language_info": {
      "name": "python"
    }
  },
  "cells": [
    {
      "cell_type": "markdown",
      "metadata": {
        "id": "view-in-github",
        "colab_type": "text"
      },
      "source": [
        "<a href=\"https://colab.research.google.com/github/luisam19/course_optimizacion/blob/main/2_Corte_en_AMPL.ipynb\" target=\"_parent\"><img src=\"https://colab.research.google.com/assets/colab-badge.svg\" alt=\"Open In Colab\"/></a>"
      ]
    },
    {
      "cell_type": "markdown",
      "source": [
        "#Ejemplo de modelo de corte usando AMPL sobre Python\n",
        "\n",
        "En este Cuaderno resolveremos, nuevamente, nuestro problema de corte usando esta vez AMPL como herramienta de modelación pero en Python. Como referencia de [AMPL](https://ampl.com/) puedes recurrir a su página web. Recapitulemos nuestro problema de corte para ayudar a Muebles El Comejen a planear mejor su producción\n",
        "\n"
      ],
      "metadata": {
        "id": "A7ltXNw6N7MQ"
      }
    },
    {
      "cell_type": "markdown",
      "source": [
        "# Problema de programación de corte\n",
        "\n",
        "Conocido en inglés como [*Cutting Stock Problem*](https://neos-guide.org/case-studies/sc/mfg/the-cutting-stock-problem/), este problema clásico de la optimización tiene como objetivo determinar cómo cortar unas piezas grandes de tamaño estándar (láminas, rollos, varillas, etc) en piezas más pequeñas para cumplir con unos pedidos dados de las piezas más pequeñas, de tal manera que se minimice la cantidad de desechos o equivalentemente el número de piezas cortadas. En este [link](https://https://neos-guide.org/content/cutting-stock-problem) tenemos la descripción que nos ofrece NEOS del problema. Ahora veamos un ejemplo práctico y su implementación computacional.\n",
        "\n",
        "# Un ejemplo:\n",
        "\n",
        "Liliana, la coordinadora de la planta de producción de Muebles El Comején está planeando la producción de la próxima semana. Con base en la demanda de los muebles, sabe que necesita la siguiente cantidad de piezas:\n",
        "\n",
        "|   Pieza| Requerimiento |\n",
        "|-------|----|\n",
        "| **A** | 13 |\n",
        "| **B** | 7  |\n",
        "| **C** | 14\t|\n",
        "| **D** | 3 |\n",
        "| **E** | 35\t|\n",
        "| **F** | 2 |\n",
        "| **G** | 17  |\n",
        "\n",
        "En conjunto con Eduardo, el operario de la máquina de corte, y con base en las dimensiones de las láminas de madera que utilizan y las dimensiones de las piezas a cortar,  Liliana ha ideado 10 patrones de corte diferentes (de los múltiples posibles). El número de piezas obtenidas por cada patrón y los patrones correspondientes se presentan a continuación:\n",
        "\n",
        "\n",
        "| Pieza/Patron de corte |1|2|3\t|4\t|5\t|6\t|7\t|8|\t9|\t10|\n",
        "|---- |----|---|---\t|---|---\t|---\t|---\t|---|---|---|\n",
        "|A|\t1|1|8|0|0|1|2|3|0|1|\n",
        "|B|\t5|0|0|0|0|0|0|2|1|1|\n",
        "|C|\t0|1|0|0|0|1|3|0|0|1|\n",
        "|D|\t1|1|0|0|1|2|0|0|0|1|\n",
        "|E|\t0|0|1|3|0|0|0|0|1|1|\n",
        "|F|\t0|0|1|0|0|1|0|1|0|0|\n",
        "|G|\t0|1|0|0|2|0|0|0|1|0|\n",
        "\n"
      ],
      "metadata": {
        "id": "g_Qzds1bPS0b"
      }
    },
    {
      "cell_type": "markdown",
      "source": [
        "#1 Notación\n",
        "\n",
        "Para formular este modelo iniciamos definiendo la notación necesaria:\n",
        "\n",
        "**Conjuntos**\n",
        "\n",
        "> Piezas: P={A, B, C, D, E,F,G}\n",
        "\n",
        "> Patrones de corte: C={1, 2, 3, 4, 5, 6, 7, 8, 9, 10}\n",
        "\n",
        "**Parámetros**\n",
        "> $r_{i}$: Requerimiento de la pieza  $i \\in P$   [Unidades]\n",
        "\n",
        "> $pc_{ij}$: Número de piezas $i \\in P$ que se obtienen al cortar una lámina con el patrón $j \\in C$  [Unidades]\n",
        "\n",
        "**Variables de decisión**\n",
        "\n",
        "> $x_{j}$: Variable entera, cantidad de láminas que se cortarán usando el patrón $j \\in C$.\n",
        "\n",
        "#2 Verbalización\n",
        "Ahora, expresamos en palabras el modelo que queremos constuir, declarando explícitamente su <font color='blue'>función objetivo</font>,<font color='red'> restricciones</font> y <font color='green'>decisiones</font>:\n",
        "\n",
        "<font color='green'>Decidir cuántas láminas se deben cortar con cada patrón de corte, </font> <font color='red'> cumpliendo el requerimiento mínimo de cada pieza (demanda) </font> <font color='blue'>, para minimizar el número total de láminas cortadas.</font>\n",
        "\n",
        "#3 Formulación\n",
        "\n",
        "Ahora, usando la notación de 1. y la verbalización de 2., tenemos el siguiente modelo de optimización que permitirá planear óptimamente la asignación de los casos en el bufete de abogados.\n",
        "\n",
        ">$\\text{min}\\ LaminasTotales = \\sum_{j \\in C}x_{j} $    (<font color='blue'> Total de láminas cortadas  </font>)\n",
        "\n",
        "$sujeto \\, a:$\n",
        "\n",
        ">$\\sum_{j \\in C}pc_{ij} \\, x_{j}\\geq r_{i}, \\forall i \\in P \\quad$(<font color='red'> Requerimiento mínimo de cada pieza (demanda)  </font>)\n",
        "\n",
        "> $x_{j} \\in  \\mathbb Z^+ \\quad \\quad \\quad \\quad \\forall j \\in C   \\quad \\quad$           (<font color='green'>Dominio de las variables - enteras- </font>)\n",
        "\n",
        "\n",
        "#4 Implementación computacional\n",
        "\n",
        "Y ahora si, la implementación computacional de este modelo usando para ello AMPL sobre Python"
      ],
      "metadata": {
        "id": "aTDJ3D1mPyVn"
      }
    },
    {
      "cell_type": "code",
      "source": [
        "#Instalemos primero los paquetes que necesitamos\n",
        "!pip install -q amplpy pandas\n",
        "from amplpy import AMPL, tools\n",
        "ampl = tools.ampl_notebook(\n",
        "    modules=[\"highs\", \"cbc\", \"gurobi\"], # Los optimizadores que vamos a usar\n",
        "    license_uuid=\"default\") # license to use (Aqui hay que poner su licencia :-;\n"
      ],
      "metadata": {
        "colab": {
          "base_uri": "https://localhost:8080/"
        },
        "id": "xX6VSEUyQnuo",
        "outputId": "a4d98b16-aba0-4812-b185-7f927997a969"
      },
      "execution_count": null,
      "outputs": [
        {
          "output_type": "stream",
          "name": "stdout",
          "text": [
            "\u001b[?25l     \u001b[90m━━━━━━━━━━━━━━━━━━━━━━━━━━━━━━━━━━━━━━━━\u001b[0m \u001b[32m0.0/4.5 MB\u001b[0m \u001b[31m?\u001b[0m eta \u001b[36m-:--:--\u001b[0m\r\u001b[2K     \u001b[91m━━\u001b[0m\u001b[90m╺\u001b[0m\u001b[90m━━━━━━━━━━━━━━━━━━━━━━━━━━━━━━━━━━━━━\u001b[0m \u001b[32m0.3/4.5 MB\u001b[0m \u001b[31m7.9 MB/s\u001b[0m eta \u001b[36m0:00:01\u001b[0m\r\u001b[2K     \u001b[91m━━━━━━━━━━━━━━━━━━━━━\u001b[0m\u001b[90m╺\u001b[0m\u001b[90m━━━━━━━━━━━━━━━━━━\u001b[0m \u001b[32m2.4/4.5 MB\u001b[0m \u001b[31m29.5 MB/s\u001b[0m eta \u001b[36m0:00:01\u001b[0m\r\u001b[2K     \u001b[91m━━━━━━━━━━━━━━━━━━━━━━━━━━━━━━━━━━━━━━━\u001b[0m\u001b[91m╸\u001b[0m \u001b[32m4.5/4.5 MB\u001b[0m \u001b[31m43.5 MB/s\u001b[0m eta \u001b[36m0:00:01\u001b[0m\r\u001b[2K     \u001b[91m━━━━━━━━━━━━━━━━━━━━━━━━━━━━━━━━━━━━━━━\u001b[0m\u001b[91m╸\u001b[0m \u001b[32m4.5/4.5 MB\u001b[0m \u001b[31m43.5 MB/s\u001b[0m eta \u001b[36m0:00:01\u001b[0m\r\u001b[2K     \u001b[90m━━━━━━━━━━━━━━━━━━━━━━━━━━━━━━━━━━━━━━━━\u001b[0m \u001b[32m4.5/4.5 MB\u001b[0m \u001b[31m27.7 MB/s\u001b[0m eta \u001b[36m0:00:00\u001b[0m\n",
            "\u001b[?25hUsing default Community Edition License for Colab. Get yours at: https://ampl.com/ce\n",
            "Licensed to AMPL Community Edition License for the AMPL Model Colaboratory (https://colab.ampl.com).\n"
          ]
        }
      ]
    },
    {
      "cell_type": "code",
      "source": [
        "#Ahora vamos a utilizar nuestro modelo de AMPL despues de resetear el ambiente\n",
        "%%ampl_eval\n",
        "reset;\n",
        "\n",
        "#Conjuntos\n",
        "set Piezas;                \t#Conjunto de piezas a fabricas\n",
        "set Patrones;\t\t\t\t#Conjunto de patrones de corte disponibles\n",
        "#Parametros\n",
        "param r{Piezas}>=0;         # Requerimiento de cada pieza\n",
        "param pc {Piezas,Patrones}>=0; #Numero de piezas cortadas en cada patron\n",
        "#Variables\n",
        "var x{j in Patrones}>=0, integer;    #numero de veces que se cortara cada patron\n",
        "\n",
        "#Funcion objetivo\n",
        "minimize LaminasTotales: sum{j in Patrones}x[j];\n",
        "\n",
        "#Restricciones\n",
        "subject to Demanda{i in Piezas}:\n",
        "sum{j in Patrones}pc[i,j]*x[j]>=r[i];\n"
      ],
      "metadata": {
        "id": "ZT3FF_k_SHXI"
      },
      "execution_count": null,
      "outputs": []
    },
    {
      "cell_type": "markdown",
      "source": [
        "# Ahora los datos"
      ],
      "metadata": {
        "id": "ZOst25bxTbXl"
      }
    },
    {
      "cell_type": "code",
      "source": [
        "#Parametros cargados directamente\n",
        "ampl.set[\"Piezas\"] = [\"A\", \"B\", \"C\", \"D\", \"E\", \"F\", \"G\"]\n",
        "ampl.set[\"Patrones\"] = [0, 1, 2, 3, 4, 5, 6, 7, 8, 9] #En Python contamos desde 0 ! Acuerdate de esto\n",
        "ampl.param[\"r\"] = {\"A\": 13, \"B\": 7, \"C\": 14, \"D\": 3, \"E\":  35, \"F\":2, \"G\": 17 }"
      ],
      "metadata": {
        "id": "B5l27gGeUtV6"
      },
      "execution_count": null,
      "outputs": []
    },
    {
      "cell_type": "code",
      "source": [
        "#Ahora unos desde Pandas\n",
        "import pandas as pd\n",
        "pc_df = pd.DataFrame({\n",
        "        \"A\": [1,1,8,0,0,1,2,3,0,1],\n",
        "        \"B\": [5,0,0,0,0,0,0,2,1,1],\n",
        "        \"C\": [0,1,0,0,0,1,3,0,0,1],\n",
        "        \"D\": [1,1,0,0,1,2,0,0,0,1],\n",
        "        \"E\": [0,0,1,3,0,0,0,0,1,1],\n",
        "        \"F\": [0,0,0,0,0,1,0,1,0,0],\n",
        "        \"G\": [0,1,0,0,2,0,0,0,1,0]\n",
        "    })\n",
        "print(pc_df)\n",
        "\n",
        "ampl.param[\"pc\"] = pc_df.unstack()"
      ],
      "metadata": {
        "colab": {
          "base_uri": "https://localhost:8080/"
        },
        "id": "FIGopFK6VgX8",
        "outputId": "17ebaf74-1067-48cb-feff-799f2f8f5d46"
      },
      "execution_count": null,
      "outputs": [
        {
          "output_type": "stream",
          "name": "stdout",
          "text": [
            "   A  B  C  D  E  F  G\n",
            "0  1  5  0  1  0  0  0\n",
            "1  1  0  1  1  0  0  1\n",
            "2  8  0  0  0  1  0  0\n",
            "3  0  0  0  0  3  0  0\n",
            "4  0  0  0  1  0  0  2\n",
            "5  1  0  1  2  0  1  0\n",
            "6  2  0  3  0  0  0  0\n",
            "7  3  2  0  0  0  1  0\n",
            "8  0  1  0  0  1  0  1\n",
            "9  1  1  1  1  1  0  0\n"
          ]
        }
      ]
    },
    {
      "cell_type": "code",
      "source": [
        "#Y finalmente resolvamos usando un software gratuito nuevo: HIGHS y pongamos la respuesta en un dataframe nuevamente\n",
        "\n",
        "ampl.option[\"solver\"] = \"highs\"\n",
        "ampl.solve()\n",
        "print(\"El valor optimo de la funcion objetivo es :\",ampl.get_data(\"LaminasTotales\"))\n",
        "print(\"Las laminas se cortan según los siguentes patrones (Patrón- Número de cortes)\")\n",
        "\n",
        "ampl.get_data(\"x\").to_pandas()\n",
        "\n"
      ],
      "metadata": {
        "id": "SUTAdYJYYmUe"
      },
      "execution_count": null,
      "outputs": []
    }
  ]
}