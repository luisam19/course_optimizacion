{
  "nbformat": 4,
  "nbformat_minor": 0,
  "metadata": {
    "colab": {
      "private_outputs": true,
      "provenance": [],
      "toc_visible": true,
      "include_colab_link": true
    },
    "kernelspec": {
      "name": "python3",
      "display_name": "Python 3"
    },
    "language_info": {
      "name": "python"
    }
  },
  "cells": [
    {
      "cell_type": "markdown",
      "metadata": {
        "id": "view-in-github",
        "colab_type": "text"
      },
      "source": [
        "<a href=\"https://colab.research.google.com/github/luisam19/course_optimizacion/blob/main/AnalisisSensibilidad.ipynb\" target=\"_parent\"><img src=\"https://colab.research.google.com/assets/colab-badge.svg\" alt=\"Open In Colab\"/></a>"
      ]
    },
    {
      "cell_type": "markdown",
      "source": [
        "# <font color='056938'> **Importar librerias** </font>"
      ],
      "metadata": {
        "id": "Rn-xTaNCDe55"
      }
    },
    {
      "cell_type": "code",
      "execution_count": null,
      "metadata": {
        "id": "irxzkTU6WoG1"
      },
      "outputs": [],
      "source": [
        "!pip install -q amplpy\n",
        "from amplpy import AMPL, tools\n",
        "import pandas as pd\n",
        "import plotly.graph_objs as go\n",
        "import plotly.express as px\n",
        "import sympy as sp\n",
        "from sympy.matrices import Matrix\n",
        "from sympy.vector import Vector\n",
        "import numpy as np"
      ]
    },
    {
      "cell_type": "markdown",
      "source": [
        "# <font color='056938'> **Descripción genérica de un PL** </font>\n",
        "\n",
        "Para la discusión de la sensibilidad consideraremos una descripción genérica del programa lineal como sigue:\n",
        "\n",
        "> Debemos decidir el nivel de algunas actividades $𝑥_𝑖$ que maximice el beneficio obtenido, considerando un beneficio $𝑐_𝑖$ asociado a cada actividad y haciendo uso de una cantidad limitada de recursos $𝑏_𝑗$, de los cuales cada unidad de de actividad $𝑖$ usa una cantidad $𝑎_{𝑖𝑗}$\n",
        "\n",
        "Lo cuál matemáticamente representamos como:\n",
        "\n",
        "\\begin{align*}\n",
        "\\text{maximizar} \\quad &c_1 x_1 + c_2 x_2 + \\ldots + c_n x_n\\\\\n",
        "    &\\text{s.a.}\\\\\n",
        "    &a_{11} x_1 + a_{12} x_2 + \\ldots + a_{1n} x_n \\leq b_1 \\\\\n",
        "    &\\quad \\quad \\quad \\vdots \\\\\n",
        "    & a_{m1} x_1 + a_{m2} x_2 + \\ldots + a_{mn} x_n \\leq b_m \\\\\n",
        "    &x_1 \\geq 0, \\quad x_2 \\geq 0, \\quad \\ldots, \\quad x_n \\geq 0\n",
        "\\end{align*}\n",
        "\n",
        "De forma similar, para el problema de minimización tendriamos, el problema lo expresaremos asi:\n",
        "\n",
        "> Debemos decidir el nivel de algunas actividades $𝑥_𝑖$ que minimice el costo generado, considerando un costo $𝑐_𝑖$ asociado a cada actividad con el fin de satisfacer una demanda esperada de un bien o recurso $𝑏_𝑗$, para los cuales cada unidad de de actividad $𝑖$ aporta una cantidad $𝑎_{𝑖𝑗}$\n",
        "\n",
        "\n",
        "\\begin{align*}\n",
        "\\text{minimizar} \\quad &c_1 x_1 + c_2 x_2 + \\ldots + c_n x_n\\\\\n",
        "    &\\text{s.a.}\\\\\n",
        "    &a_{11} x_1 + a_{12} x_2 + \\ldots + a_{1n} x_n \\geq b_1 \\\\\n",
        "    &\\quad \\quad \\quad \\vdots \\\\\n",
        "    & a_{m1} x_1 + a_{m2} x_2 + \\ldots + a_{mn} x_n \\geq b_m \\\\\n",
        "    &x_1 \\geq 0, \\quad x_2 \\geq 0, \\quad \\ldots, \\quad x_n \\geq 0\n",
        "\\end{align*}"
      ],
      "metadata": {
        "id": "Xpi2SP2rdfoV"
      }
    },
    {
      "cell_type": "markdown",
      "source": [
        "# <font color='056938'> **Problema base** </font>\n",
        "\n",
        "Para la discusión de esta unidad usaremos como base un problema de mezcla"
      ],
      "metadata": {
        "id": "Tu8H6M-xe9jd"
      }
    },
    {
      "cell_type": "markdown",
      "source": [
        "## <font color='8EC044'> **Descripción del problema** </font>\n",
        "\n",
        "Una empresa produce cuatro tipos de productos: Producto A, Producto B, Producto C y Producto D. Cada producto es una mezcla de diferentes ingredientes, y la empresa desea maximizar su beneficio. El beneficio por unidad de cada producto es el siguiente:\n",
        "\n",
        "| Producto | Bneficioe |\n",
        "|-------------|---------------------|\n",
        "| A           | 20        |\n",
        "| B           | 15        |\n",
        "| C           | 25        |\n",
        "| D           | 50        |\n",
        "\n",
        "El proceso de producción requiere los siguientes ingredientes por unidad de cada producto:\n",
        "\n",
        "| Producto | Ingrediente 1 | Ingrediente 2 |Ingrediente 3 |\n",
        "|----------|---------------|---------------|---------------|\n",
        "| A        | 2             | 3             | 1             |\n",
        "| B        | 1             | 2             | 2             |\n",
        "| C        | 3             | 1             | 4             |\n",
        "| D        | 2             | 4             | 3             |\n",
        "\n",
        "La empresa cuenta con las siguientes cantidades de ingredientes disponibles:\n",
        "\n",
        "\n",
        "| Ingrediente | Cantidad disponible |\n",
        "|-------------|---------------------|\n",
        "| 1           | 60 unidades        |\n",
        "| 2           | 50 unidades        |\n",
        "| 3           | 100 unidades        |\n",
        "\n",
        "\n",
        "Además, la empresa quiere asegurarse de que el número de puntos por producción sostenible sea mayor al menos de 50 unidades. Donde los puntos asociados a cada unidad de producto son:\n",
        "\n",
        "| Producto | puntos |\n",
        "|-------------|---------------------|\n",
        "| A           | 4        |\n",
        "| B           | 3        |\n",
        "| C           | 2        |\n",
        "| D           | 1        |\n",
        "\n"
      ],
      "metadata": {
        "id": "s5Uq-7kAbB6Y"
      }
    },
    {
      "cell_type": "markdown",
      "source": [
        "## <font color='8EC044'> **Formulación del problema** </font>\n",
        "\n",
        "\n",
        "\\begin{align*}\n",
        "\\text{maximizar} z = &20x_A + 15x_B + 25x_C + 50x_D\\\\\n",
        "\\text{s.a.} \\\\\n",
        "\\text{Ingredientes 1:} & \\quad 2x_A + x_B + 3x_C + 2x_D \\leq 60 \\\\\n",
        "\\text{Ingredientes 2:} & \\quad 3x_A + 2x_B + x_C + 4x_D \\leq 50 \\\\\n",
        "\\text{Ingredientes 3:} & \\quad x_A + 2x_B + 4x_C + 3x_D \\leq 100 \\\\\n",
        "\\text{Producción sost.:} & \\quad 4x_A + 3x_B + 2x_C + 1x_D \\geq 50 \\\\\n",
        "\\text{No negatividad:} & \\quad x_A \\geq 0, \\, x_B \\geq 0, \\, x_C \\geq 0, \\, x_D \\geq 0\n",
        "\\end{align*}"
      ],
      "metadata": {
        "id": "5AbaDDadfcz8"
      }
    },
    {
      "cell_type": "markdown",
      "source": [
        "## <font color='8EC044'> **Implementación** </font>"
      ],
      "metadata": {
        "id": "ktdeATNH5LwR"
      }
    },
    {
      "cell_type": "markdown",
      "source": [
        "En este caso usaremos `AMPL` para modelar el problema y `CPLEX` para resolverlo, puesto que de esta forma podemos obtener fácilmente la información que requeriremos en el analisis de sensibilidad. Dependiendo del modelador y del solver de solución puede ser posible o no obtener esta infromación fácilmente."
      ],
      "metadata": {
        "id": "76-0NZIGcsiS"
      }
    },
    {
      "cell_type": "code",
      "source": [
        "ampl = tools.ampl_notebook(\n",
        "    modules=[\"highs\", \"cbc\", \"gurobi\", \"cplex\"], # Los optimizadores que vamos a usar\n",
        "    license_uuid=\"default\") # license to use (Aqui hay que poner su licencia :-;"
      ],
      "metadata": {
        "id": "eR1nx1OyKPNG"
      },
      "execution_count": null,
      "outputs": []
    },
    {
      "cell_type": "markdown",
      "source": [
        "En nuestro caso, crearemos la  función `create_model()` que genera el modelo para usarla en caso que tengamos que  generarlo para distintos conjuntos de datos."
      ],
      "metadata": {
        "id": "ztECUOFYdJx6"
      }
    },
    {
      "cell_type": "code",
      "source": [
        "def create_model(ampl, products, ingredients, benefits, disponibility, requirement, volumn, prod_min):\n",
        "  #Conjuntos\n",
        "  ampl.eval(\n",
        "      \"\"\" reset;\n",
        "          set Products;          #Conjunto de producos\n",
        "          set Ingredients;\t\t\t\t#Conjunto de ingredientes\n",
        "          #Parameters\n",
        "          param benefit{Products}>=0;              # Beneficio de cada producto\n",
        "          param dispon{Ingredients}>=0;              # disponibilidad de cada ingrediente\n",
        "          param requerim {Ingredients,Products}>=0; # Requerimiento de ingrediente por producto\n",
        "          param volumn{Products}>=0;              # Aporte por unidad de producto\n",
        "          param prod_min >=0;                             # Numero minimo de productos\n",
        "\n",
        "          #Variables\n",
        "          var x{j in Products}>=0;  # Cantidad de producto a fabricar\n",
        "\n",
        "          #Objective function\n",
        "          maximize TotalBenefit: sum{j in Products}benefit[j]*x[j];\n",
        "\n",
        "          #Constraints\n",
        "          subject to Disponibilidad{i in Ingredients}:\n",
        "          sum{j in Products}requerim[i,j]*x[j]<=dispon[i];\n",
        "\n",
        "          subject to ProdMin:\n",
        "          sum{j in Products}volumn[j]*x[j]>=prod_min;\"\"\")\n",
        "\n",
        "  # instantiate the model\n",
        "  #Parametros cargados directamente\n",
        "  ampl.set[\"Products\"] = products\n",
        "  ampl.set[\"Ingredients\"] = ingredients\n",
        "  ampl.param[\"benefit\"] = benefits\n",
        "  ampl.param[\"dispon\"] = disponibility\n",
        "  ampl.param[\"requerim\"] = requirement\n",
        "  ampl.param[\"volumn\"] = volumn\n",
        "  ampl.param[\"prod_min\"] = prod_min\n",
        "\n",
        "  return ampl\n"
      ],
      "metadata": {
        "id": "Il0hyAE5A2ZD"
      },
      "execution_count": null,
      "outputs": []
    },
    {
      "cell_type": "markdown",
      "source": [
        "Construimos los datos de la instancia para alimentar la función que crea el modelo"
      ],
      "metadata": {
        "id": "qtErqUZwOIqr"
      }
    },
    {
      "cell_type": "code",
      "source": [
        "products = [\"A\", \"B\", \"C\", \"D\"]\n",
        "ingredients = [1, 2, 3] #En Python contamos desde 0 ! Acuerdate de esto\n",
        "benefits = {\"A\": 20, \"B\": 15, \"C\": 25, \"D\": 50}\n",
        "disponibility = {1: 60, 2: 50, 3: 100}\n",
        "requirement = {\n",
        "    (1, 'A'): 2,\n",
        "    (1, 'B'): 1,\n",
        "    (1, 'C'): 3,\n",
        "    (1, 'D'): 2,\n",
        "    (2, 'A'): 3,\n",
        "    (2, 'B'): 2,\n",
        "    (2, 'C'): 1,\n",
        "    (2, 'D'): 4,\n",
        "    (3, 'A'): 1,\n",
        "    (3, 'B'): 2,\n",
        "    (3, 'C'): 4,\n",
        "    (3, 'D'): 3\n",
        "}\n",
        "volumn = {\"A\": 4, \"B\": 3, \"C\": 2, \"D\": 1}\n",
        "prod_min = 50\n",
        "\n"
      ],
      "metadata": {
        "id": "1BKnUjhYDTa5"
      },
      "execution_count": null,
      "outputs": []
    },
    {
      "cell_type": "markdown",
      "source": [
        "Para efectos de correr el modelo y poder evidenciar los concpetos del analisis de sensibilidad usaremos `cplex` desactivando las opciones de presolver y activando el componente de sensibilidad"
      ],
      "metadata": {
        "id": "hImvMAv-Ncoy"
      }
    },
    {
      "cell_type": "code",
      "source": [
        "%%ampl_eval\n",
        "option solver cplex;\n",
        "option cplex_options 'sensitivity';\n",
        "option presolve 0;"
      ],
      "metadata": {
        "id": "f1XCGBqlD5fC"
      },
      "execution_count": null,
      "outputs": []
    },
    {
      "cell_type": "markdown",
      "source": [
        "Corremos el modelo e imprimimos la solución de las variables de decisión y el valor de la función objetivo"
      ],
      "metadata": {
        "id": "JZ3J0GM_TtyI"
      }
    },
    {
      "cell_type": "code",
      "source": [
        "# Creamos el mdoelo y resolvemos el modelo\n",
        "ampl = create_model(ampl, products, ingredients, benefits, disponibility, requirement, volumn, prod_min)\n",
        "ampl.solve()\n",
        "# Imprimimos los resultados\n",
        "TotalBenefit = ampl.get_objective(\"TotalBenefit\")\n",
        "print(\"\\nObjective is:\", TotalBenefit.get().value())\n",
        "ampl.get_data(\"x\").to_pandas()"
      ],
      "metadata": {
        "id": "1wWyUo45__84"
      },
      "execution_count": null,
      "outputs": []
    },
    {
      "cell_type": "markdown",
      "source": [
        "# <font color='056938'> **Análisis de sensibilidad a cambios en los parámetros del modelo** </font>\n",
        "\n",
        "El programa lineal asume que los valores de todos los parámetros son deterministicos. Sin embargo, conscientes de que esto en la un caso real puede no ser siempre cierto, es importante considerar el impacto que tiene en la solución el cambio en los valores de dichos parámetros."
      ],
      "metadata": {
        "id": "p_WP4p6dX7cm"
      }
    },
    {
      "cell_type": "markdown",
      "source": [
        "## <font color='8EC044'> **Relajar y ajustar restricciones** </font>\n",
        "\n",
        "En primer lugar es importante comprender que sucede cuando relajamos una restricción o la hacemos más ajustada. Como se presenta en el siguiente gráfico.\n",
        "\n",
        "![](https://docs.google.com/uc?export=download&id=13CdKyVOhZTej8Q6rCWgq7QsBK6OrRLdg)\n",
        "\n",
        "\n",
        "De manera general podemos concluir que,\n",
        "\n",
        "> Al **relajar** una restricción en un programa lineal el valor óptimo de la función objetivo solo puede mejorar o por lo menos permanecer igual\n",
        "\n",
        "En caso contrario,\n",
        "\n",
        "> Al **ajustar** una restricción en un programa lineal el valor óptimo de la función objetivo solo puede empeorar o cuando más permanecer igual\n",
        "\n",
        "Debemos preguntarnos ahora como puede relajarse o ajustarce una restricción de un progrema lineal. Veamos algunas formas en que esto sucede"
      ],
      "metadata": {
        "id": "uP6kTshT7L68"
      }
    },
    {
      "cell_type": "markdown",
      "source": [
        "### <font color='46B8A9'> **Cambios en el lado derecho de las restricciones** </font>  "
      ],
      "metadata": {
        "id": "KQ0dB4Az-EkT"
      }
    },
    {
      "cell_type": "markdown",
      "source": [
        "Cambios en el lado derecho que relajan la una restricción cuando incrementan o por lo menos conservan igual el número de soluciones que la satisfacen. Siendo así, podriamos decir que\n",
        "\n",
        "> Un **incremeto** del valor del lado derecho de una restriccón de *$\\leq$* o una **reducción** en el lado derecho de una restriccón de $\\geq$ **relajan** la restriccón\n",
        "\n",
        "En el problema base que estamos considerando\n",
        "\n",
        "\\begin{align*}\n",
        "\\text{maximizar} z = &20x_A + 15x_B + 25x_C + 50x_D\\\\\n",
        "&\\text{s.a.} \\\\\n",
        " & \\quad 2x_A + x_B + 3x_C + 2x_D \\leq 60 & \\text{(1)}\\\\\n",
        "& \\quad 3x_A + 2x_B + x_C + 4x_D \\leq 50 & \\text{(2)}\\\\\n",
        "& \\quad x_A + 2x_B + 4x_C + 3x_D \\leq 100 & \\text{(3)}\\\\\n",
        " & \\quad 4x_A + 3x_B + 2x_C + 1x_D \\geq 50 & \\text{(4)}\\\\\n",
        "\\text{No negatividad:} & \\quad x_A \\geq 0, \\, x_B \\geq 0, \\, x_C \\geq 0, \\, x_D \\geq 0\n",
        "\\end{align*}\n",
        "\n",
        "Las restricciones (1), (2), y (3) se relajan incrementando el lado derecho, mientras que la restricción (4) se relaja reduciendo el lado derecho\n"
      ],
      "metadata": {
        "id": "nlObrJQ38zsK"
      }
    },
    {
      "cell_type": "markdown",
      "source": [
        "Veamos por ejemplo, como cambia la función objetivo respecto a cambios en las restricciones de disponibilidad de recursos"
      ],
      "metadata": {
        "id": "Qd1GJk-V4cAy"
      }
    },
    {
      "cell_type": "code",
      "source": [
        "ampl = create_model(ampl, products, ingredients, benefits, disponibility, requirement, volumn, prod_min)\n",
        "values = []\n",
        "change_param = ampl.get_parameter(\"dispon\")\n",
        "# iterate over different values of the parameter\n",
        "for value in range(0, 200):\n",
        "  change_param.set_values({3: value})\n",
        "  ampl.solve()\n",
        "  status = ampl.get_value('solve_result_num')\n",
        "  if status < 99:\n",
        "    values.append((value, TotalBenefit.get().value()))\n",
        "\n",
        "df = pd.DataFrame(values, columns=[\"param_value\", \"obj_function\"])\n",
        "\n",
        "# Create line plot using Plotly Express\n",
        "fig = px.line(df, x='param_value', y='obj_function', title='Changes in RHS parameter')\n",
        "# Update axes labels\n",
        "fig.update_xaxes(title_text='RHS')\n",
        "fig.update_yaxes(title_text='Obj function')\n",
        "\n",
        "# Show plot\n",
        "fig.show()"
      ],
      "metadata": {
        "id": "phL3LiLTAc9S"
      },
      "execution_count": null,
      "outputs": []
    },
    {
      "cell_type": "markdown",
      "source": [
        "Hagamos lo mismo respecto a la restricción de (4)"
      ],
      "metadata": {
        "id": "NndY63-I5mIz"
      }
    },
    {
      "cell_type": "code",
      "source": [
        "ampl = create_model(ampl, products, ingredients, benefits, disponibility, requirement, volumn, prod_min)\n",
        "values = []\n",
        "change_param = ampl.get_parameter(\"prod_min\")\n",
        "print(change_param)\n",
        "# iterate over different values of the parameter\n",
        "for value in range(0, 200):\n",
        "  change_param.set_values([value])\n",
        "  ampl.solve()\n",
        "  status = ampl.get_value('solve_result_num')\n",
        "  if status < 99:\n",
        "    values.append((value, TotalBenefit.get().value()))\n",
        "\n",
        "df = pd.DataFrame(values, columns=[\"param_value\", \"obj_function\"])\n",
        "\n",
        "# Create line plot using Plotly Express\n",
        "fig = px.line(df, x='param_value', y='obj_function', title='Changes in RHS parameter')\n",
        "# Update axes labels\n",
        "fig.update_xaxes(title_text='RHS')\n",
        "fig.update_yaxes(title_text='Obj function')\n",
        "\n",
        "# Show plot\n",
        "fig.show()"
      ],
      "metadata": {
        "id": "RyQJW5Uv5lw7"
      },
      "execution_count": null,
      "outputs": []
    },
    {
      "cell_type": "markdown",
      "source": [
        "Es importante notar que ante cambios en el vector $b$ la solución óptima actual puede dejar de ser factible. Por ello, estariamos interesados en determinar cuál es el intervalo en el cual podría variar cada uno de los valores de $b$"
      ],
      "metadata": {
        "id": "jxpPKYo09YXr"
      }
    },
    {
      "cell_type": "markdown",
      "source": [
        "Debemos encontrar el rango de valores en el que debe encontrase el nuevo valor del lado derecho, $b_k^{'} = b_{k} +Δb_k, Para ello consderamos el sistema de desigualdades.\n",
        "\n",
        "$x_B = B^-{1}\\begin{bmatrix}\n",
        "b_{1}  \\\\\n",
        "b_{k} +Δb_k \\\\\n",
        "...  \\\\\n",
        "b_{m} \\\\\n",
        "\\end{bmatrix} \\geq 0$"
      ],
      "metadata": {
        "id": "tCAd7l50cBBg"
      }
    },
    {
      "cell_type": "markdown",
      "source": [
        "Consideremos el rango de valores en los que debe encontrarse el coeficiente $b_2$ del lado derecho de la segunda restricción"
      ],
      "metadata": {
        "id": "4DpGDsp7dp7S"
      }
    },
    {
      "cell_type": "code",
      "source": [
        "d= sp.symbols('d')\n",
        "B = Matrix(( [1, 3, 2, 0], [2, 1, 4, 0], [2, 4, 3, 1], [3, 2, 1, 0]))\n",
        "b = Matrix([60, 50+d, 100, 50])\n",
        "Binv = B.inv(method=\"LU\")\n",
        "Binv*b"
      ],
      "metadata": {
        "id": "zu4Z9nnB5Swf"
      },
      "execution_count": null,
      "outputs": []
    },
    {
      "cell_type": "markdown",
      "source": [
        "Lo que permite concluir que $\\dfrac{-160}{7}\\leq Δb_2 \\leq 70$, es decir:\n",
        "> La solución conformada por las variables básicas actuales continuará siendo óptima mientras que $\\dfrac{190}{7}\\leq b_2 \\leq 120$"
      ],
      "metadata": {
        "id": "3dNqQhI-yYfJ"
      }
    },
    {
      "cell_type": "code",
      "source": [
        "d= sp.symbols('d')\n",
        "cB = Matrix([15, 25, 50, 0])\n",
        "cNB = Matrix([20])\n",
        "B = Matrix(( [1, 3, 2, 0], [2, 1, 4, 0], [2, 4, 3, 1], [3, 2, 1, 0]))\n",
        "aj = Matrix([2, 3, 1, 4+d])\n",
        "\n",
        "Binv = B.inv(method=\"LU\")\n",
        "cR = cNB - cB.transpose()*B.inv()*aj\n",
        "cR\n"
      ],
      "metadata": {
        "id": "mRW7zmDB-NDG"
      },
      "execution_count": null,
      "outputs": []
    },
    {
      "cell_type": "markdown",
      "source": [
        "#### <font color='46B8A9'> **Ejercicio** </font>\n",
        "\n",
        "Determine el rango de valores en los cuáles debe encontrarse el valor de $b_1$ para que la solución conformada por las variables básicas actuales continue siendo óptima"
      ],
      "metadata": {
        "id": "Q9-v5Cm1cEFS"
      }
    },
    {
      "cell_type": "markdown",
      "source": [
        "Dependiendo del optimizador y el lenguaje de modelación empleado, la información respecto al rango de los valores en lo que pueden variar los coeficientes del lado derecho puede obtenerse automáticamente. En el caso particular de `ampl` la información puede obtenerse asi:"
      ],
      "metadata": {
        "id": "rQ3wk0ZWdcNT"
      }
    },
    {
      "cell_type": "code",
      "source": [
        "# Creamos el mdoelo y resolvemos el modelo\n",
        "ampl = create_model(ampl, products, ingredients, benefits, disponibility, requirement, volumn, prod_min)\n",
        "ampl.solve()\n",
        "# Obtenemos la  información de las restricciones\n",
        "ampl.display('_conname, _con.slack, _con.down,  _con.current, _con.up')\n",
        "\n"
      ],
      "metadata": {
        "id": "2ydHDiQtAh80"
      },
      "execution_count": null,
      "outputs": []
    },
    {
      "cell_type": "markdown",
      "source": [
        "### <font color='46B8A9'> **Cambios en los coeficientes de las restricciones** </font>  \n",
        "\n",
        "Los cambios en los coeficientes de las restricciones pueden afectar no solo la óptimalidad de la solución sino afectar también su factibilidad. De forma general, podría decirse que,\n",
        "\n",
        "> Qué al **disminuir** alguno de los coeficientes en una restricción de **$\\leq$** o al **incrementar** algun coeficiente en una restricción de $\\geq$ el problema es **relajado**\n",
        "\n",
        "Similarmente,\n",
        "\n",
        "> Qué al **incrementar** alguno de los coeficientes en una restricción de **$\\leq$** o al **disminuir** algun coeficiente en una restricción de $\\geq$ el problema es más **ajustado**\n",
        "\n"
      ],
      "metadata": {
        "id": "TGE0nXZUdvig"
      }
    },
    {
      "cell_type": "code",
      "source": [
        "ampl = create_model(ampl, products, ingredients, benefits, disponibility, requirement, volumn, prod_min)\n",
        "values = []\n",
        "change_param = ampl.get_parameter(\"requerim\") # identify the parameter to change\n",
        "# iterate over different values of the parameter\n",
        "for value in np.arange(0, 10.1, 0.1):\n",
        "  change_param.set_values({(3, 'C'): value}) #(2, 'A')\n",
        "  ampl.solve()\n",
        "  status = ampl.get_value('solve_result_num')\n",
        "  if status < 99:\n",
        "    values.append((value, TotalBenefit.get().value()))\n",
        "\n",
        "df = pd.DataFrame(values, columns=[\"param_value\", \"obj_function\"])\n",
        "\n",
        "# Create line plot using Plotly Express\n",
        "fig = px.line(df, x='param_value', y='obj_function', title='Changes in RHS parameter')\n",
        "# Update axes labels\n",
        "fig.update_xaxes(title_text='RHS')\n",
        "fig.update_yaxes(title_text='Obj function')\n",
        "\n",
        "# Show plot\n",
        "fig.show()"
      ],
      "metadata": {
        "id": "wE44verOffXb"
      },
      "execution_count": null,
      "outputs": []
    },
    {
      "cell_type": "markdown",
      "source": [
        "#### <font color='46B8A9'> **Ejercicio** </font>\n",
        "Experimente cambiando el valor de distintos coeficientes de las restricciones? Es igual el comportamiento en todos los casos?"
      ],
      "metadata": {
        "id": "y8mwlCpShvCY"
      }
    },
    {
      "cell_type": "markdown",
      "source": [
        "Es posible notar que el efecto depende de si el  coeficiente que cambia esta asociado a una variable  básica o una variable no básica.\n",
        "\n",
        "> Al cambiar el coeficiente asociado a una **variable no básica** esta puede volverse atractiva para ser ingresada a la base y aunque la solución óptima actual no dejaria de ser factible, si podría dejar de ser óptima"
      ],
      "metadata": {
        "id": "Cvi1GHK7igcx"
      }
    },
    {
      "cell_type": "markdown",
      "source": [
        "Búsquemos los valores para los cuales un cambio en el aporte que el producto 1 hace a la  restricción (4) hace que la solución deje de ser óptima (el producto $x_A$ sea considerado en la mezcla de producción).\n",
        "\n",
        "> $(4+\\Delta a_{41})x_A + 3x_B + 2x_C + 1x_D \\geq 50$\n",
        "\n",
        "Para lo cual resolvemos  la siguiente desigualdad:\n",
        "\n",
        "$\\overline{c}_{A}  = 20 + [15, 25, 50, 0] \\begin{bmatrix}\n",
        "1& 3& 2& 0  \\\\\n",
        "2& 1& 4& 0\\\\\n",
        "2& 4& 3& 1 \\\\\n",
        "3& 2& 1& 0 \\\\\n",
        "\\end{bmatrix}^{-1}\\begin{bmatrix}\n",
        "2  \\\\\n",
        "3 \\\\\n",
        "1  \\\\\n",
        "4 +Δb_4 \\\\\n",
        "\\end{bmatrix}>0$\n",
        "\n",
        "\n"
      ],
      "metadata": {
        "id": "RoVJDstbkdRo"
      }
    },
    {
      "cell_type": "code",
      "source": [
        "d= sp.symbols('d')\n",
        "cB = Matrix([15, 25, 50, 0])\n",
        "cNB = Matrix([20])\n",
        "B = Matrix(( [1, 3, 2, 0], [2, 1, 4, 0], [2, 4, 3, 1], [3, 2, 1, 0]))\n",
        "aj = Matrix([2, 3, 1, 4+d])\n",
        "\n",
        "Binv = B.inv(method=\"LU\")\n",
        "cR = cNB - cB.transpose()*B.inv()*aj\n",
        "cR"
      ],
      "metadata": {
        "id": "M_tWfgl1kcXZ"
      },
      "execution_count": null,
      "outputs": []
    },
    {
      "cell_type": "markdown",
      "source": [
        "Para que la variable $x_A$ sea atractiva su costo reducido debera ser mayor que 0. Es decir, buscamos los valores para los que\n",
        "\n",
        "$4\\Delta a_{41} - \\dfrac{42}{5} > 0\\implies \\Delta a_{41} > \\dfrac{21}{10} $\n",
        "\n",
        "Es decir $a_{41}$ debe ser mayor que 6.1 para que el producto $A$ sea atractivo para ingresar a la base."
      ],
      "metadata": {
        "id": "xYr6XtzulEeo"
      }
    },
    {
      "cell_type": "markdown",
      "source": [
        "Veamos el efecto en el cambio en dicho parámetro"
      ],
      "metadata": {
        "id": "8APjodCDoVHW"
      }
    },
    {
      "cell_type": "code",
      "source": [
        "ampl = create_model(ampl, products, ingredients, benefits, disponibility, requirement, volumn, prod_min)\n",
        "change_param = ampl.get_parameter(\"volumn\")\n",
        "change_param.set_values({\"A\": 6.1})\n",
        "ampl.solve()\n",
        "# Imprimimos los resultados\n",
        "TotalBenefit = ampl.get_objective(\"TotalBenefit\")\n",
        "print(\"\\nObjective is:\", TotalBenefit.get().value())\n",
        "ampl.get_data(\"x\").to_pandas()"
      ],
      "metadata": {
        "id": "P0zWIZf-mifh"
      },
      "execution_count": null,
      "outputs": []
    },
    {
      "cell_type": "markdown",
      "source": [
        "Ahora, en el caso en que cambia el coeficiente de una variable no básica este análisis es usualmente mucho más complejo y dificilmente puede encontrarse análiticamente <font color='46B8A9'> **¿Por qué?** </font>"
      ],
      "metadata": {
        "id": "kVRfVnF_lT2Z"
      }
    },
    {
      "cell_type": "markdown",
      "source": [
        "### <font color='46B8A9'> **Adicionar o eliminar restricciones** </font>  \n",
        "\n",
        "Adicionar o eliminar restricciones cambia la región factible del programa lineal por lo que puede afectar no solo la optimalidad de las restricciones sino también su factibilidad. en geberal\n",
        "\n",
        "> Un programa lineal se **realaja al eliminar restricciones** y se hace más **ajustado al incluir nuevas restricciones**"
      ],
      "metadata": {
        "id": "DlzPwfWKA99U"
      }
    },
    {
      "cell_type": "markdown",
      "source": [
        "## <font color='8EC044'> **Cambios en los coeficientes de la función objetivo** </font>\n",
        "\n",
        "Los cambios en la función objetivo ni relajan ni ajustan la región factible. Sin embargo, pueden tener efectos importantes en la optimalidad de la solución actual. Es posible que un cojunto de variables diferente genere una solución mejor al cambiar alguno de dichos coeficientes. Note, por ejemplo, cómo cambia la función objetivo a medida que cambia el beneficio del producto $A$ en la función objetivo"
      ],
      "metadata": {
        "id": "bK-aeA8WCBuI"
      }
    },
    {
      "cell_type": "code",
      "source": [
        "ampl = create_model(ampl, products, ingredients, benefits, disponibility, requirement, volumn, prod_min)\n",
        "values = []\n",
        "change_param = ampl.get_parameter(\"benefit\")\n",
        "# iterate over different values of the parameter\n",
        "for value in range(0, 100):\n",
        "  change_param.set_values({'A': value})\n",
        "  ampl.solve()\n",
        "  status = ampl.get_value('solve_result_num')\n",
        "  if status < 99:\n",
        "    values.append((value, TotalBenefit.get().value()))\n",
        "\n",
        "df = pd.DataFrame(values, columns=[\"param_value\", \"obj_function\"])\n",
        "\n",
        "# Create line plot using Plotly Express\n",
        "fig = px.line(df, x='param_value', y='obj_function', title='Changes in RHS parameter')\n",
        "# Update axes labels\n",
        "fig.update_xaxes(title_text='Coeficiente función objetivo')\n",
        "fig.update_yaxes(title_text='Obj function')\n",
        "\n",
        "# Show plot\n",
        "fig.show()"
      ],
      "metadata": {
        "id": "NcIwfsWbTnvP"
      },
      "execution_count": null,
      "outputs": []
    },
    {
      "cell_type": "markdown",
      "source": [
        "#### <font color='46B8A9'> **Ejercicio** </font>\n",
        "Use el siguiente script para determinar el valor debería tomar la utilidad generada por el producto 4 de modo que este sea atractivo para considerar en al mezcla de productos"
      ],
      "metadata": {
        "id": "hKp-3SugDSUT"
      }
    },
    {
      "cell_type": "code",
      "source": [
        "# Creamos el mdoelo y resolvemos el modelo\n",
        "ampl = create_model(ampl, products, ingredients, benefits, disponibility, requirement, volumn, prod_min)\n",
        "change_param = ampl.get_parameter(\"benefit\")\n",
        "change_param.set_values({'A': 20})\n",
        "ampl.solve()\n",
        "# Imprimimos los resultados\n",
        "TotalBenefit = ampl.get_objective(\"TotalBenefit\")\n",
        "print(\"\\nObjective is:\", TotalBenefit.get().value())\n",
        "ampl.get_data(\"x\").to_pandas()"
      ],
      "metadata": {
        "id": "toOD5rUrEcKq"
      },
      "execution_count": null,
      "outputs": []
    },
    {
      "cell_type": "markdown",
      "source": [
        "Note que es posible obtener esta información de forma analítica sin tener que recurrir a prueba y error de diferentes valores. Para ello considere que si se hacen cambios en los coeficientes de la función objetivo, solo podría afectarse la optimalidad lo cual se válida con los costos reducidos.\n",
        "\n",
        "$\\overline{c}_{NB}^T  = c_{NB}^T-c_B^T B^{-1}N$\n",
        "\n",
        "> En un problema de maximización la solución seguirá siendo óptima mientras que los costos reducidos continien siendo $\\leq 0$ y dejará de ser óptima en caso contrario\n",
        "\n",
        "similarmente,\n",
        "\n",
        "> En un problema de minimización la solución seguirá siendo óptima mientras que los costos reducidos continuen siendo $\\geq 0$ y dejará de ser óptima en caso contrario\n"
      ],
      "metadata": {
        "id": "9b57JheMKkIA"
      }
    },
    {
      "cell_type": "markdown",
      "source": [
        "Identifiquemos el valor del beneficio $c_A$ asociado al producto A a partir del cuál la solución deja de ser óptima. Para ello resolvemos el siguiente sistema\n",
        "\n",
        "$\\overline{c}_{A}  = (20+\\Delta c_A) + [15, 25, 50, 0] \\begin{bmatrix}\n",
        "1& 3& 2& 0  \\\\\n",
        "2& 1& 4& 0\\\\\n",
        "2& 4& 3& 1 \\\\\n",
        "3& 2& 1& 0 \\\\\n",
        "\\end{bmatrix}^{-1}\\begin{bmatrix}\n",
        "2  \\\\\n",
        "3 \\\\\n",
        "1  \\\\\n",
        "4 \\\\\n",
        "\\end{bmatrix} >0$\n"
      ],
      "metadata": {
        "id": "EQMf3d9FMqUD"
      }
    },
    {
      "cell_type": "code",
      "source": [
        "d= sp.symbols('d')\n",
        "cB = Matrix([15, 25, 50, 0])\n",
        "cNB = Matrix([20+d])\n",
        "B = Matrix(( [1, 3, 2, 0], [2, 1, 4, 0], [2, 4, 3, 1], [3, 2, 1, 0]))\n",
        "aj = Matrix([2, 3, 1, 4])\n",
        "\n",
        "Binv = B.inv(method=\"LU\")\n",
        "cR = cNB - cB.transpose()*B.inv()*aj\n",
        "cR"
      ],
      "metadata": {
        "id": "Er_MMpeWPvI5"
      },
      "execution_count": null,
      "outputs": []
    },
    {
      "cell_type": "markdown",
      "source": [
        "Buscamos los valores para los que\n",
        "\n",
        "$\\Delta c_{A}  > \\dfrac{42}{5} $\n",
        "\n",
        "Es decir $c_{A}$ debe ser mayor que $20 + \\dfrac{42}{5}$ para que el producto $A$ sea atractivo para ingresar a la base."
      ],
      "metadata": {
        "id": "ao6vUIolQJCn"
      }
    },
    {
      "cell_type": "markdown",
      "source": [
        "#### <font color='46B8A9'> **Ejercicio** </font>\n",
        "Encuentre los valores para los que cambiado el beneficio $c_3$ del producto $C$ la solución deja de ser óptima"
      ],
      "metadata": {
        "id": "c3btAnH7TFfJ"
      }
    },
    {
      "cell_type": "markdown",
      "source": [
        "Dependiendo del optimizador y el lenguaje de modelación empleado, la información respecto al rango de los valores en lo que pueden variar los coeficientes de la función objetivo puede obtenerse automáticamente. En el caso particular de `ampl` la información puede obtenerse asi:"
      ],
      "metadata": {
        "id": "edlxXpDfYw39"
      }
    },
    {
      "cell_type": "code",
      "source": [
        "# Creamos el mdoelo y resolvemos el modelo\n",
        "ampl = create_model(ampl, products, ingredients, benefits, disponibility, requirement, volumn, prod_min)\n",
        "ampl.solve()\n",
        "# Obtenemos la  información de las restricciones\n",
        "ampl.display('_var.current, _var.down,_var.current,_var.up')\n",
        "\n"
      ],
      "metadata": {
        "id": "r2gQUsHDYw39"
      },
      "execution_count": null,
      "outputs": []
    },
    {
      "cell_type": "markdown",
      "source": [
        "# <font color='056938'> **Práctica** </font>\n",
        "\n",
        "La compañia **Nutricol** esta interesado en desrrollar una app que permita al usuario crear una dieta balanceada con base en el lstado de posibles ingredientes y requerimientos nutricionales específicos. Para ello ha contratado nuestros servicios para desrrollar un modelo que encuentre una dieta diaria de mínimo costo\n",
        "\n"
      ],
      "metadata": {
        "id": "h0sMzcN2bdXC"
      }
    },
    {
      "cell_type": "markdown",
      "source": [
        "## <font color='8EC044'> **Verbalización del modelo** </font>\n",
        "Consideraremos una versión bastante simplificada del problema. Para ello definamos los elementos\n",
        "\n"
      ],
      "metadata": {
        "id": "JpTpdq81dJCf"
      }
    },
    {
      "cell_type": "markdown",
      "source": [
        "#### <font color='46B8A9'> **Conjuntos** </font>\n",
        "\n",
        "$I$: conjunto de ingredientes\n",
        "\n",
        "$N$ conjunto de nutrientes\n",
        "\n",
        "Note que el conjunto de ingredientes podria a su ve subdividirse en tipos de ingredientes como carnes, verduras, granos y frutas."
      ],
      "metadata": {
        "id": "_odidTvtdXOn"
      }
    },
    {
      "cell_type": "markdown",
      "source": [
        "#### <font color='46B8A9'> **Parámetros** </font>\n",
        "\n",
        "Debemos cosiderar los siguientes parametros\n",
        "\n",
        "* costo por kilo de cada ingreiente\n",
        "* aporte nutricional (en cada nutriente) de cada ingrediente\n",
        "* catindad mínima de cada tipo de nutriente\n",
        "* cantidad máxima de cada tipo de nutriente\n",
        "* Debe existir proporcionalidad entre cada tipo de nutrientes (ej, la carne no debe excer más del 30% del menú)"
      ],
      "metadata": {
        "id": "3mWRkGFUmSQG"
      }
    },
    {
      "cell_type": "markdown",
      "source": [
        "#### <font color='46B8A9'> **Decisiones** </font>\n",
        "Debemos decidir la cantidad de cada alimento que debe incluirse en el menú diario"
      ],
      "metadata": {
        "id": "i6MPOygzm_Ur"
      }
    },
    {
      "cell_type": "markdown",
      "source": [
        "#### <font color='46B8A9'> **Restricciones** </font>\n",
        "La decisión esta sujeta a que:\n",
        "* se cumplan los requisitos mínimos de cada nutriente\n",
        "* se cumplan los requisitos máximos de cada nutriente\n",
        "* No se excedan las cantidades máximas por tipos de nutrientes\n"
      ],
      "metadata": {
        "id": "ZJrtaKULnNVa"
      }
    },
    {
      "cell_type": "markdown",
      "source": [
        "#### <font color='46B8A9'> **Objetivo** </font>\n",
        "Minimizar el costo total del menú"
      ],
      "metadata": {
        "id": "eJmHghHun7ah"
      }
    },
    {
      "cell_type": "code",
      "source": [],
      "metadata": {
        "id": "lNfL2isLdIfx"
      },
      "execution_count": null,
      "outputs": []
    },
    {
      "cell_type": "markdown",
      "source": [
        "\n",
        "| Variable | Descripción                    |\n",
        "|----------|--------------------------------|\n",
        "| $I$      | Conjunto de ingredientes       |\n",
        "| $S$      | Conjunto de tipos de ingredientes  |\n",
        "| $N$      | Conjunto de nutrientes         |\n",
        "\n",
        "\n",
        "| Parámetro | Descripción |\n",
        "|-----------|-------------|\n",
        "| $c_i$     | Costo por kilogramo del ingrediente $i \\in I$. |\n",
        "| $n_{ij}$  | Aporte nutricional del ingrediente $i \\in I$ al nutriente $j \\in N$. |\n",
        "| $amin_j$   | Cantidad mínima requerida del nutriente $j \\in N$. |\n",
        "| $amax_j$   | Cantidad máxima permitida del nutriente $j \\in N$. |\n",
        "| $p_{k}$  | Proporción máxima de tipo de ingrediente $k$ en la mezcla. |\n",
        "| $s_{ik}$  | Indicador binario que define si el ingrediente $i$ es del tipo $k$ |\n",
        "\n",
        "La variable de decisión\n",
        "> $x_i$: Cantidad de kilogramos del ingrediente $i \\in I$ a incluir en el menú diario.\n",
        "\n",
        "\n"
      ],
      "metadata": {
        "id": "jrshRvz2oSqg"
      }
    },
    {
      "cell_type": "markdown",
      "source": [
        "## <font color='8EC044'> **Formulación del modelo** </font>\n",
        "\n",
        "\n",
        "\\begin{align}\n",
        "  \\text{Minimizar} \\quad \\sum_{i \\in I} c_i x_i\\\\\n",
        "  \\text{s.a.}\\\\\n",
        "    \\sum_{i \\in I} n_{ij} x_i &\\geq \\text{amin}_j & \\forall j \\in N \\\\\n",
        "    \\sum_{i \\in I} n_{ij} x_i &\\leq \\text{amax}_j & \\forall j \\in N \\\\\n",
        "    \\frac{\\sum_{i \\in I} s_{ik}x_i}{\\sum_{i \\in I} x_i} &\\leq p_{ij} & \\forall k \\in S, \\forall i \\in I\\\\\n",
        "    x_i &\\geq 0 \\quad \\forall i \\in I\n",
        "\\end{align}\n"
      ],
      "metadata": {
        "id": "vsEXUY4ysRYu"
      }
    },
    {
      "cell_type": "markdown",
      "source": [
        "## <font color='8EC044'> **Implementación del modelo** </font>"
      ],
      "metadata": {
        "id": "cig49F6hsXd6"
      }
    },
    {
      "cell_type": "markdown",
      "source": [
        "Creamos el objeto `ampl`"
      ],
      "metadata": {
        "id": "GhZahlou5JKG"
      }
    },
    {
      "cell_type": "code",
      "source": [
        "ampl = tools.ampl_notebook(\n",
        "    modules=[\"highs\", \"cbc\", \"gurobi\", \"cplex\"], # Los optimizadores que vamos a usar\n",
        "    license_uuid=\"default\") # license to use (Aqui hay que poner su licencia :-;\n"
      ],
      "metadata": {
        "id": "p5xh6TPHw4dG"
      },
      "execution_count": null,
      "outputs": []
    },
    {
      "cell_type": "markdown",
      "source": [
        "Definimos una función que cree el modelo"
      ],
      "metadata": {
        "id": "_xfpfPTL5NO9"
      }
    },
    {
      "cell_type": "code",
      "source": [
        "def create_model(ampl, ingredients, types_ing, nutrients, cost, contrib, min_nutri, max_nutri, pmix, ind_type):\n",
        "  #Conjuntos\n",
        "  ampl.eval(\n",
        "    \"\"\" reset;\n",
        "    set I;   # Conjunto de ingredientes\n",
        "    set S;   # Conjunto de tipos de ingredientes\n",
        "    set N;   # Conjunto de nutrientes\n",
        "\n",
        "    param cost{i in I};     # Costo por kilogramo del ingrediente i\n",
        "    param contrib{i in I, j in N};  # Aporte nutricional del ingrediente i al nutriente j\n",
        "    param min_nutri{j in N};  # Cantidad mínima requerida del nutriente j\n",
        "    param max_nutri{j in N};  # Cantidad máxima permitida del nutriente j\n",
        "    param pmix{k in S};     # Proporción máxima de tipo de ingrediente k en la mezcla\n",
        "    param ind_type{i in I, k in S};  # Indicador binario que define si el ingrediente i es del tipo k\n",
        "\n",
        "    var x{i in I} >= 0;  # Cantidad de kilogramos del ingrediente i a incluir en el menú diario\n",
        "\n",
        "    minimize Total_cost:\n",
        "        sum{i in I} cost[i] * x[i];\n",
        "\n",
        "    subject to min_nutrient{j in N}:\n",
        "        sum{i in I} contrib[i, j] * x[i] >= min_nutri[j];\n",
        "\n",
        "    subject to max_nutrient{j in N}:\n",
        "        sum{i in I} contrib[i, j] * x[i] <= max_nutri[j];\n",
        "\n",
        "    subject to mix_proportion{k in S}:\n",
        "        sum{i in I} ind_type[i, k] * x[i] - sum{i in I} x[i]*pmix[k] <= 0;\"\"\")\n",
        "\n",
        "  # instantiate the model\n",
        "  ampl.set[\"I\"] = ingredients\n",
        "  ampl.set[\"S\"] = types_ing\n",
        "  ampl.set[\"N\"] = nutrients\n",
        "  ampl.param[\"cost\"] = cost\n",
        "  ampl.param[\"contrib\"] = contrib\n",
        "  ampl.param[\"min_nutri\"] = min_nutri\n",
        "  ampl.param[\"max_nutri\"] = max_nutri\n",
        "  ampl.param[\"pmix\"] = pmix\n",
        "  ampl.param[\"ind_type\"] = ind_type\n",
        "\n",
        "  return ampl"
      ],
      "metadata": {
        "id": "Cl2b53JqWX33"
      },
      "execution_count": null,
      "outputs": []
    },
    {
      "cell_type": "markdown",
      "source": [
        "Consideramos la instancia de datos del modelo"
      ],
      "metadata": {
        "id": "f8phSzrl5Q7e"
      }
    },
    {
      "cell_type": "code",
      "source": [
        "# Datos de ejemplo con nombres reales\n",
        "ingredients = [\"Pollo\", \"Res\", \"Pescado\", \"Tomate\", \"Brócoli\", \"Lechuga\", \"Arroz\", \"Frijol\", \"Lenteja\", \"Aguacate\", \"Mango\", \"Banano\"]\n",
        "types_ing = [\"Carne\", \"Verduras\", \"Granos\", \"Frutas\"]\n",
        "nutrients = ['Proteína', 'Grasa', 'Carbohidratos', 'Fibra', 'Vitaminas']\n",
        "\n",
        "# Costo por kilogramo del ingrediente por kilo (miles de pesos)\n",
        "cost = {\n",
        "    \"Pollo\": 15.6, \"Res\": 18.4, \"Pescado\": 19, \"Tomate\": 3.8, \"Brócoli\": 10.4, \"Lechuga\": 2.8,\n",
        "    \"Arroz\": 5.1, \"Frijol\": 7.9, \"Lenteja\": 14.8, \"Aguacate\": 10.4, \"Mango\": 7.2, \"Banano\": 2.7\n",
        "}\n",
        "\n",
        "# Aporte nutricional del ingrediente al nutriente (en unidades por kg)\n",
        "contrib = {\n",
        "    ('Pollo', 'Proteína'): 25, ('Pollo', 'Grasa'): 10, ('Pollo', 'Carbohidratos'): 0, ('Pollo', 'Fibra'): 0, ('Pollo', 'Vitaminas'): 1,\n",
        "    ('Res', 'Proteína'): 20, ('Res', 'Grasa'): 15, ('Res', 'Carbohidratos'): 0, ('Res', 'Fibra'): 0, ('Res', 'Vitaminas'): 1,\n",
        "    ('Pescado', 'Proteína'): 22, ('Pescado', 'Grasa'): 8, ('Pescado', 'Carbohidratos'): 0, ('Pescado', 'Fibra'): 0, ('Pescado', 'Vitaminas'): 2,\n",
        "    ('Tomate', 'Proteína'): 1, ('Tomate', 'Grasa'): 0, ('Tomate', 'Carbohidratos'): 5, ('Tomate', 'Fibra'): 2, ('Tomate', 'Vitaminas'): 15,\n",
        "    ('Brócoli', 'Proteína'): 3, ('Brócoli', 'Grasa'): 0, ('Brócoli', 'Carbohidratos'): 5, ('Brócoli', 'Fibra'): 10, ('Brócoli', 'Vitaminas'): 20,\n",
        "    ('Lechuga', 'Proteína'): 1, ('Lechuga', 'Grasa'): 0, ('Lechuga', 'Carbohidratos'): 2, ('Lechuga', 'Fibra'): 3, ('Lechuga', 'Vitaminas'): 10,\n",
        "    ('Arroz', 'Proteína'): 6, ('Arroz', 'Grasa'): 1, ('Arroz', 'Carbohidratos'): 80, ('Arroz', 'Fibra'): 4, ('Arroz', 'Vitaminas'): 2,\n",
        "    ('Frijol', 'Proteína'): 8, ('Frijol', 'Grasa'): 1, ('Frijol', 'Carbohidratos'): 60, ('Frijol', 'Fibra'): 8, ('Frijol', 'Vitaminas'): 3,\n",
        "    ('Lenteja', 'Proteína'): 10, ('Lenteja', 'Grasa'): 1, ('Lenteja', 'Carbohidratos'): 50, ('Lenteja', 'Fibra'): 15, ('Lenteja', 'Vitaminas'): 4,\n",
        "    ('Aguacate', 'Proteína'): 2, ('Aguacate', 'Grasa'): 15, ('Aguacate', 'Carbohidratos'): 8, ('Aguacate', 'Fibra'): 7, ('Aguacate', 'Vitaminas'): 10,\n",
        "    ('Mango', 'Proteína'): 1, ('Mango', 'Grasa'): 0, ('Mango', 'Carbohidratos'): 20, ('Mango', 'Fibra'): 3, ('Mango', 'Vitaminas'): 30,\n",
        "    ('Banano', 'Proteína'): 1, ('Banano', 'Grasa'): 0, ('Banano', 'Carbohidratos'): 30, ('Banano', 'Fibra'): 2, ('Banano', 'Vitaminas'): 20\n",
        "}\n",
        "\n",
        "\n",
        "# Cantidad mínima requerida del nutriente (en unidades)\n",
        "min_nutri = {'Proteína': 50, 'Grasa': 30, 'Carbohidratos': 50, 'Fibra': 25, 'Vitaminas': 10}\n",
        "\n",
        "# Cantidad máxima permitida del nutriente (en unidades)\n",
        "max_nutri = {'Proteína': 150, 'Grasa': 50, 'Carbohidratos': 200, 'Fibra': 50, 'Vitaminas': 30}\n",
        "\n",
        "# Proporción máxima de tipo de ingrediente en la mezcla\n",
        "pmix = {\"Carne\": 0.4, \"Verduras\": 0.3, \"Granos\": 0.2, \"Frutas\": 0.5}\n",
        "\n",
        "# Indicador binario que define si el ingrediente es del tipo k\n",
        "ind_type = {(ing, ing_type):0 for ing in ingredients for ing_type in types_ing}\n",
        "ind_type_sparce = {\n",
        "    (\"Pollo\", \"Carne\"): 1, (\"Res\", \"Carne\"): 1, (\"Pescado\", \"Carne\"): 1,\n",
        "    (\"Tomate\", \"Verduras\"): 1, (\"Brócoli\", \"Verduras\"): 1, (\"Lechuga\", \"Verduras\"): 1,\n",
        "    (\"Arroz\", \"Granos\"): 1, (\"Frijol\", \"Granos\"): 1, (\"Lenteja\", \"Granos\"): 1,\n",
        "    (\"Aguacate\", \"Frutas\"): 1, (\"Mango\", \"Frutas\"): 1, (\"Banano\", \"Frutas\"): 1}\n",
        "ind_type.update(ind_type_sparce)\n",
        "\n"
      ],
      "metadata": {
        "id": "o3VFG5HWt27V"
      },
      "execution_count": null,
      "outputs": []
    },
    {
      "cell_type": "markdown",
      "source": [
        "Definimos algunos parámetros para el optimizador"
      ],
      "metadata": {
        "id": "oOIsCfVH5Ubd"
      }
    },
    {
      "cell_type": "code",
      "source": [
        "%%ampl_eval\n",
        "option solver cplex;\n",
        "option cplex_options 'sensitivity';\n",
        "option presolve 0;"
      ],
      "metadata": {
        "id": "cu4BQL4zxE61"
      },
      "execution_count": null,
      "outputs": []
    },
    {
      "cell_type": "markdown",
      "source": [
        "Creamos el modelo, resolvemos e imprimimos la solución"
      ],
      "metadata": {
        "id": "0I9_DS3h5bq5"
      }
    },
    {
      "cell_type": "code",
      "source": [
        "ampl = create_model(ampl, ingredients, types_ing, nutrients, cost, contrib, min_nutri, max_nutri, pmix, ind_type)\n",
        "ampl.solve()\n",
        "# Imprimimos los resultados\n",
        "Total_cost = ampl.get_objective(\"Total_cost\")\n",
        "print(\"\\nObjective is:\", Total_cost.get().value())\n",
        "ampl.get_data(\"x\").to_pandas()"
      ],
      "metadata": {
        "id": "N80UwLwQ37Em"
      },
      "execution_count": null,
      "outputs": []
    },
    {
      "cell_type": "markdown",
      "source": [
        "## <font color='8EC044'> **Análisis de sensibilidad** </font>\n",
        "\n",
        "Desarrolle el analisis de sendibilidad respecto a los parámetros del modelo interpretando sus resultados de acuerdo al contexto del problema"
      ],
      "metadata": {
        "id": "FcH5jtaj6aeo"
      }
    },
    {
      "cell_type": "code",
      "source": [
        "# Escriba aquí su respuesta"
      ],
      "metadata": {
        "id": "Ub0I8WTP6qw_"
      },
      "execution_count": null,
      "outputs": []
    },
    {
      "cell_type": "markdown",
      "source": [
        "# <font color='056938'> **Referencias** </font>"
      ],
      "metadata": {
        "id": "p8Rf44VF6At8"
      }
    },
    {
      "cell_type": "markdown",
      "source": [
        "RARDIN, Ronald L. Optimization in operations research. Upper Saddle River, NJ: Prentice Hall, 1998. Chapter 6"
      ],
      "metadata": {
        "id": "B6pNcAfGGCTw"
      }
    }
  ]
}