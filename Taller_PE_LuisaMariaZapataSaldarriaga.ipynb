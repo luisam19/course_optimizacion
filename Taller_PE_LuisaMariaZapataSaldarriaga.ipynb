{
  "nbformat": 4,
  "nbformat_minor": 0,
  "metadata": {
    "colab": {
      "private_outputs": true,
      "provenance": [],
      "include_colab_link": true
    },
    "kernelspec": {
      "name": "python3",
      "display_name": "Python 3"
    },
    "language_info": {
      "name": "python"
    }
  },
  "cells": [
    {
      "cell_type": "markdown",
      "metadata": {
        "id": "view-in-github",
        "colab_type": "text"
      },
      "source": [
        "<a href=\"https://colab.research.google.com/github/luisam19/course_optimizacion/blob/main/Taller_PE_LuisaMariaZapataSaldarriaga.ipynb\" target=\"_parent\"><img src=\"https://colab.research.google.com/assets/colab-badge.svg\" alt=\"Open In Colab\"/></a>"
      ]
    },
    {
      "cell_type": "markdown",
      "source": [
        "# <font color='056938'> **Requerimientos iniciales -** </font> </font> <font color='8EC044'> **Instalación de librerias** </font>"
      ],
      "metadata": {
        "id": "upa3dZQbGpPm"
      }
    },
    {
      "cell_type": "code",
      "execution_count": null,
      "metadata": {
        "id": "AJpBlYp2C6HB"
      },
      "outputs": [],
      "source": [
        "!pip install pyomo\n",
        "!pip install highspy # Agregué un nuevo solver\n",
        "!apt-get install -y -qq glpk-utils"
      ]
    },
    {
      "cell_type": "code",
      "source": [
        "import numpy as np\n",
        "import random as rand\n",
        "rand.seed(10)\n",
        "\n",
        "import pyomo.environ as pyo\n",
        "# solver = pyo.SolverFactory('glpk')\n",
        "solver = pyo.SolverFactory('appsi_highs') # activé el nuevo solver"
      ],
      "metadata": {
        "id": "HwV98KyiT-C5"
      },
      "execution_count": null,
      "outputs": []
    },
    {
      "cell_type": "markdown",
      "source": [
        "# <font color='056938'> **Problemas de corte y enmpaquetamiento  en dos dimensiones**  </font>\n",
        "\n"
      ],
      "metadata": {
        "id": "7NF1HrE5uDCJ"
      }
    },
    {
      "cell_type": "markdown",
      "source": [
        "Los problemas de corte (*cut*) y empaquetamiento (*packing*) bidimensionales (rectangulares) modelan una gran cantidad de aplicaciones industriales relevantes. En la primera clase de problemas, un conjunto de objetos rectangulares debe ser cortado de un conjunto de unidades de láminas rectangulares, mientras que en la segunda clase, un conjunto de objetos rectangulares debe ser embalado en un conjunto de contenedores rectangulares. Los dos problemas están fuertemente relacionados, en el sentido de que cortar un objeto de una unidad de stock es prácticamente equivalente a embalar un objeto en un contenedor.\n",
        "\n",
        "Consideraremos la variante más estudiada de estos problemas, donde los bordes de los objetos deben ser paralelos a los de la láminas  (corte y embalaje rectangulares ortogonales). Sea $L = (W, H)$ una lámina  rectangular de ancho $W ∈ Z^+$ y alto $H ∈ Z^+$, e $I$ un conjunto de piezas rectangulares, donde cada pieza $i ∈ I$ tiene un ancho $w_i ∈ Z^+$ y una altura $h_i ∈ Z^+$ (con $w_i ≤ W$ y $h_i ≤ H$). Un corte de $I' ⊆ I$ en $L$ se puede describir como una función $F: I' → Z^2_+$ que asigna a cada objeto $i ∈ I'$ un par de coordenadas $F(i) = (x_i, y_i)$, tal que:\n",
        ">  $x_i ∈ {0, . . . , W − wi }$ y $y_i ∈ {0, . . . , H − hi }$ para $i ∈ I'$\n",
        "\n",
        ">$[x_i, x_i + w_i) ∩ [x_j, x_j + w_j) = ∅$  ó $[y_i, y_i + h_i) ∩ [y_j, y_j + h_j) = ∅ $ para  $i, j ∈ I', i ≠ j$.\n",
        "\n",
        "\n",
        "En esta representación, la lámina se encuentra en un plano cartesiano con sus bordes paralelos a los ejes y su esquina inferior izquierda en el origen. Las coordenadas $F(i) = (x_i, y_i)$ representan la posición donde se coloca la esquina inferior izquierda de cada $i ∈ I$. Las restricciones (1) imponen que cada elemento esté completamente dentro del contenedor, mientras que las restricciones (2) prohíben la superposición entre pares de elementos. Las restricciones (1) y (2) imponen que los elementos tengan una orientación fija (es decir, no se pueden rotar).\n",
        "\n"
      ],
      "metadata": {
        "id": "9P_Pd5dmWFZB"
      }
    },
    {
      "cell_type": "markdown",
      "source": [
        "## <font color='8EC044'> **2D-CSP:** </font> <font color='056938'> **Problema de corte en dos dimensiones** </font>\n",
        "\n",
        "De manera particular, el problema de corte bidimensional (2D-CSP) puede definirse como:\n",
        "> Dado un número ilimitado de láminas idénticas y un conjunto $I$ de elementos, donde cada elemento está asociado con una demanda $d_i ∈ Z^+$ (el número mínimo de copias a ser cortadas), determinar el número mínimo de láminas necesarias para cortar todas las demandas.\n",
        "\n",
        "El Problema de empaquetado de contenedores bidimensional (**2D-BPP**) es el caso especial en el que $d_i = 1$, para todo $i ∈ I$."
      ],
      "metadata": {
        "id": "5BSDcPvDVPXg"
      }
    },
    {
      "cell_type": "markdown",
      "source": [
        "\n",
        "### <font color='8EC044'> **Instancia de prueba** </font>\n",
        "\n",
        "Usaremos algunas de las instancias del problema descritas en `2DPackLib`  (Iori, M., et al, 2022), las cuales siguen la siguiente estructura:\n",
        "\n",
        "\n",
        "\n",
        "```\n",
        "m\n",
        "W H\n",
        "i w_i h_i d_i b_i p_i (for each i=1,...,m)\n",
        "```\n",
        "\n",
        "Dónde:\n",
        "\n",
        "| Variable | Descripción                                     |\n",
        "|----------|-------------------------------------------------|\n",
        "| m        | Número de elementos                             |\n",
        "| W        | Ancho de la lámina                            |\n",
        "| H        | Altura de la lámina  |\n",
        "| i        | ID del elemento                                 |\n",
        "|$w_i$      | Ancho del elemento i                            |\n",
        "| $h_i$      | Altura del elemento i                           |\n",
        "| $d_i$      | Demanda del elemento i (número mínimo de copias)|\n",
        "| $b_i$      | Número máximo de copias del elemento i         |\n",
        "| $p_i$      | Ganancia del elemento i                         |\n",
        "\n",
        "Los dos ultimos elementos ($b_i$ y $p_i$) no son de relevancia para nuestro caso\n",
        "\n",
        "\n",
        "La siguiente linea de código carga las instancaias `[A2.ins2D, A10.ins2D, A15.ins2D, A18.ins2D, A25.ins2D] `"
      ],
      "metadata": {
        "id": "brnK38ECUACR"
      }
    },
    {
      "cell_type": "code",
      "source": [
        "!gdown 19wYHUwIPlcwX7CypH1ArphAQFmKrUJi3\n",
        "!gdown 1Gqnq6iHY5zWwvJkeHrpk0ycJ0g_hloz2\n",
        "!gdown 1lQ3S-HJ-fhnsT50-KMtT8VbYTrlhwDd_\n",
        "!gdown 12iMi0IrBUh-ALyhY3_HNzZA5WqI855xH\n",
        "!gdown 1nq2bfzGawhG4WtpjvUXxIgrl50JUQqVH"
      ],
      "metadata": {
        "id": "2hl1pR4M2Hd9"
      },
      "execution_count": null,
      "outputs": []
    },
    {
      "cell_type": "markdown",
      "source": [
        "Por su parte, la siguiente función carga los datos la instancia identificada por su `name`"
      ],
      "metadata": {
        "id": "rVnWQwmy3agG"
      }
    },
    {
      "cell_type": "code",
      "source": [
        "def read_data(name):\n",
        "  with open(name, 'r') as file:\n",
        "    orders = []\n",
        "    for line in file:\n",
        "        row = [int(value) for value in line.split()]\n",
        "        orders.append(row[:4])\n",
        "    m = orders.pop(0)[0]\n",
        "    roll = orders.pop(0)\n",
        "    W = roll[0]\n",
        "    H = roll[1]\n",
        "\n",
        "  return m, W, H, orders"
      ],
      "metadata": {
        "id": "YuxPvM9o3il1"
      },
      "execution_count": null,
      "outputs": []
    },
    {
      "cell_type": "markdown",
      "source": [
        "Por ejemplo, leeremos los datos de la instancia `A15.ins2D`"
      ],
      "metadata": {
        "id": "vHuakYHn9xMW"
      }
    },
    {
      "cell_type": "code",
      "source": [
        "m, W, H, orders = read_data(\"A18.ins2D\")\n",
        "print(f'La instancia considera cortar piezas de {m} diferentes tamaños diferentes usando láminas de ancho {W} y altura {H}')\n",
        "orders\n"
      ],
      "metadata": {
        "id": "ZB_Ey9qu9xx9"
      },
      "execution_count": null,
      "outputs": []
    },
    {
      "cell_type": "code",
      "source": [
        "(2357*935*28+2117*775*8+303*486+ 303*386)/2750*1220"
      ],
      "metadata": {
        "id": "qrnYlLGEtWiw"
      },
      "execution_count": null,
      "outputs": []
    },
    {
      "cell_type": "markdown",
      "source": [
        "## <font color='8EC044'> **Punto 1:** </font> <font color='056938'> **Formulación** </font>\n",
        "\n",
        "* Proponga una formulación matemática del problema descrito\n",
        "* Describa los *pro* y *contras* del modelo propuesto  \n",
        "* Implemente el modelo propuesto y utilicelo para dar solución a algunas de las instancias descargadas."
      ],
      "metadata": {
        "id": "CmramJaGCMDu"
      }
    },
    {
      "cell_type": "markdown",
      "source": [
        "# The two-dimensional bin packing problem with variable bin sizes and costs\n",
        "\n",
        "### Conjuntos\n",
        "- $I = \\{1, \\ldots, n\\} $: Conjunto de ítems rectangulares.\n",
        "- $K = \\{1, \\ldots, m\\} $: Conjunto de tipos de lámina disponibles.\n",
        "\n",
        "### Variables de Decisión\n",
        "- $l_{i,j} $: Variable binaria que vale 1 si el ítem $i$ está a la izquierda del ítem $j$.\n",
        "- $b_{ij} $: Variable binaria que vale 1 si el ítem $i$ está debajo del ítem $j$.\n",
        "- $f_{ik} $: Variable binaria que vale 1 si el ítem $i$ está ubicado en el contenedor tipo $k$.\n",
        "- $z_k $: Variable binaria que vale 1 si se utiliza al menos un contenedor tipo $k$.\n",
        "- $(x_i, y_i) $: Coordenadas de la esquina inferior izquierda del ítem $i$.\n",
        "\n",
        "### Parámetros\n",
        "- $w_i$: Ancho del ítem $i$.\n",
        "- $h_i$: Altura del ítem $i$.\n",
        "- $W$: Ancho del contenedor\n",
        "- $H$: Altura del contenedor\n",
        "\n",
        "### Formulación del Modelo\n",
        "El objetivo es minimizar el costo total de los laminaes utilizados:\n",
        "\n",
        "$\n",
        "\\min \\sum_{k=1}^m z_k\n",
        "$\n",
        "\n",
        "Sujeto a las siguientes restricciones:\n",
        "\n",
        "1. **Restricción de no superposición:**\n",
        "\n",
        "   $\n",
        "   l_{i,j} + l_{j,i} + b_{ij} + b_{ji} + (1 - f_{ik}) + (1 - f_{jk}) \\geq 1, \\quad \\forall i, j \\in R, \\, i < j, \\, k \\in K\n",
        "   $\n",
        "\n",
        "2. **Ubicación relativa de los ítems:**\n",
        "\n",
        "   $x_i- x_j + Wl_ij <= W - w_i $\n",
        "   $\n",
        "  y_i- y_j + Wb_ij <= H - h_i\n",
        "   $\n",
        "\n",
        "3. **No exceder los límites del lamina:**\n",
        "\n",
        "   $\n",
        "   x_i <= W_k -w_i + (1-f_ik) W\n",
        "   $\n",
        "   \n",
        "   $\n",
        "   Y_i <= H_k -h_i + (1-f_ik) H\n",
        "   $\n",
        "\n",
        "4. **Cada ítem debe ser colocado en algún lamina:**\n",
        "\n",
        "   $\n",
        "   \\sum_{k=1}^m f_{ik} >= 1, \\quad \\forall i \\in R\n",
        "   $\n",
        "\n",
        "5. **Uso de los laminaes:**\n",
        "\n",
        "   $\n",
        "    f_{ik} \\leq z_k, \\quad \\forall k \\in K\n",
        "   $\n",
        "\n",
        "### Condiciones sobre las Variables\n",
        "\n",
        "- $i_{j}, b_{ij} \\in \\{0, 1\\}, \\quad \\forall i, j \\in R $\n",
        "- $f_{ik} \\in \\{0, 1\\}, \\quad \\forall i \\in R, \\, k \\in K $\n",
        "- $x_i, y_i \\geq 0, \\quad \\forall i \\in R $\n",
        "- $z_k \\in \\{0, 1\\}, \\quad \\forall k \\in K $\n",
        "\n",
        "Con esta formulación se busca empaquetar todos los ítems en los laminaes disponibles de manera que el costo total sea mínimo, respetando las restricciones de no superposición y los límites de los laminaes.\n",
        "\n",
        "### **pros**\n",
        "\n",
        "- La utilización de coordenadas para la esquina inferior izquierda de cada ítem permite un control preciso sobre la ubicación de cada uno dentro de los contenedores.\n",
        "- La inclusión de múltiples tipos de láminas con diferentes tamaños y costos proporciona flexibilidad, permitiendo una mejor adaptación a las necesidades específicas del problema.\n",
        "- El modelo está diseñado para minimizar el costo total de los láminas utilizados, lo que puede ser particularmente beneficioso en industrias donde los costos de materiales son altos.\n",
        "\n",
        "### **contras**\n",
        "\n",
        "- El modelo involucra muchas variables binarias y continuas, lo que puede hacer que la resolución del problema sea computacionalmente intensiva, especialmente para grandes conjuntos de ítems y contenedores.\n",
        "- La eficiencia del modelo depende en gran medida de la precisión de los parámetros de entrada, como dimensiones de los ítems y contenedores, así como los costos asociados.\n",
        "- Las restricciones sobre la ubicación relativa de los ítems pueden ser demasiado restrictivas en algunos casos, limitando las soluciones posibles y potencialmente incrementando el tiempo de cómputo."
      ],
      "metadata": {
        "id": "jQreQTB7rNhR"
      }
    },
    {
      "cell_type": "code",
      "source": [
        "from pyomo.environ import ConcreteModel, Var, Objective, Constraint, SolverFactory, RangeSet, Binary, NonNegativeReals\n",
        "\n",
        "def create_model(m, W, H, orders):\n",
        "    model = ConcreteModel()\n",
        "\n",
        "    # Conjuntos\n",
        "    n = len(orders)\n",
        "    # model.I = RangeSet(1, n)\n",
        "    # model.K = RangeSet(1, 50)\n",
        "\n",
        "    pieces = []\n",
        "    for order in orders:\n",
        "        for _ in range(order[3]):  # order[3] es la demanda\n",
        "            pieces.append((order[1], order[2]))  # order[1] es el ancho, order[2] es el alto\n",
        "\n",
        "    num_pieces = len(pieces)  # Total number of pieces to place\n",
        "    items = range(1, num_pieces + 1)\n",
        "    sheets = range(1, num_pieces + 1)\n",
        "\n",
        "    # Parámetros\n",
        "    model.I = RangeSet(1, num_pieces )\n",
        "    model.K = RangeSet(1, num_pieces )\n",
        "\n",
        "    model.w = {i: pieces[i-1][0] for i in model.I}\n",
        "    model.h = {i: pieces[i-1][1] for i in model.I}\n",
        "    model.W = W\n",
        "    model.H = H\n",
        "\n",
        "    # Variables de decisión\n",
        "    model.x = Var(model.I, domain=NonNegativeReals)\n",
        "    model.y = Var(model.I, domain=NonNegativeReals)\n",
        "    model.z = Var(model.K, domain=Binary)\n",
        "    model.l = Var(model.I, model.I, domain=Binary)\n",
        "    model.b = Var(model.I, model.I, domain=Binary)\n",
        "    model.f = Var(model.I, model.K, domain=Binary)\n",
        "\n",
        "    # Función objetivo\n",
        "    def objective_rule(model):\n",
        "        return sum(model.z[k] for k in model.K)\n",
        "    model.obj = Objective(rule=objective_rule, sense='minimize')\n",
        "\n",
        "    # Restricciones\n",
        "\n",
        "    #No superposición\n",
        "    def no_overlap_rule(model, i, j, k):\n",
        "      if i < j:\n",
        "          return model.l[i, j] + model.l[j, i] + model.b[i, j] + model.b[j, i] + (1 - model.f[i, k]) + (1 - model.f[j, k]) >= 1\n",
        "      else:\n",
        "          return Constraint.Skip  # Omite la restricción cuando i >= j\n",
        "    model.no_overlap_constraint = Constraint(model.I, model.I, model.K, rule=no_overlap_rule)\n",
        "\n",
        "    def relative_position_x_rule(model, i, j, k):\n",
        "      return model.x[i] - model.x[j] +model.l[i, j]*model.W <= model.W - model.w[i]\n",
        "    model.relative_position_x_constraint = Constraint(model.I, model.I, model.K, rule=relative_position_x_rule)\n",
        "\n",
        "    def relative_position_y_rule(model, i, j, k):\n",
        "      return model.y[i] - model.y[j] + model.H*model.b[i, j] <= model.H  - model.h[i]\n",
        "    model.relative_position_y_constraint = Constraint(model.I, model.I, model.K, rule=relative_position_y_rule)\n",
        "\n",
        "    def inside_bin_x_rule(model, i, k):\n",
        "      return model.x[i] <= model.W- model.w[i] + (1 - model.f[i, k]) * model.W\n",
        "    model.inside_bin_x_constraint = Constraint(model.I, model.K, rule=inside_bin_x_rule)\n",
        "\n",
        "    def inside_bin_y_rule(model, i, k):\n",
        "      return model.y[i] <=  model.H - model.h[i] + (1 - model.f[i, k]) * model.H\n",
        "    model.inside_bin_y_constraint = Constraint(model.I, model.K, rule=inside_bin_y_rule)\n",
        "\n",
        "    def each_item_in_one_bin_rule(model, i):\n",
        "      return sum(model.f[i, k] for k in model.K) >= 1\n",
        "    model.each_item_in_one_bin_constraint = Constraint(model.I, rule=each_item_in_one_bin_rule)\n",
        "\n",
        "    def bin_used_if_any_item_in_it_rule(model,i, k):\n",
        "        return model.f[i, k] <= model.z[k]\n",
        "    model.bin_used_if_any_item_in_it_constraint = Constraint(model.I,model.K, rule=bin_used_if_any_item_in_it_rule)\n",
        "\n",
        "    return model\n"
      ],
      "metadata": {
        "id": "e2yrXgPB9FRs"
      },
      "execution_count": null,
      "outputs": []
    },
    {
      "cell_type": "markdown",
      "source": [
        "**Agrueé esta linea de solución**"
      ],
      "metadata": {
        "id": "g__S2yQiqx9J"
      }
    },
    {
      "cell_type": "code",
      "source": [
        "m, W, H, orders = read_data(\"A2.ins2D\")\n",
        "model = create_model(m, W, H, orders)\n",
        "solver = SolverFactory('appsi_highs')\n",
        "log = solver.solve(model, tee=True)\n"
      ],
      "metadata": {
        "id": "250FvAUnndYK"
      },
      "execution_count": null,
      "outputs": []
    },
    {
      "cell_type": "markdown",
      "source": [
        "## <font color='8EC044'> **Punto 2:** </font> <font color='056938'> **Relajaciones y cotas duales** </font>\n",
        "\n",
        "* Describa un procedimiento para obtener cotas duales (inferiores) para el número total de láminas requeridas\n",
        "\n",
        "#### **Relajación Continua del Problema Original**\n",
        "\n",
        "- Relajar las variables binarias $𝑓_𝑖𝑘$ para que sean continuas en el intervalo [0, 1].\n",
        "\n",
        "- Resolver este problema relajado con un solver de programación lineal para obtener una solución fraccional.\n",
        "\n",
        "- El valor objetivo de esta solución fraccional proporciona una cota inferior para el problema binario original, ya que permite fraccionar los ítems entre diferentes láminas.\n",
        "\n",
        "### **cota inferior de área**\n",
        "\n",
        "* Calcular la cota inferior basada en el área total de los ítems y la capacidad de los contenedores.\n",
        "\n",
        "La cota inferior sería\n",
        "$\\left\\lceil \\frac{\\sum_{i \\in I} (w_i \\cdot h_i)}{W \\cdot H} \\right\\rceil$\n",
        "donde\n",
        "$\\sum_{i \\in I} (w_i \\cdot h_i)\n",
        "$\n",
        "es el área total de los ítems y $W \\cdot H$\n",
        "es el área de un contenedor.\n",
        "\n",
        "* Calcule el valor de la cota para cada una de las instancias descargadas\n",
        "\n",
        "Para instancias muy grandes se demora mucho en ejecución, por tanto se procede a realizar la instancia A2 y A10 que son las más pequeñas, el tiempo de ejecución es más rápida cuando se hace el primer  caso de relajación continua que cuando se utiliza la cota construida del área."
      ],
      "metadata": {
        "id": "sFc07vDaDgmm"
      }
    },
    {
      "cell_type": "code",
      "source": [
        "m, W, H, orders = read_data(\"A2.ins2D\")\n",
        "model = create_model(m, W, H, orders)\n",
        "solver = SolverFactory('appsi_highs')\n",
        "log = solver.solve(model, tee=True)\n",
        "for i in model.I:\n",
        "    for k in model.K:\n",
        "        model.f[i, k].domain = NonNegativeReals\n",
        "# Resolver el modelo\n",
        "solver = SolverFactory('appsi_highs')\n",
        "log = solver.solve(model, tee=True)"
      ],
      "metadata": {
        "id": "qlp1dtDYu2lp"
      },
      "execution_count": null,
      "outputs": []
    },
    {
      "cell_type": "code",
      "source": [
        "instancias= ['A2.ins2D', 'A10.ins2D', 'A15.ins2D','A18.ins2D','A25.ins2D']\n",
        "def calcular_cota_inferior_area(orders, W, H):\n",
        "    total_area = sum(order[1] * order[2] * order[3] for order in orders)\n",
        "    container_area = W * H\n",
        "    return (total_area + container_area - 1) // container_area  # Redondeo hacia arriba\n",
        "\n",
        "m, W, H, orders = read_data(instancias[0])\n",
        "cota_inferior_area = calcular_cota_inferior_area(orders, W, H)\n",
        "\n",
        "print(f\"Cota inferior de área: {cota_inferior_area}\")\n",
        "\n",
        "# Añadir la restricción de cota inferior de área\n",
        "def lower_bound_bins_rule(model):\n",
        "    return sum(model.z[k] for k in model.K) <= cota_inferior_area\n",
        "model.lower_bound_bins_constraint = Constraint(rule=lower_bound_bins_rule)\n",
        "\n",
        "solver = SolverFactory('appsi_highs')\n",
        "log = solver.solve(model, tee=True)\n"
      ],
      "metadata": {
        "id": "tkexvA1YfylI"
      },
      "execution_count": null,
      "outputs": []
    },
    {
      "cell_type": "markdown",
      "source": [
        "## <font color='8EC044'> **Punto 3:** </font> <font color='056938'> **Cotas primales y soluciones fáctibles** </font>\n",
        "\n",
        "* Describa un procedimiento para obtener cotas primales (superiores) para el número total de láminas requeridas\n",
        "\n",
        "La heurística de mejor ajuste (Best Fit) es un enfoque utilizado en el problema de empaquetamiento que busca colocar los ítems en los contenedores de manera que se minimice el espacio sobrante en cada contenedor después de colocar todos los ítems posibles.\n",
        "\n",
        "1. Inicializa una lista de contenedores vacíos.\n",
        "2. Ordena los ítems de acuerdo a algún criterio, como el área (ancho por alto) de los ítems de manera descendente. Esto permite comenzar con los ítems más grandes, lo que puede facilitar el empaquetamiento.\n",
        "3. Para cada ítem en la lista ordenada:\n",
        "  * Itera sobre todos los contenedores disponibles.\n",
        "  * Calcula el espacio sobrante en cada contenedor después de colocar el ítem\n",
        "  * Selecciona el contenedor con el menor espacio sobrante que aún puede contener el ítem.\n",
        "  * Coloca el ítem en el contenedor seleccionado y actualiza el espacio sobrante del contenedor.\n",
        "4. Si ningún contenedor puede contener el ítem actual, crea un nuevo contenedor y coloca el ítem en él.\n",
        "\n",
        "\n",
        "* Calcule el valor de la cota para las instancias descargadas\n",
        "\n",
        "Al igual que en el caso anterior cuando ejecuto instancias muy grandes el tiempo de ejecución aumenta demasiado por tanto se procede hacer prueba unicamente en las dos primeras instancias."
      ],
      "metadata": {
        "id": "Xh956XwdMhlD"
      }
    },
    {
      "cell_type": "code",
      "source": [
        "from operator import itemgetter\n",
        "\n",
        "def best_fit_heuristic(model):\n",
        "    # Ordena los ítems por área (ancho * alto) de manera descendente\n",
        "    sorted_items = sorted(model.I, key=lambda i: model.w[i] * model.h[i], reverse=True)\n",
        "\n",
        "    # Lista de contenedores inicialmente vacíos\n",
        "    containers = []\n",
        "\n",
        "    # Define una clase para representar los contenedores\n",
        "    class Container:\n",
        "        def __init__(self, width, height):\n",
        "            self.items = []\n",
        "            self.width = width\n",
        "            self.height = height\n",
        "\n",
        "        # Calcula el espacio sobrante en el contenedor después de colocar un ítem\n",
        "        def space_left(self, model, item):\n",
        "            item_width = model.w[item]\n",
        "            item_height = model.h[item]\n",
        "            return self.width * self.height - sum(model.w[i] * model.h[i] for i in self.items) - item_width * item_height\n",
        "\n",
        "        # Coloca un ítem en el contenedor y actualiza el espacio sobrante\n",
        "        def place_item(self, model, item):\n",
        "            self.items.append(item)\n",
        "\n",
        "    # Para cada ítem en la lista ordenada\n",
        "    for item in sorted_items:\n",
        "        # Inicializa el mejor contenedor encontrado hasta ahora y su espacio sobrante\n",
        "        best_container = None\n",
        "        best_space_left = float('inf')\n",
        "\n",
        "        # Itera sobre todos los contenedores disponibles\n",
        "        for container in containers:\n",
        "            # Calcula el espacio sobrante en el contenedor después de colocar el ítem\n",
        "            space_left = container.space_left(model, item)\n",
        "\n",
        "            # Si el espacio sobrante es el mejor encontrado hasta ahora y el ítem cabe en el contenedor\n",
        "            if space_left >= 0 and space_left < best_space_left:\n",
        "                best_container = container\n",
        "                best_space_left = space_left\n",
        "\n",
        "        # Si se encontró un contenedor adecuado\n",
        "        if best_container is not None:\n",
        "            # Coloca el ítem en el mejor contenedor encontrado\n",
        "            best_container.place_item(model, item)\n",
        "        else:\n",
        "            # Crea un nuevo contenedor y coloca el ítem en él\n",
        "            new_container = Container(model.W, model.H)  # Pasa W y H como parámetros al crear un nuevo contenedor\n",
        "            new_container.place_item(model, item)\n",
        "            containers.append(new_container)\n",
        "\n",
        "    # Devuelve el número total de contenedores utilizados y la distribución de ítems en cada contenedor\n",
        "    return len(containers), [(container.items, container.space_left) for container in containers]\n"
      ],
      "metadata": {
        "id": "L6fH0tXDfyIN"
      },
      "execution_count": null,
      "outputs": []
    },
    {
      "cell_type": "code",
      "source": [
        "\n",
        "m, W, H, orders = read_data(instancias[0])\n",
        "model = create_model(m, W, H, orders)\n",
        "# Llama a la heurística de mejor ajuste y obtén el resultado\n",
        "num_containers, container_contents = best_fit_heuristic(model)\n",
        "\n",
        "# Imprime el resultado\n",
        "print(\"Número total de contenedores utilizados:\", num_containers)\n",
        "for i, (items, space_left) in enumerate(container_contents, start=1):\n",
        "    print(\"Contenedor\", i, \": ítems =\", items)\n"
      ],
      "metadata": {
        "id": "79Haclu4o-1k"
      },
      "execution_count": null,
      "outputs": []
    },
    {
      "cell_type": "code",
      "source": [
        "\n",
        "m, W, H, orders = read_data(instancias[1])\n",
        "model = create_model(m, W, H, orders)\n",
        "# Llama a la heurística de mejor ajuste y obtén el resultado\n",
        "num_containers, container_contents = best_fit_heuristic(model)\n",
        "\n",
        "# Imprime el resultado\n",
        "print(\"Número total de contenedores utilizados:\", num_containers)\n",
        "for i, (items, space_left) in enumerate(container_contents, start=1):\n",
        "    print(\"Contenedor\", i, \": ítems =\", items)"
      ],
      "metadata": {
        "id": "xKfluJzBpMv9"
      },
      "execution_count": null,
      "outputs": []
    },
    {
      "cell_type": "markdown",
      "source": [
        "# <font color='056938'> **Referencias y webgrafia** </font>"
      ],
      "metadata": {
        "id": "3h92opbJXW50"
      }
    },
    {
      "cell_type": "markdown",
      "source": [
        "\n",
        "* Iori, M., de Lima, V. L., Martello, S., & Monaci, M. (2022). 2DPackLib: a two-dimensional cutting and packing library. Optimization Letters, 1-10.\n",
        "\n",
        "* Costa, G., Delorme, M., Iori, M., Malaguti, E., & Martello, S. (2017). Training software for orthogonal packing problems. Computers & Industrial Engineering, 111, 139-147.\n",
        "\n",
        "* Lodi, A. (1999). Algorithms for two-dimensional bin packing and assignment problems. Doktorarbeit, DEIS, Universita di Bologna, 16. [Chapter 2](https://drive.google.com/file/d/1fGBf86rprlg1UM8IlaMV36CPvleL0YAS/view?usp=sharing)\n",
        "\n",
        "* https://github.com/secnot/rectpack\n",
        "* https://emadehsan.com/csp/\n",
        "* https://www.opticutter.com/cut-list-optimizer\n",
        "* https://www.cutlistoptimizer.com/"
      ],
      "metadata": {
        "id": "0wQ-K511t2w7"
      }
    },
    {
      "cell_type": "markdown",
      "source": [
        "## Artículos consultados"
      ],
      "metadata": {
        "id": "NT_vm0YyqdVf"
      }
    },
    {
      "cell_type": "markdown",
      "source": [
        "* https://core.ac.uk/download/pdf/82070195.pdf\n",
        "![image.png](data:image/png;base64,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)\n",
        "* http://www.scielo.org.co/pdf/rfiua/n46/n46a12.pdf\n",
        "* https://drive.google.com/file/d/1fGBf86rprlg1UM8IlaMV36CPvleL0YAS/view\n",
        "* https://repositorio.uam.es/bitstream/handle/10486/698396/luque_lopez_miguel_angel_tfg.pdf?sequence=1\n",
        "* https://www.intechopen.com/chapters/69492\n",
        "* https://link.springer.com/article/10.1007/s11590-021-01808-y\n",
        "* https://www.semanticscholar.org/paper/Heuristic-and-Metaheuristic-Approaches-for-a-Class-Lodi-Martello/aa9d753131a76ce23a95ba246fb3c13e43c010f6\n",
        "* https://www.intechopen.com/chapters/69492"
      ],
      "metadata": {
        "id": "pGt3CDO_NGqM"
      }
    },
    {
      "cell_type": "code",
      "source": [],
      "metadata": {
        "id": "0uWL1cuOrMrx"
      },
      "execution_count": null,
      "outputs": []
    }
  ]
}