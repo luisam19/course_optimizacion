{
  "cells": [
    {
      "cell_type": "markdown",
      "metadata": {
        "id": "view-in-github",
        "colab_type": "text"
      },
      "source": [
        "<a href=\"https://colab.research.google.com/github/luisam19/course_optimizacion/blob/main/Taller01_optimizaci%C3%B3n_LuisaMariaZapataSaldarriaga.ipynb\" target=\"_parent\"><img src=\"https://colab.research.google.com/assets/colab-badge.svg\" alt=\"Open In Colab\"/></a>"
      ]
    },
    {
      "cell_type": "markdown",
      "metadata": {
        "id": "kCmM7_M879nm"
      },
      "source": [
        "## Importación de librerías"
      ]
    },
    {
      "cell_type": "code",
      "execution_count": 4,
      "metadata": {
        "id": "EnD949NeVUju"
      },
      "outputs": [],
      "source": [
        "#Instalemos primero los paquetes que necesitamos\n",
        "!pip install -q amplpy pandas\n",
        "from amplpy import AMPL, tools\n"
      ]
    },
    {
      "cell_type": "code",
      "execution_count": null,
      "metadata": {
        "id": "Wi1xVcP678x3"
      },
      "outputs": [],
      "source": [
        "# install pyomo and import libraries\n",
        "!pip install -q pyomo\n",
        "from pyomo.environ import *\n",
        "from pyomo.opt import *\n",
        "\n",
        "## instal cbc\n",
        "!apt-get install -y -qq coinor-cbc\n",
        "# Set the solver\n",
        "solver = solvers.SolverFactory('cbc', executable='/usr/bin/cbc')\n",
        "\n",
        "\n",
        "#Acceso a pandas\n",
        "import pandas as pd"
      ]
    },
    {
      "cell_type": "markdown",
      "metadata": {
        "id": "57qb17fj-jLD"
      },
      "source": [
        "## Ejercicio 1"
      ]
    },
    {
      "cell_type": "markdown",
      "metadata": {
        "id": "Go1R61fQ8IXU"
      },
      "source": [
        "## Problema 1\n",
        "\n",
        "Para el ejemplo introductorio de la clase relacionado con la carga de contenedores. En el cual se busca decidir cuales contenedores usar y que ítems asignar a cada contenedor, cumpliendo con la carga máxima admisible de cada contenedor utilizado y que cada objeto se asigna exactamente a un contenedor para minimizar el número de contenedores utilizados.\n",
        "\n",
        "|   Ítem| Peso (kg) |Ítem| Peso (kg) |Ítem| Peso (kg) |Ítem| Peso (kg) |\n",
        "|-------|----|-------|----|-------|----|-------|----|\n",
        "| **1** | 36 | **6** | 19 | **11** | 23 | **16** | 33 |\n",
        "| **2** | 33  | **7** | 37  | **12** | 29  | **17** | 9 |\n",
        "| **3** | 39\t| **8** | 8\t| **13** | 10\t| **18** | 17\t|\n",
        "| **4** | 43| **9** | 29 | **14** | 22 |**19** | 30 |\n",
        "| **5** | 7\t| **10** | 37\t| **15** | 11\t| **20** | 28\t|\n"
      ]
    },
    {
      "cell_type": "code",
      "execution_count": null,
      "metadata": {
        "colab": {
          "base_uri": "https://localhost:8080/"
        },
        "id": "hCKGdl0mCBiX",
        "outputId": "731dcc15-1852-4887-b61d-3a56dfeea824"
      },
      "outputs": [
        {
          "name": "stdout",
          "output_type": "stream",
          "text": [
            "Resultados del Caso 1:\n",
            "Contenedor c1: Se utiliza\n",
            "  Ítem 5: Peso 7\n",
            "  Ítem 11: Peso 10\n",
            "  Ítem 13: Peso 11\n",
            "  Ítem 17: Peso 9\n",
            "  Ítem 18: Peso 17\n",
            "  Ítem 20: Peso 28\n",
            "Contenedor c2: Se utiliza\n",
            "  Ítem 9: Peso 37\n",
            "  Ítem 12: Peso 37\n",
            "  Ítem 16: Peso 19\n",
            "Contenedor c3: Se utiliza\n",
            "  Ítem 2: Peso 33\n",
            "  Ítem 8: Peso 33\n",
            "  Ítem 19: Peso 30\n",
            "Contenedor c4: Se utiliza\n",
            "  Ítem 7: Peso 23\n",
            "  Ítem 14: Peso 22\n",
            "  Ítem 15: Peso 28\n",
            "Contenedor c5: Se utiliza\n",
            "  Ítem 1: Peso 36\n",
            "  Ítem 6: Peso 19\n",
            "  Ítem 10: Peso 29\n",
            "Contenedor c6: Se utiliza\n",
            "  Ítem 3: Peso 39\n",
            "  Ítem 4: Peso 43\n",
            "Número total de contenedores utilizados: 6.0\n"
          ]
        }
      ],
      "source": [
        "from pyomo.environ import *\n",
        "\n",
        "# Crear un modelo concreto para el Caso 1\n",
        "modelo_caso1 = ConcreteModel()\n",
        "\n",
        "# Conjuntos\n",
        "modelo_caso1.I = Set(initialize=range(1, 21))\n",
        "modelo_caso1.C = Set(initialize=['c1', 'c2', 'c3', 'c4', 'c5','c6'])\n",
        "\n",
        "# Parámetros\n",
        "pesos = {i: [36, 33, 39, 43, 7, 19, 23, 33, 37, 29, 10, 37, 11, 22, 28, 19, 9, 17, 30, 28][i-1] for i in range(1, 21)}\n",
        "capacidad_maxima = 100\n",
        "\n",
        "# Variables de decisión\n",
        "modelo_caso1.X = Var(modelo_caso1.I, modelo_caso1.C, within=Binary)\n",
        "modelo_caso1.Y = Var(modelo_caso1.C, within=Binary)\n",
        "\n",
        "# Restricciones\n",
        "def restriccion_recursos(modelo, c):\n",
        "    return sum(modelo.X[i, c] * pesos[i] for i in modelo.I) <= capacidad_maxima * modelo.Y[c]\n",
        "modelo_caso1.restriccion_recursos = Constraint(modelo_caso1.C, rule=restriccion_recursos)\n",
        "\n",
        "def restriccion_asignacion(modelo, i):\n",
        "    return sum(modelo.X[i, c] for c in modelo.C) == 1\n",
        "modelo_caso1.restriccion_asignacion = Constraint(modelo_caso1.I, rule=restriccion_asignacion)\n",
        "\n",
        "# Función objetivo\n",
        "def objetivo_caso1(modelo):\n",
        "    return sum(modelo.Y[c] for c in modelo.C)\n",
        "modelo_caso1.objetivo = Objective(rule=objetivo_caso1, sense=minimize)\n",
        "\n",
        "# Resolver el modelo\n",
        "result_caso1 = solver.solve(modelo_caso1)\n",
        "\n",
        "# Imprimir resultados\n",
        "print(\"Resultados del Caso 1:\")\n",
        "for c in modelo_caso1.C:\n",
        "    if value(modelo_caso1.Y[c]) > 0:\n",
        "        print(\"Contenedor {}: Se utiliza\".format(c))\n",
        "        for i in modelo_caso1.I:\n",
        "            if value(modelo_caso1.X[i, c]) > 0:\n",
        "                print(\"  Ítem {}: Peso {}\".format(i, pesos[i]))\n",
        "print(\"Número total de contenedores utilizados:\", value(modelo_caso1.objetivo))\n"
      ]
    },
    {
      "cell_type": "code",
      "execution_count": null,
      "metadata": {
        "colab": {
          "base_uri": "https://localhost:8080/"
        },
        "id": "4Q7NryBICN30",
        "outputId": "ef5db0cc-4056-427b-b6d3-3a6c952b1f5c"
      },
      "outputs": [
        {
          "name": "stdout",
          "output_type": "stream",
          "text": [
            "Resultados del Caso 2:\n",
            "Contenedor c1: Se utiliza\n",
            "  Ítem 3: Peso 39\n",
            "  Ítem 10: Peso 29\n",
            "  Ítem 18: Peso 17\n",
            "Contenedor c2: Se utiliza\n",
            "  Ítem 4: Peso 43\n",
            "  Ítem 8: Peso 33\n",
            "  Ítem 17: Peso 9\n",
            "Contenedor c3: Se utiliza\n",
            "  Ítem 5: Peso 7\n",
            "  Ítem 14: Peso 22\n",
            "  Ítem 15: Peso 28\n",
            "  Ítem 20: Peso 28\n",
            "Contenedor c4: Se utiliza\n",
            "  Ítem 2: Peso 33\n",
            "  Ítem 7: Peso 23\n",
            "  Ítem 11: Peso 10\n",
            "  Ítem 16: Peso 19\n",
            "Contenedor c5: Se utiliza\n",
            "  Ítem 9: Peso 37\n",
            "  Ítem 12: Peso 37\n",
            "  Ítem 13: Peso 11\n",
            "Contenedor c6: Se utiliza\n",
            "  Ítem 1: Peso 36\n",
            "  Ítem 6: Peso 19\n",
            "  Ítem 19: Peso 30\n",
            "Carga máxima de un contenedor: 85.0\n"
          ]
        }
      ],
      "source": [
        "from pyomo.environ import *\n",
        "\n",
        "# Crear un modelo concreto para el Caso 2\n",
        "modelo_caso2 = ConcreteModel()\n",
        "\n",
        "# Conjuntos\n",
        "modelo_caso2.I = Set(initialize=range(1, 21))\n",
        "modelo_caso2.C = Set(initialize=['c1', 'c2', 'c3', 'c4', 'c5','c6'])\n",
        "\n",
        "# Parámetros\n",
        "pesos = {i: [36, 33, 39, 43, 7, 19, 23, 33, 37, 29, 10, 37, 11, 22, 28, 19, 9, 17, 30, 28][i-1] for i in range(1, 21)}\n",
        "capacidad_maxima = 100\n",
        "\n",
        "# Variables de decisión\n",
        "modelo_caso2.X = Var(modelo_caso2.I, modelo_caso2.C, within=Binary)\n",
        "modelo_caso2.Y = Var(modelo_caso2.C, within=Binary)\n",
        "modelo_caso2.max_carga = Var(within=NonNegativeReals)\n",
        "\n",
        "# Restricciones\n",
        "def restriccion_recursos(modelo, c):\n",
        "    return sum(modelo.X[i, c] * pesos[i] for i in modelo.I) <= capacidad_maxima * modelo.Y[c]\n",
        "modelo_caso2.restriccion_recursos = Constraint(modelo_caso2.C, rule=restriccion_recursos)\n",
        "\n",
        "def restriccion_asignacion(modelo, i):\n",
        "    return sum(modelo.X[i, c] for c in modelo.C) == 1\n",
        "modelo_caso2.restriccion_asignacion = Constraint(modelo_caso2.I, rule=restriccion_asignacion)\n",
        "\n",
        "def max_carga_rule(modelo, c):\n",
        "    return modelo.max_carga >= sum(pesos[i] * modelo.X[i, c] for i in modelo.I)\n",
        "modelo_caso2.max_carga_constraint = Constraint(modelo_caso2.C, rule=max_carga_rule)\n",
        "\n",
        "# Función objetivo auxiliar para maximizar la carga total de los contenedores\n",
        "def objetivo_caso2_aux(modelo):\n",
        "    return sum(pesos[i] * modelo.X[i, c] for i in modelo.I for c in modelo.C)\n",
        "\n",
        "modelo_caso2.objetivo_aux = Objective(rule=objetivo_caso2_aux, sense=maximize)\n",
        "\n",
        "# Función objetivo para minimizar la carga máxima entre los contenedores\n",
        "def objetivo_caso2(modelo):\n",
        "    return modelo.max_carga\n",
        "modelo_caso2.objetivo = Objective(rule=objetivo_caso2, sense=minimize)\n",
        "\n",
        "# Desactivar el objetivo auxiliar\n",
        "modelo_caso2.objetivo_aux.deactivate()\n",
        "\n",
        "# Resolver el modelo\n",
        "result_caso2 = solver.solve(modelo_caso2)\n",
        "\n",
        "# Imprimir resultados\n",
        "print(\"Resultados del Caso 2:\")\n",
        "for c in modelo_caso2.C:\n",
        "    if value(modelo_caso2.Y[c]) > 0:\n",
        "        print(\"Contenedor {}: Se utiliza\".format(c))\n",
        "        for i in modelo_caso2.I:\n",
        "            if value(modelo_caso2.X[i, c]) > 0:\n",
        "                print(\"  Ítem {}: Peso {}\".format(i, pesos[i]))\n",
        "print(\"Carga máxima de un contenedor:\", value(modelo_caso2.max_carga))\n"
      ]
    },
    {
      "cell_type": "code",
      "execution_count": null,
      "metadata": {
        "colab": {
          "base_uri": "https://localhost:8080/",
          "height": 472
        },
        "id": "hoQHr0DjGUYK",
        "outputId": "16c07437-bb14-4dfa-f46e-866a0e301e28"
      },
      "outputs": [
        {
          "data": {
            "image/png": "[encoded data removed]",
            "text/plain": [
              "<Figure size 640x480 with 1 Axes>"
            ]
          },
          "metadata": {},
          "output_type": "display_data"
        }
      ],
      "source": [
        "import matplotlib.pyplot as plt\n",
        "\n",
        "# Obtener los contenedores y las cargas del caso 1\n",
        "contenedores_caso1 = [c for c in modelo_caso1.C if value(modelo_caso1.Y[c]) > 0]\n",
        "cargas_caso1 = [sum(pesos[i] * value(modelo_caso1.X[i, c]) for i in modelo_caso1.I) for c in contenedores_caso1]\n",
        "\n",
        "# Obtener los contenedores y las cargas del caso 2\n",
        "contenedores_caso2 = [c for c in modelo_caso2.C if value(modelo_caso2.Y[c]) > 0]\n",
        "cargas_caso2 = [sum(pesos[i] * value(modelo_caso2.X[i, c]) for i in modelo_caso2.I) for c in contenedores_caso2]\n",
        "\n",
        "\n",
        "# Agregar un contenedor adicional si una lista es más corta que la otra\n",
        "if len(contenedores_caso1) > len(contenedores_caso2):\n",
        "    contenedores_caso2.append('c{}'.format(len(contenedores_caso2) + 1))\n",
        "    cargas_caso2.append(0)  # Añadir una carga de 0 al contenedor nuevo\n",
        "elif len(contenedores_caso2) > len(contenedores_caso1):\n",
        "    contenedores_caso1.append('c{}'.format(len(contenedores_caso1) + 1))\n",
        "    cargas_caso1.append(0)  # Añadir una carga de 0 al contenedor nuevo\n",
        "\n",
        "import matplotlib.pyplot as plt\n",
        "\n",
        "# Crear la figura y los ejes\n",
        "fig, ax = plt.subplots()\n",
        "\n",
        "# Graficar las cargas de los contenedores del caso 1\n",
        "ax.plot(contenedores_caso1, cargas_caso1, marker='o', label='Caso 1')\n",
        "\n",
        "# Graficar las cargas de los contenedores del caso 2\n",
        "ax.plot(contenedores_caso2, cargas_caso2, marker='o', label='Caso 2')\n",
        "\n",
        "# Etiquetas y título\n",
        "ax.set_xlabel('Contenedor')\n",
        "ax.set_ylabel('Carga')\n",
        "ax.set_title('Comparación de Cargas de Contenedores entre Caso 1 y Caso 2')\n",
        "\n",
        "# Mostrar la leyenda\n",
        "ax.legend()\n",
        "ax.grid()\n",
        "\n",
        "# Mostrar la gráfica\n",
        "plt.show()\n",
        "\n"
      ]
    },
    {
      "cell_type": "markdown",
      "metadata": {
        "id": "hWgsabCEVSwa"
      },
      "source": [
        "## Ejercicio 2"
      ]
    },
    {
      "cell_type": "code",
      "execution_count": 41,
      "metadata": {
        "id": "JfmcfvaXXYXX"
      },
      "outputs": [],
      "source": [
        "%%ampl_eval\n",
        "reset;\n",
        "# Define sets\n",
        "set F;  # Set of manufacturing plants\n",
        "set E;  # Set of assembly plants\n",
        "set R;  # Set of regions\n",
        "set T;  # Set of planning periods\n",
        "set S;  # Set of sub-assemblies\n",
        "\n",
        "# Parameters\n",
        "param dem{T, R};    # Demand by region and period\n",
        "param cfe{F, E};   # Transportation costs of sub-assemblies\n",
        "param cer{E, R};   # Transportation costs from assembly to region\n",
        "param hft{F};      # Machine hours available in manufacturing plants\n",
        "param hmax{E};     # Man hours available in assembly plants\n",
        "param cex;      # Additional cost per man hour in overtime in assembly plants\n",
        "param m{S};        # Inventory holding cost per unit for sub-assemblies\n",
        "param mp;       # Inventory holding cost per unit for finished product\n",
        "param req{S};        # Required production hours to manufacture a sub-assembly\n",
        "param A{F,S};      # Indicates whether it can be done or not\n",
        "param inise;       # Initial inventory of sub-assemblies\n",
        "param inipt;       # Initial inventory of finished product\n",
        "param cpt;\n",
        "param A_default{F,S} default 0;\n",
        "param A_specific{F,S} default 0;\n",
        "\n",
        "# Decision Variables\n",
        "# Production\n",
        "var X{F, T, S} >= 0;   # Amount of sub-assemblies manufactured in each manufacturing plant and period\n",
        "var Y{E, T} >= 0;      # Amount of finished product shipped from each assembly plant to each region and period\n",
        "var U{E, T} >= 0;      # Extra hours used in assembly plants\n",
        "\n",
        "# Transportation\n",
        "var W{S,F,E,T} >= 0;\n",
        "var Z{E, R, T} >= 0;\n",
        "\n",
        "# Inventory\n",
        "var P{S,F,T} >= 0;     # Total amount of finished product stored in all assembly plants for each period\n",
        "var Q{E,T} >= 0;     # Total amount of finished product stored in all assembly plants for each period\n",
        "\n",
        "# #Objective Function\n",
        "minimize TotalCost:\n",
        "    sum {e in E, t in T} (cpt * Y[e, t]) +\n",
        "    sum {e in E, t in T} (cex* U[e,t]) +\n",
        "    sum {f in F, e in E, s in S, t in T} (cfe[f, e] * W[s, f, e, t]) +\n",
        "    sum {e in E, r in R, t in T}(cer[e,r]*  Z[e,r,t])+\n",
        "    sum {s in S, f in F, t in T} (m[s] * P[s,f,t]) +\n",
        "    sum {e in E, t in T} (mp * Q[e, t]);\n",
        "\n",
        "subject to Production_Capacity {f in F, t in T}:\n",
        "  sum {s in S} A_specific[f,s] * req[s] * X[f,t,s] <= hft[f];\n",
        "\n",
        "subject to DemandSatisfied {r in R, t in T}:\n",
        "  sum {e in E} Z[e, r, t] >= dem[t, r];\n",
        "\n",
        "subject to Assembly_Plant_Capacity {e in E, t in T}:\n",
        "    2 * Y[e, t] <= hmax[e] + U[e, t];\n",
        "\n",
        "# Ecuación de balance de inventario de los sub-ensambles en cada planta de fabricación en cada periodo\n",
        "subject to Subassembly_Inventory_Balance {s in S, f in F, t in T : t>2}:\n",
        "  P[s,f,t] = P[s,f,t-1] + X[f,t,s] - sum {e in E} W[s,f,e,t];\n",
        "\n",
        "subject to Subassembly_Inventory_Balance_init {s in S, f in F}:\n",
        "  P[s,f,1] =inise + X[f,1,s] - sum {e in E} W[s,f,e,1];\n",
        "\n",
        "subject to Finished_Product_Inventory_Balance {e in E, t in T : t > 2}:\n",
        "  Q[e,t] = Q[e,t-1] + Y[e,t] - sum {r in R} Z[e, r, t];\n",
        "\n",
        "subject to Finished_Product_Inventory_Balance_init {e in E}:\n",
        "  Q[e,1] = inipt + Y[e,1] - sum {r in R} Z[e, r, 1];\n",
        "\n",
        "\n"
      ]
    },
    {
      "cell_type": "code",
      "source": [
        "# Definir conjuntos\n",
        "ampl.set['F'] = ['f1', 'f2', 'f3']\n",
        "ampl.set['E'] = ['e1', 'e2']\n",
        "ampl.set['S'] = ['SA', 'SB', 'SC']\n",
        "ampl.set['R'] = ['r1', 'r2', 'r3', 'r4']\n",
        "ampl.set['T'] = [1, 2, 3]\n",
        "\n",
        "# Tabla 1: Demanda por región y período\n",
        "demanda_data = {\n",
        "    (1, 'r1'): 1000, (1, 'r2'): 1500, (1, 'r3'): 800, (1, 'r4'): 2000,\n",
        "    (2, 'r1'): 1200, (2, 'r2'): 1500, (2, 'r3'): 800, (2, 'r4'): 2500,\n",
        "    (3, 'r1'): 1350, (3, 'r2'): 1750, (3, 'r3'): 1000, (3, 'r4'): 3000\n",
        "}\n",
        "ampl.param['dem'] = demanda_data\n",
        "\n",
        "# Tabla 2: Costos de transporte de sub-ensambles\n",
        "cfe_data = {\n",
        "    ('f1', 'e1'): 1.80, ('f1', 'e2'): 2.20,\n",
        "    ('f2', 'e1'): 2.90, ('f2', 'e2'): 0.60,\n",
        "    ('f3', 'e1'): 1.50, ('f3', 'e2'): 2.25\n",
        "}\n",
        "ampl.param['cfe'] = cfe_data\n",
        "\n",
        "# Tabla 3: Costos de transporte de ensamble a región\n",
        "cer_data = {\n",
        "    ('e1', 'r1'): 1.10, ('e1', 'r2'): 2.15, ('e1', 'r3'): 5.40, ('e1', 'r4'): 6.10,\n",
        "    ('e2', 'r1'): 7.15, ('e2', 'r2'): 6.70, ('e2', 'r3'): 4.50, ('e2', 'r4'): 2.15\n",
        "}\n",
        "ampl.param['cer'] = cer_data\n",
        "\n",
        "# Tabla 4: Horas máquina disponibles en plantas de fabricación\n",
        "hft_data = {'f1': 15000, 'f2': 42000, 'f3': 25000}\n",
        "ampl.param['hft'] = hft_data\n",
        "\n",
        "# Tabla 5: Horas hombre disponibles en plantas de ensamble\n",
        "hmax_data = {'e1': 5000, 'e2': 6000}\n",
        "ampl.param['hmax'] = hmax_data\n",
        "\n",
        "# Tabla 6: Costo de mantener inventario por unidad para subensambles\n",
        "m_data = {'SA': 1.20, 'SB': 0.90, 'SC': 1.50}\n",
        "ampl.param['m'] = m_data\n",
        "\n",
        "# Tabla 7: Horas de producción requeridas para fabricar un sub-ensambles\n",
        "r_data = {'SA': 3, 'SB': 4.5, 'SC': 2}\n",
        "ampl.param['req'] = r_data\n",
        "\n",
        "# Costo adicional por hora hombre en tiempo extra en plantas de ensamble\n",
        "ampl.param['cex'] = 62.5\n",
        "\n",
        "ampl.param['cpt'] = 50\n",
        "ampl.param['mp'] = 7.40\n",
        "ampl.param['inipt']=0\n",
        "ampl.param['inise']=0\n",
        "\n",
        "#\n",
        "# Resolver el modelo\n",
        "ampl.option[\"solver\"] = \"highs\"\n",
        "ampl.solve()\n",
        "\n",
        "# Mostrar resultados\n",
        "print(ampl.getObjective('TotalCost').value())"
      ],
      "metadata": {
        "colab": {
          "base_uri": "https://localhost:8080/"
        },
        "id": "UxHx8GbE9QZ0",
        "outputId": "55b1fb75-19e9-4c44-a67c-cda180a32739"
      },
      "execution_count": 43,
      "outputs": [
        {
          "output_type": "stream",
          "name": "stdout",
          "text": [
            "HiGHS 1.7.0: \b\b\b\b\b\b\b\b\b\b\b\b\bHiGHS 1.7.0: optimal solution; objective 359482.5\n",
            "4 simplex iterations\n",
            "0 barrier iterations\n",
            "359482.5\n"
          ]
        }
      ]
    },
    {
      "cell_type": "markdown",
      "metadata": {
        "id": "YMkxxLbR-f_O"
      },
      "source": [
        "## Ejercicio 3"
      ]
    },
    {
      "cell_type": "markdown",
      "metadata": {
        "id": "tICitAjM-lXI"
      },
      "source": [
        "El Instituto de Cancerología de una prestigiosa clínica colombiana le ha contratado como consultor para que desarrolle un sistema de apoyo a las decisiones con el cual los médicos puedan diseñar los tratamientos de radioterapia de sus pacientes.  “La Radioterapia es un tipo de tratamiento oncológico que utiliza las radiaciones para eliminar las células tumorales, (generalmente cancerosas), en la parte del organismo donde se apliquen. La radiación utilizada puede ser de rayos gamma, rayos X o electrones. La radioterapia actúa sobre el tumor, destruyendo las células malignas, para impedir que crezcan y se reproduzcan. En este tipo de tratamiento, los pacientes acuden diariamente de forma ambulatoria por un período de tiempo variable, dependiendo de la enfermedad que se esté tratando.\n",
        "\n",
        "\n",
        "Para eliminar un tumor es necesario irradiar todas sus partes procurando no afectar tejido sano (en color blanco en la Figura 2), sin embargo, algunas veces es inevitable. El tratamiento con radioterapia es costoso, tiene una alta demanda y es incómodo para los pacientes, lo cual hace atractivos los tratamientos que toman poco tiempo.\n",
        "\n",
        "En este caso, el equipo utilizado permite hacer dos tipos diferentes de irradiaciones, la primera (Figura 1-T1) tiene un rayo concentrado de cubrimiento pequeño mientras que la segunda (Figura 1-T2) es capaz de irradiar áreas mayores.  La precisión de una irradiación T1 hace que su preparación y ejecución tome el doble del tiempo que para una irradiación T2.  Asuma que las irradiaciones T2 toman una unidad de tiempo.\n",
        "\n",
        "Cuando se planea el tratamiento es necesario que los médicos tengan varias alternativas para escoger, analizando la cantidad de tejido sano irradiado y la duración del tratamiento.\n",
        "Para probar sus prototipos del sistema los médicos le han entregado la imagen de un tumor bastante raro y difícil de tratar (Figura 2), para el cual usted debe diseñar tratamientos que minimicen el tejido sano irradiado. En particular se quieren tratamiento que duren como máximo 15 o 20 unidades de tiempo.\n",
        "\n",
        "Usted ha decidido abordar esta situación utilizando sus conocimientos de optimización. Para lo cual usted deberá: formular un modelo de optimización general que describa la situación, e implementar dicho modelo en un software de optimización y probar su método utilizando el tumor de la Figura 2.\n"
      ]
    },
    {
      "cell_type": "code",
      "source": [
        "# install pyomo and import libraries\n",
        "!pip install -q pyomo\n",
        "from pyomo.environ import *\n",
        "from pyomo.opt import *\n",
        "import os\n",
        "\n",
        "\n",
        "# Establecer NEOS  como servicio para el solucionador\n",
        "solver_manager = SolverManagerFactory('neos')\n",
        "# Una dirección valida para ejecutar NEOS\n",
        "os.environ['NEOS_EMAIL'] = 'luisa.zapatas@udea.edu.co' #Ponga su dirección de correo para una ejecución y visualización correcta de los resultados\n"
      ],
      "metadata": {
        "id": "FO78eOM693p0"
      },
      "execution_count": null,
      "outputs": []
    },
    {
      "cell_type": "code",
      "source": [
        "# Install Pyomo and import libraries\n",
        "!pip install -q pyomo\n",
        "from pyomo.environ import *\n",
        "from pyomo.opt import *\n",
        "import os\n",
        "\n",
        "# Set up NEOS as the solver service\n",
        "solver_manager = SolverManagerFactory('neos')\n",
        "\n",
        "# A valid email address for NEOS execution\n",
        "os.environ['NEOS_EMAIL'] = 'juan.villegas@udea.edu.co'  # Please use your email address for correct execution and result visualization\n",
        "\n",
        "# Create the abstract model\n",
        "model = AbstractModel()\n",
        "\n",
        "# Sets\n",
        "model.T = Set()  # Tipos de irradiación\n",
        "model.C = Set()  # Celdas\n",
        "\n",
        "# Parameters\n",
        "model.a = Param(model.C, within=Binary)  # Presencia o ausencia de área afectada en la celda\n",
        "model.tipo2 = Param(model.C)  # Lista de celdas que irradiando con el disparo t2 cubren la celda\n",
        "model.us = Param(model.T)  # Unidad de tiempo del tipo de irradiación\n",
        "model.umax = Param(within=NonNegativeReals)  # Unidades de tiempo máximo de irradiación\n",
        "model.sano = Param(model.C)  # Conteo de tejido sano\n",
        "\n",
        "# Decision Variables\n",
        "model.X = Var(model.T, model.C, within=Binary)  # Variable binaria que indica si se selecciona el tipo de irradiación en la celda\n",
        "\n",
        "# Objective Function\n",
        "def objective_rule(model):\n",
        "    return sum(model.sano[c] * model.X[t, c] for t in model.T for c in model.C)\n",
        "\n",
        "model.obj = Objective(rule=objective_rule, sense=minimize)\n",
        "\n",
        "# Constraints\n",
        "def irradiacion_celdas_rule(model, c):\n",
        "    if model.a[c] == 1:\n",
        "        return model.X['t1', c] + sum(model.X['t2', cc] for cc in model.tipo2[c]) >= 1\n",
        "    else:\n",
        "        return Constraint.Skip\n",
        "\n",
        "model.irradiacion_celdas = Constraint(model.C, rule=irradiacion_celdas_rule)\n",
        "\n",
        "model.unidades_tiempo = Constraint(expr=sum(model.us[t] * sum(model.X[t, c] for c in model.C) for t in model.T) <= model.umax)\n"
      ],
      "metadata": {
        "colab": {
          "base_uri": "https://localhost:8080/",
          "height": 263
        },
        "id": "JFF-Dc_39--U",
        "outputId": "cb8bcda0-ad60-40ef-c623-c6550d80f922"
      },
      "execution_count": 45,
      "outputs": [
        {
          "output_type": "stream",
          "name": "stdout",
          "text": [
            "\u001b[2K     \u001b[90m━━━━━━━━━━━━━━━━━━━━━━━━━━━━━━━━━━━━━━━━\u001b[0m \u001b[32m12.7/12.7 MB\u001b[0m \u001b[31m25.8 MB/s\u001b[0m eta \u001b[36m0:00:00\u001b[0m\n",
            "\u001b[2K     \u001b[90m━━━━━━━━━━━━━━━━━━━━━━━━━━━━━━━━━━━━━━━━\u001b[0m \u001b[32m49.6/49.6 kB\u001b[0m \u001b[31m4.4 MB/s\u001b[0m eta \u001b[36m0:00:00\u001b[0m\n",
            "\u001b[?25h"
          ]
        },
        {
          "output_type": "error",
          "ename": "RuntimeError",
          "evalue": "Cannot iterate over AbstractOrderedScalarSet 'T' before it has been constructed (initialized): '__iter__' is an attribute on an Abstract component and cannot be accessed until the component has been fully constructed (converted to a Concrete component) using AbstractModel.create_instance() or T.construct().",
          "traceback": [
            "\u001b[0;31m---------------------------------------------------------------------------\u001b[0m",
            "\u001b[0;31mRuntimeError\u001b[0m                              Traceback (most recent call last)",
            "\u001b[0;32m<ipython-input-45-d1edf7d1393c>\u001b[0m in \u001b[0;36m<cell line: 45>\u001b[0;34m()\u001b[0m\n\u001b[1;32m     43\u001b[0m \u001b[0mmodel\u001b[0m\u001b[0;34m.\u001b[0m\u001b[0mirradiacion_celdas\u001b[0m \u001b[0;34m=\u001b[0m \u001b[0mConstraint\u001b[0m\u001b[0;34m(\u001b[0m\u001b[0mmodel\u001b[0m\u001b[0;34m.\u001b[0m\u001b[0mC\u001b[0m\u001b[0;34m,\u001b[0m \u001b[0mrule\u001b[0m\u001b[0;34m=\u001b[0m\u001b[0mirradiacion_celdas_rule\u001b[0m\u001b[0;34m)\u001b[0m\u001b[0;34m\u001b[0m\u001b[0;34m\u001b[0m\u001b[0m\n\u001b[1;32m     44\u001b[0m \u001b[0;34m\u001b[0m\u001b[0m\n\u001b[0;32m---> 45\u001b[0;31m \u001b[0mmodel\u001b[0m\u001b[0;34m.\u001b[0m\u001b[0munidades_tiempo\u001b[0m \u001b[0;34m=\u001b[0m \u001b[0mConstraint\u001b[0m\u001b[0;34m(\u001b[0m\u001b[0mexpr\u001b[0m\u001b[0;34m=\u001b[0m\u001b[0msum\u001b[0m\u001b[0;34m(\u001b[0m\u001b[0mmodel\u001b[0m\u001b[0;34m.\u001b[0m\u001b[0mus\u001b[0m\u001b[0;34m[\u001b[0m\u001b[0mt\u001b[0m\u001b[0;34m]\u001b[0m \u001b[0;34m*\u001b[0m \u001b[0msum\u001b[0m\u001b[0;34m(\u001b[0m\u001b[0mmodel\u001b[0m\u001b[0;34m.\u001b[0m\u001b[0mX\u001b[0m\u001b[0;34m[\u001b[0m\u001b[0mt\u001b[0m\u001b[0;34m,\u001b[0m \u001b[0mc\u001b[0m\u001b[0;34m]\u001b[0m \u001b[0;32mfor\u001b[0m \u001b[0mc\u001b[0m \u001b[0;32min\u001b[0m \u001b[0mmodel\u001b[0m\u001b[0;34m.\u001b[0m\u001b[0mC\u001b[0m\u001b[0;34m)\u001b[0m \u001b[0;32mfor\u001b[0m \u001b[0mt\u001b[0m \u001b[0;32min\u001b[0m \u001b[0mmodel\u001b[0m\u001b[0;34m.\u001b[0m\u001b[0mT\u001b[0m\u001b[0;34m)\u001b[0m \u001b[0;34m<=\u001b[0m \u001b[0mmodel\u001b[0m\u001b[0;34m.\u001b[0m\u001b[0mumax\u001b[0m\u001b[0;34m)\u001b[0m\u001b[0;34m\u001b[0m\u001b[0;34m\u001b[0m\u001b[0m\n\u001b[0m",
            "\u001b[0;32m<string>\u001b[0m in \u001b[0;36m__iter__\u001b[0;34m(self)\u001b[0m\n",
            "\u001b[0;31mRuntimeError\u001b[0m: Cannot iterate over AbstractOrderedScalarSet 'T' before it has been constructed (initialized): '__iter__' is an attribute on an Abstract component and cannot be accessed until the component has been fully constructed (converted to a Concrete component) using AbstractModel.create_instance() or T.construct()."
          ]
        }
      ]
    }
  ],
  "metadata": {
    "colab": {
      "provenance": [],
      "authorship_tag": "ABX9TyO26Y5tlDVxGpGXCp7RQQq3",
      "include_colab_link": true
    },
    "kernelspec": {
      "display_name": "Python 3",
      "name": "python3"
    },
    "language_info": {
      "name": "python"
    }
  },
  "nbformat": 4,
  "nbformat_minor": 0
}