{
  "nbformat": 4,
  "nbformat_minor": 0,
  "metadata": {
    "colab": {
      "private_outputs": true,
      "provenance": [],
      "toc_visible": true,
      "include_colab_link": true
    },
    "kernelspec": {
      "name": "python3",
      "display_name": "Python 3"
    },
    "language_info": {
      "name": "python"
    }
  },
  "cells": [
    {
      "cell_type": "markdown",
      "metadata": {
        "id": "view-in-github",
        "colab_type": "text"
      },
      "source": [
        "<a href=\"https://colab.research.google.com/github/luisam19/course_optimizacion/blob/main/Dualidad.ipynb\" target=\"_parent\"><img src=\"https://colab.research.google.com/assets/colab-badge.svg\" alt=\"Open In Colab\"/></a>"
      ]
    },
    {
      "cell_type": "markdown",
      "source": [
        "# <font color='056938'> **Importar librerias** </font>"
      ],
      "metadata": {
        "id": "-AEmLwwB4ZW9"
      }
    },
    {
      "cell_type": "code",
      "execution_count": null,
      "metadata": {
        "id": "GHWHjh-e1tmz"
      },
      "outputs": [],
      "source": [
        "!pip install -q amplpy\n",
        "from amplpy import AMPL, tools\n",
        "import pandas as pd\n",
        "import plotly.graph_objs as go\n",
        "import plotly.express as px\n",
        "import sympy as sp\n",
        "from sympy.matrices import Matrix\n",
        "from sympy.vector import Vector\n",
        "import numpy as np"
      ]
    },
    {
      "cell_type": "markdown",
      "source": [
        "# <font color='056938'> **Problema base** </font>\n",
        "\n",
        "Para la discusión de esta unidad usaremos como base un problema de mezcla"
      ],
      "metadata": {
        "id": "Tu8H6M-xe9jd"
      }
    },
    {
      "cell_type": "markdown",
      "source": [
        "## <font color='8EC044'> **Descripción del problema** </font>\n",
        "\n",
        "Una empresa produce cuatro tipos de productos: Producto A, Producto B, Producto C y Producto D. Cada producto es una mezcla de diferentes ingredientes, y la empresa desea maximizar su beneficio. El beneficio por unidad de cada producto es el siguiente:\n",
        "\n",
        "| Producto | Bneficioe |\n",
        "|-------------|---------------------|\n",
        "| A           | 20        |\n",
        "| B           | 15        |\n",
        "| C           | 25        |\n",
        "| D           | 50        |\n",
        "\n",
        "El proceso de producción requiere los siguientes ingredientes por unidad de cada producto:\n",
        "\n",
        "| Producto | Ingrediente 1 | Ingrediente 2 |Ingrediente 3 |\n",
        "|----------|---------------|---------------|---------------|\n",
        "| A        | 2             | 3             | 1             |\n",
        "| B        | 1             | 2             | 2             |\n",
        "| C        | 3             | 1             | 4             |\n",
        "| D        | 2             | 4             | 3             |\n",
        "\n",
        "La empresa cuenta con las siguientes cantidades de ingredientes disponibles:\n",
        "\n",
        "\n",
        "| Ingrediente | Cantidad disponible |\n",
        "|-------------|---------------------|\n",
        "| 1           | 60 unidades        |\n",
        "| 2           | 50 unidades        |\n",
        "| 3           | 100 unidades        |\n",
        "\n",
        "\n",
        "Además, la empresa quiere asegurarse de que el número de puntos por producción sostenible sea mayor al menos de 50 unidades. Donde los puntos asociados a cada unidad de producto son:\n",
        "\n",
        "| Producto | puntos |\n",
        "|-------------|---------------------|\n",
        "| A           | 4        |\n",
        "| B           | 3        |\n",
        "| C           | 2        |\n",
        "| D           | 1        |\n",
        "\n"
      ],
      "metadata": {
        "id": "s5Uq-7kAbB6Y"
      }
    },
    {
      "cell_type": "markdown",
      "source": [
        "## <font color='8EC044'> **Formulación del problema** </font>\n",
        "\n",
        "\n",
        "\\begin{align*}\n",
        "\\text{maximizar} \\ z = &20x_A + 15x_B + 25x_C + 50x_D\\\\\n",
        "\\text{s.a.} \\\\\n",
        "\\text{Ingredientes 1:} & \\quad 2x_A + x_B + 3x_C + 2x_D \\leq 60 \\\\\n",
        "\\text{Ingredientes 2:} & \\quad 3x_A + 2x_B + x_C + 4x_D \\leq 50 \\\\\n",
        "\\text{Ingredientes 3:} & \\quad x_A + 2x_B + 4x_C + 3x_D \\leq 100 \\\\\n",
        "\\text{Producción sost.:} & \\quad 4x_A + 3x_B + 2x_C + 1x_D \\geq 50 \\\\\n",
        "\\text{No negatividad:} & \\quad x_A \\geq 0, \\, x_B \\geq 0, \\, x_C \\geq 0, \\, x_D \\geq 0\n",
        "\\end{align*}"
      ],
      "metadata": {
        "id": "5AbaDDadfcz8"
      }
    },
    {
      "cell_type": "markdown",
      "source": [
        "## <font color='8EC044'> **Implementación** </font>"
      ],
      "metadata": {
        "id": "ktdeATNH5LwR"
      }
    },
    {
      "cell_type": "markdown",
      "source": [
        "En este caso usaremos `AMPL` para modelar el problema y `CPLEX` para resolverlo, puesto que de esta forma podemos obtener fácilmente la información que requeriremos en el analisis de sensibilidad. Dependiendo del modelador y del solver de solución puede ser posible o no obtener esta infromación fácilmente."
      ],
      "metadata": {
        "id": "76-0NZIGcsiS"
      }
    },
    {
      "cell_type": "code",
      "source": [
        "ampl = tools.ampl_notebook(\n",
        "    modules=[\"highs\", \"cbc\", \"gurobi\", \"cplex\"], # Los optimizadores que vamos a usar\n",
        "    license_uuid=\"default\") # license to use (Aqui hay que poner su licencia :-;"
      ],
      "metadata": {
        "id": "eR1nx1OyKPNG"
      },
      "execution_count": null,
      "outputs": []
    },
    {
      "cell_type": "markdown",
      "source": [
        "En nuestro caso, crearemos la  función `create_model()` que genera el modelo para usarla en caso que tengamos que  generarlo para distintos conjuntos de datos."
      ],
      "metadata": {
        "id": "ztECUOFYdJx6"
      }
    },
    {
      "cell_type": "code",
      "source": [
        "def create_model(ampl, products, ingredients, benefits, disponibility, requirement, volumn, prod_min):\n",
        "  #Conjuntos\n",
        "  ampl.eval(\n",
        "      \"\"\" reset;\n",
        "          set Products;          #Conjunto de producos\n",
        "          set Ingredients;\t\t\t\t#Conjunto de ingredientes\n",
        "          #Parameters\n",
        "          param benefit{Products}>=0;              # Beneficio de cada producto\n",
        "          param dispon{Ingredients}>=0;              # disponibilidad de cada ingrediente\n",
        "          param requerim {Ingredients,Products}>=0; # Requerimiento de ingrediente por producto\n",
        "          param volumn{Products}>=0;              # Aporte por unidad de producto\n",
        "          param prod_min >=0;                             # Numero minimo de productos\n",
        "\n",
        "          #Variables\n",
        "          var x{j in Products}>=0;  # Cantidad de producto a fabricar\n",
        "\n",
        "          #Objective function\n",
        "          maximize TotalBenefit: sum{j in Products}benefit[j]*x[j];\n",
        "\n",
        "          #Constraints\n",
        "          subject to Disponibilidad{i in Ingredients}:\n",
        "          sum{j in Products}requerim[i,j]*x[j]<=dispon[i];\n",
        "\n",
        "          subject to ProdMin:\n",
        "          sum{j in Products}volumn[j]*x[j]>=prod_min;\"\"\")\n",
        "\n",
        "  # instantiate the model\n",
        "  #Parametros cargados directamente\n",
        "  ampl.set[\"Products\"] = products\n",
        "  ampl.set[\"Ingredients\"] = ingredients\n",
        "  ampl.param[\"benefit\"] = benefits\n",
        "  ampl.param[\"dispon\"] = disponibility\n",
        "  ampl.param[\"requerim\"] = requirement\n",
        "  ampl.param[\"volumn\"] = volumn\n",
        "  ampl.param[\"prod_min\"] = prod_min\n",
        "\n",
        "  return ampl\n"
      ],
      "metadata": {
        "id": "Il0hyAE5A2ZD"
      },
      "execution_count": null,
      "outputs": []
    },
    {
      "cell_type": "markdown",
      "source": [
        "Construimos los datos de la instancia para alimentar la función que crea el modelo"
      ],
      "metadata": {
        "id": "qtErqUZwOIqr"
      }
    },
    {
      "cell_type": "code",
      "source": [
        "products = [\"A\", \"B\", \"C\", \"D\"]\n",
        "ingredients = [1, 2, 3] #En Python contamos desde 0 ! Acuerdate de esto\n",
        "benefits = {\"A\": 20, \"B\": 15, \"C\": 25, \"D\": 50}\n",
        "disponibility = {1: 60, 2: 50, 3: 100}\n",
        "requirement = {\n",
        "    (1, 'A'): 2,\n",
        "    (1, 'B'): 1,\n",
        "    (1, 'C'): 3,\n",
        "    (1, 'D'): 2,\n",
        "    (2, 'A'): 3,\n",
        "    (2, 'B'): 2,\n",
        "    (2, 'C'): 1,\n",
        "    (2, 'D'): 4,\n",
        "    (3, 'A'): 1,\n",
        "    (3, 'B'): 2,\n",
        "    (3, 'C'): 4,\n",
        "    (3, 'D'): 3\n",
        "}\n",
        "volumn = {\"A\": 4, \"B\": 3, \"C\": 2, \"D\": 1}\n",
        "prod_min = 50\n",
        "\n"
      ],
      "metadata": {
        "id": "1BKnUjhYDTa5"
      },
      "execution_count": null,
      "outputs": []
    },
    {
      "cell_type": "markdown",
      "source": [
        "Para efectos de correr el modelo y poder evidenciar los conceptos del análisis de sensibilidad usaremos `cplex` desactivando las opciones de presolver y activando el componente de sensibilidad"
      ],
      "metadata": {
        "id": "hImvMAv-Ncoy"
      }
    },
    {
      "cell_type": "code",
      "source": [
        "%%ampl_eval\n",
        "option solver cplex;\n",
        "option cplex_options 'sensitivity';\n",
        "option presolve 0;"
      ],
      "metadata": {
        "id": "f1XCGBqlD5fC"
      },
      "execution_count": null,
      "outputs": []
    },
    {
      "cell_type": "markdown",
      "source": [
        "Corremos el modelo e imprimimos la solución de las variables de decisión y el valor de la función objetivo"
      ],
      "metadata": {
        "id": "JZ3J0GM_TtyI"
      }
    },
    {
      "cell_type": "code",
      "source": [
        "# Creamos el mdoelo y resolvemos el modelo\n",
        "ampl = create_model(ampl, products, ingredients, benefits, disponibility, requirement, volumn, prod_min)\n",
        "ampl.solve()\n",
        "# Imprimimos los resultados\n",
        "TotalBenefit = ampl.get_objective(\"TotalBenefit\")\n",
        "print(\"\\nObjective is:\", TotalBenefit.get().value())\n",
        "ampl.get_data(\"x\").to_pandas()"
      ],
      "metadata": {
        "id": "1wWyUo45__84"
      },
      "execution_count": null,
      "outputs": []
    },
    {
      "cell_type": "markdown",
      "source": [
        "# <font color='056938'> **Introducción** </font>"
      ],
      "metadata": {
        "id": "RPYSDWDe4aY7"
      }
    },
    {
      "cell_type": "markdown",
      "source": [
        "Considere una función de dos variables $f : A × B ↦ C$ toma dos valores de entrada, $a ∈ A$ y $b ∈ B$, y produce un valor de salida $ f(a, b) = c ∈ C$.\n",
        "\n",
        "> La función $f$ se puede ver como una colección de funciones, una para cada $a \\in A $, que mapea $B$ a $C$. Es decir, considere $f$ como el conjunto de funciones $\\{g_a : B ↦ C | a ∈ A\\}$ , dónde $g_a(b) ≡ f(a, b) \\ ∀a ∈ A, ∀b ∈ B$.\n",
        "\n",
        "> Al intercambiar el rol de $A$ y $B$  se considera el conjunto de funciones $\\{hb : A ↦ C | b ∈ B\\}$ dónde $h_b(a) ≡ f(a, b) \\ ∀b ∈ B, ∀a ∈ A$. \\\\\n",
        "\n",
        "Estas dos formas de ver f son duales entre si. [1]\n",
        "\n",
        "![](https://docs.google.com/uc?export=download&id=1MJt0Ts8UUIBFivv-VSDUb-XWRPJbi3zf)\n",
        "\n",
        "Por ejemplo, $f(x, y) = 5x + x^2y - 10y^3 $ se puede ver como un conjunto de funciones de $y$, una para cada valor real de $x$.\n",
        "> Para $x = 1$, $g_1(y) = 5 + y - 10y^3$.\n",
        "\n",
        "> Para $x = 20$, $g_{20}(y) = 100 + 400y - 10y^3 $\n",
        "\n",
        "De forma similar, puede verse $f$ como un conjunto de funciones de $x $, una para cada valor real de $y$.\n",
        "> Para $y = 0$, $h_0(x) = 5x $.\n",
        "\n",
        "> Para $y = -1$, $h_{-1}(x) = 5x - x^2 + 10 $.\n",
        "\n"
      ],
      "metadata": {
        "id": "3C_iEzkr4Tnt"
      }
    },
    {
      "cell_type": "markdown",
      "source": [
        "## <font color='8EC044'> **Dualidad en el juego de Sudoku** </font>\n",
        "\n",
        "El Sudoku es  una matriz de 9 × 9 que se subdivide en nueve submatrices de 3 × 3 mediante líneas entre las filas 3 y 4, las filas 6 y 7, las columnas 3 y 4, y las columnas 6 y 7. Cada celda de la matriz debe contener un entero entre 1 y 9. Inicialmente, algunas de las celdas contienen enteros y el resto están vacías. El objetivo del Sudoku es completar la matriz de manera que cada fila, columna y submatriz de 3 × 3 contenga todos los números del 1 al 9, sin que se repitan en ninguna de ellas.\n",
        "\n",
        "- $M_{i,:}$: denota las columnas de la cuadrícula de Sudoku, donde $i = 1, 2, \\ldots, 9$.\n",
        "- $M_{:,j}$: denota las filas de la cuadrícula de Sudoku, donde $j = 1, 2, \\ldots, 9$.\n",
        "- $M\\{i, i + 1, i + 2\\}, \\{j, j + 1, j + 2\\}$: denota las submatrices de 3 × 3 dentro de la cuadrícula de Sudoku, donde $i = 1, 4, 7$ y $j = 1, 4, 7$.\n",
        "\n"
      ],
      "metadata": {
        "id": "b_wKtbFW_ko2"
      }
    },
    {
      "cell_type": "markdown",
      "source": [
        "Se define la solución a un Sudoku como una función $f : A \\times B \\rightarrow C \\$ donde:\n",
        "\n",
        "- $A = \\{1, 2, 3, 4, 5, 6, 7, 8, 9\\}$, el conjunto de posibles valores asignados a las celdas.\n",
        "- $B = \\{(i, j) : 1 \\leq i \\leq 9; 1 \\leq j \\leq 9\\}$, el conjunto de celdas.\n",
        "- $C = \\{T, F\\}$, representando \"Verdadero\" y \"Falso\".\n",
        "- $f(a, b) = T$ si el valor $a$ está asignado a la celda $b$; $f(a, b) = F$ si no lo está."
      ],
      "metadata": {
        "id": "KGHNnCyWBdOO"
      }
    },
    {
      "cell_type": "markdown",
      "source": [
        "> Para cada entero $a \\in A$, la función $g_a : B \\rightarrow C$ indica a qué celdas se asigna $a$.\n",
        "\n",
        "> Para cada celda $b \\in B$, la función $h_b : A \\rightarrow C$ indica qué entero se asigna a $b$.\n",
        "\n",
        "Estos dos conjuntos de funciones son duales entre sí."
      ],
      "metadata": {
        "id": "7jb_SRqQDSxH"
      }
    },
    {
      "cell_type": "markdown",
      "source": [
        "### <font color='46B8A9'> **Ejercicio** </font>\n",
        "\n",
        "Considere el siguiente Sudoku\n",
        "\n",
        "![](https://docs.google.com/uc?export=download&id=146qHYwpk-njXEQ3YBEf0Sr_Kyd4y_cg8)\n",
        "\n",
        "> ¿Dónde debe ubicarse el 2 en la submatriz central \\(M\\{4,5,6\\},\\{4,5,6\\}\\)?\n",
        "\n",
        "> ¿Qué valor debe asignarse a la celda (1, 5)?\n",
        "\n"
      ],
      "metadata": {
        "id": "Y5bHGt23D7my"
      }
    },
    {
      "cell_type": "code",
      "source": [],
      "metadata": {
        "id": "w2YFFqsV4d2L"
      },
      "execution_count": null,
      "outputs": []
    },
    {
      "cell_type": "markdown",
      "source": [
        "# <font color='056938'> **Dualidad en programación lineal** </font>\n",
        "\n",
        "Para cada programa lineal que resolvemos, hay otro programa lineal asociado  que estamos resolviendo simultáneamente. Este nuevo programa lineal cumple algunas propiedades  importantes. Puede ser utilizado para obtener la solución al programa original, y sus variables proporcionan información útil sobre el conjunto de soluciones óptimas para el programa lineal original.\n",
        "\n",
        "En el programa lineal asociado definimos nuevas variables de sensibilidad y formulamos el programa lineal asociado que nos permita obtener los valores que deseamos conocer. Para ello será necesario diferenciar entre los dos problemas.\n",
        "\n",
        "> El problema **primal** es el modelo de optimización dado, aquel que formula la aplicación de interés primario.\n",
        "\n",
        "> El problema **dual** correspondiente a una formulación primal dada es un programa lineal estrechamente relacionado, con variables de decisión y restricciones que cuantifican la sensibilidad de los resultados primales a cambios en sus parámetros.\n",
        "\n",
        "Construiremos cada uno de los componentes del problema **dual**.\n",
        "\n"
      ],
      "metadata": {
        "id": "eu83d9rTIxk_"
      }
    },
    {
      "cell_type": "markdown",
      "source": [
        "## <font color='8EC044'> **Variables duales** </font>"
      ],
      "metadata": {
        "id": "64k9IxywNgrY"
      }
    },
    {
      "cell_type": "markdown",
      "source": [
        "Las variables duales cuantificaran el cambio en la función objetivo ante cambios en los valores del lado derecho (vector de recursos) de las restricciones.\n",
        "\n",
        "Note que para para el problema de mezcla que usamos de referencia, el valor de dicho cambio se visualiza como la pendiente de la curva en diferentes valores del parámetro."
      ],
      "metadata": {
        "id": "DgZaAZCsRCnV"
      }
    },
    {
      "cell_type": "code",
      "source": [
        "ampl = create_model(ampl, products, ingredients, benefits, disponibility, requirement, volumn, prod_min)\n",
        "values = []\n",
        "change_param = ampl.get_parameter(\"dispon\")\n",
        "# iterate over different values of the parameter\n",
        "for value in range(0, 200):\n",
        "  change_param.set_values({1: value})\n",
        "  ampl.solve()\n",
        "  status = ampl.get_value('solve_result_num')\n",
        "  if status < 99:\n",
        "    values.append((value, TotalBenefit.get().value()))\n",
        "\n",
        "df = pd.DataFrame(values, columns=[\"param_value\", \"obj_function\"])\n",
        "\n",
        "# Create line plot using Plotly Express\n",
        "fig = px.line(df, x='param_value', y='obj_function', title='Changes in RHS parameter')\n",
        "# Update axes labels\n",
        "fig.update_xaxes(title_text='RHS')\n",
        "fig.update_yaxes(title_text='Obj function')\n",
        "\n",
        "# Show plot\n",
        "fig.show()"
      ],
      "metadata": {
        "id": "COUv0uKXOPUW"
      },
      "execution_count": null,
      "outputs": []
    },
    {
      "cell_type": "markdown",
      "source": [
        "> Hay una **variable dual** (que denotaremos $v_i$) para cada restricción $i$ del primal. Cada una refleja la tasa de cambio en el valor óptimo del primal por cada unidad de aumento desde el valor dado del lado derecho de la correspondiente restricción.\n",
        "\n",
        "\n",
        "Dado que el **dual** solo proporciona un análisis subsidiario del primal, que es el modelo de interés real. Los valores óptimos de las variables duales para cualquier PL  solo generan tasas de cambio en el valor original del parámetro del lado derecho\n",
        "\n",
        "<font color='8EC044'> **Tipo de variable dual** </font>\n",
        "\n",
        "Considerando el análisis que ya hicimos sobre relajar o hacer más estricto el programa lineal nos permite determinar el conjunto de valores o tipo de variable dual que debemos esperar. Por ejemplo:\n",
        "\n",
        "> Un aumento en el lado derecho de una restricción $\\leq$ en un modelo de maximización relaja la restricción, lo que deja el valor óptimo sin cambios o reducido. Por lo que la variable dual correspondiente $v_i \\geq 0$.\n",
        "\n",
        "\n",
        "\n",
        "\n",
        "\n",
        "\n"
      ],
      "metadata": {
        "id": "tV-r4nmoSDm_"
      }
    },
    {
      "cell_type": "markdown",
      "source": [
        "### <font color='46B8A9'> **Ejercicio** </font>\n",
        "\n",
        "Analice el cambio resultante de aumentar en una unidad el lado derecho de una restricción y complete la siguiente tabla:\n",
        "\n",
        "|     Primal |Restricción $\\leq$|Restricción $\\geq$|Restricción $=$|\n",
        "|------------|------------------|------------------|---------------|\n",
        "|Maximización|                  |                  |No restringida |\n",
        "|Minimización|   $v_i \\geq 0$   |                  |               |\n"
      ],
      "metadata": {
        "id": "YILDFeCgWtp0"
      }
    },
    {
      "cell_type": "markdown",
      "source": [
        "Note por ejemplo que para el caso de la restricción de producción sostenible (restricción $\\geq$) el el tipo de variable dual es $v \\leq 0$. Es decir, la pendiente es negativa."
      ],
      "metadata": {
        "id": "mCBi2ahfYDbN"
      }
    },
    {
      "cell_type": "code",
      "source": [
        "ampl = create_model(ampl, products, ingredients, benefits, disponibility, requirement, volumn, prod_min)\n",
        "values = []\n",
        "change_param = ampl.get_parameter(\"prod_min\")\n",
        "print(change_param)\n",
        "# iterate over different values of the parameter\n",
        "for value in range(0, 200):\n",
        "  change_param.set_values([value])\n",
        "  ampl.solve()\n",
        "  status = ampl.get_value('solve_result_num')\n",
        "  if status < 99:\n",
        "    values.append((value, TotalBenefit.get().value()))\n",
        "\n",
        "df = pd.DataFrame(values, columns=[\"param_value\", \"obj_function\"])\n",
        "\n",
        "# Create line plot using Plotly Express\n",
        "fig = px.line(df, x='param_value', y='obj_function', title='Changes in RHS parameter')\n",
        "# Update axes labels\n",
        "fig.update_xaxes(title_text='RHS')\n",
        "fig.update_yaxes(title_text='Obj function')\n",
        "\n",
        "# Show plot\n",
        "fig.show()"
      ],
      "metadata": {
        "id": "BioL2Cl4YZid"
      },
      "execution_count": null,
      "outputs": []
    },
    {
      "cell_type": "markdown",
      "source": [
        "<font color='8EC044'> **Interpretación económica** </font>\n",
        "\n",
        "Debido a que las variables duales nos indican la tasa de cambio en el valor óptimo para una unidad adicional de cada lado derecho (RHS, por sus siglas en inglés), proporcionan una especie de precio implícito sobre el recurso de cada restricción del modelo. Para ser más precisos, producen lo que los economistas llaman **precios marginales**."
      ],
      "metadata": {
        "id": "DAx0H--WmIKr"
      }
    },
    {
      "cell_type": "markdown",
      "source": [
        "### <font color='46B8A9'> **Ejercicio** </font>\n",
        "\n",
        "En el problema de mezcla, estime e **interprete** el precio marginal de disponer de una unidad extra del ingrediente 2. Use para ello la gráfica del valor de la función objetivo respecto al lado derecho y estime manualmente la pendiente"
      ],
      "metadata": {
        "id": "Xx-lboNZmgPT"
      }
    },
    {
      "cell_type": "code",
      "source": [
        "ampl = create_model(ampl, products, ingredients, benefits, disponibility, requirement, volumn, prod_min)\n",
        "values = []\n",
        "change_param = ampl.get_parameter(\"dispon\")\n",
        "# iterate over different values of the parameter\n",
        "for value in range(0, 200):\n",
        "  change_param.set_values({2: value})\n",
        "  ampl.solve()\n",
        "  status = ampl.get_value('solve_result_num')\n",
        "  if status < 99:\n",
        "    values.append((value, TotalBenefit.get().value()))\n",
        "\n",
        "df = pd.DataFrame(values, columns=[\"param_value\", \"obj_function\"])\n",
        "\n",
        "# Create line plot using Plotly Express\n",
        "fig = px.line(df, x='param_value', y='obj_function', title='Changes in RHS parameter')\n",
        "# Update axes labels\n",
        "fig.update_xaxes(title_text='RHS')\n",
        "fig.update_yaxes(title_text='Obj function')\n",
        "\n",
        "# Show plot\n",
        "fig.show()"
      ],
      "metadata": {
        "id": "_L4ToGLim-dM"
      },
      "execution_count": null,
      "outputs": []
    },
    {
      "cell_type": "markdown",
      "source": [
        "Repita el ejercicio anterior, esta vez considerando la restricción asociada al ingrediente 3"
      ],
      "metadata": {
        "id": "Qbqj5szDn1r9"
      }
    },
    {
      "cell_type": "code",
      "source": [
        "# Escriba aquí su respuesta"
      ],
      "metadata": {
        "id": "VyWQwTptn-F9"
      },
      "execution_count": null,
      "outputs": []
    },
    {
      "cell_type": "markdown",
      "source": [
        "## <font color='8EC044'> **Restricciones del problema dual** </font>\n",
        "\n",
        "La actividad asociada a cualquier variable de decisión consume recursos (en una restricción de $\\leq$) o crean recursos (en una restricción de $\\geq$) de las restricciones\n",
        "\n",
        "\n"
      ],
      "metadata": {
        "id": "8TRBnATllZ_l"
      }
    },
    {
      "cell_type": "markdown",
      "source": [
        "<font color='8EC044'>**Costo o precio implícito de una actividad** </font>\n",
        "\n",
        "Los coeficientes de una actividad (variable) en cada restricción  pueden interpretarse como cantidades consumidas o creadas por unidad de la actividad. Al sumar esos coeficientes multiplicados por el precio implícito $(v_i)$ de los recursos involucrados, podemos obtener un valor marginal de la actividad, en problemas de minimización, o un precio  de la actividad en problemas de maximización.\n",
        "\n",
        "> El valor marginal implícito (en problemas de minimización) o el precio (en problemas de maximización) de una unidad de actividad (variable primal) $j$ generada por los valores de las variables duales $v_i$ es $\\sum_{i} a_{ij}v_i$, donde $a_{ij}$ denota el coeficiente de la actividad $j$ en el lado izquierdo de la restricción $i$."
      ],
      "metadata": {
        "id": "BTuCTiz3xvKV"
      }
    },
    {
      "cell_type": "markdown",
      "source": [
        "En el problema de mezcla, el costo marginal de una unidad de producto $A$ estaria dado por:\n",
        "> $\\sum_{i=1}^4 a_{iA}v_i = 2v_1 + 3v_2 + 1v_3+ 4v_4$"
      ],
      "metadata": {
        "id": "59kWymOTvtsW"
      }
    },
    {
      "cell_type": "markdown",
      "source": [
        "### <font color='46B8A9'> **Ejercicio** </font>\n",
        "\n",
        "Determine como se calcula el costo marginal implícito de una unidad de producto D en términos de las variables duales."
      ],
      "metadata": {
        "id": "QL0K-QUnwsAr"
      }
    },
    {
      "cell_type": "markdown",
      "source": [
        "<font color='8EC044'>**Restricción para garantizar costo o precio de las actividades** </font>\n",
        "\n",
        "\n",
        "El valor implícito de la actividad por unidad permite construir las restricciones duales. Si las variables duales $v_i$ realmente  reflejar el valor de los recursos de la restricción en el valor óptimo primal, el valor implícito de la actividad debe ser consistente con los costos o beneficios unitarios explícitos en la función objetivo primal."
      ],
      "metadata": {
        "id": "_FEM2OtKxqs1"
      }
    },
    {
      "cell_type": "markdown",
      "source": [
        "> Para cada variable no negativa de actividad $x_j$ en un programa lineal hay una correspondiente restricción dual\n",
        "* En un programa de minimización, la  restricción dual $\\sum_ia_{ij}v_i \\leq c_j$  asegura que el valor marginal neto de la actividad no exceda su costo dado.\n",
        "* En un problema de maximización, la restricción dual $\\sum_ia_{ij}v_i \\geq c_j$, mantiene el costo marginal neto de cada actividad al menos igual a su beneficio dado.\n",
        "\n",
        "En el problema de mezcla, la restricción del costo marginal de una unidad de producto $A$ estaria dada por:\n",
        "> $\\sum_{i=1}^4 a_{iA}v_i \\geq c_A \\longrightarrow 2v_1 + 3v_2 + 1v_3+ 4v_4 \\geq 20$"
      ],
      "metadata": {
        "id": "HNMOI0eNzeZt"
      }
    },
    {
      "cell_type": "markdown",
      "source": [
        "### <font color='46B8A9'> **Ejercicio** </font>\n",
        "\n",
        "Determine la restricción dual asociada al costo marginal implícito de una unidad de producto D en términos de las variables duales."
      ],
      "metadata": {
        "id": "_j5AIcGfIUUR"
      }
    },
    {
      "cell_type": "markdown",
      "source": [
        "## <font color='8EC044'> **Función objetivo del problema dual** </font>\n",
        "\n",
        "La función objetivo del problema dual tiene un sentido opuesto a la del problema primal. Es decir para un problema primal de maximización el dual es de minimización,  mientras que para un problema primal de minimización el problema duale es de maximización.\n",
        "\n",
        "> Para un programa lineal la función objetivo considera el valor total de los recursos disponibles o los requeridos. Es decir,\n",
        "* Para un problema primal de maximización, el problema dual minimiza el valor implicito total de los recursos disponibles estableciendo precios justos para cada uno de ellos, es decir, $\\min \\sum_{i} b_iv_i$\n",
        "* Para un problema de minimización, el problema dual minimiza el valor costo total de los recursos requeridos, es decir, $\\max \\sum_{i} b_iv_i$"
      ],
      "metadata": {
        "id": "x2PVgMX7ImKb"
      }
    },
    {
      "cell_type": "markdown",
      "source": [
        "### <font color='46B8A9'> **Ejercicio** </font>\n",
        "\n",
        "Determine la función objetivo para el problema de mezcla que hemos venido discutiendo en este notebook"
      ],
      "metadata": {
        "id": "tMgFC_vHMvV8"
      }
    },
    {
      "cell_type": "markdown",
      "source": [
        "# <font color='056938'> **Interpretación económica del problema dual** </font>\n",
        "\n",
        "Para tener una visión completa del problema lineal, es de utilidad revisar la interpretación del economica del problema dual completo [2]"
      ],
      "metadata": {
        "id": "Mdw4vql6M5mT"
      }
    },
    {
      "cell_type": "markdown",
      "source": [
        "## <font color='8EC044'> **Variables duales** </font>\n",
        "\n",
        "Consideremos el siguiente programa lineal :\n",
        "\n",
        "\n",
        "\\begin{align*}\n",
        "& \\text{Minimizar } \\mathbf{c}^\\top \\mathbf{x} \\\\\n",
        "& \\text{sujeto a } \\mathbf{Ax} \\geq \\mathbf{b} \\\\\n",
        "& \\mathbf{x} \\geq \\mathbf{0}\n",
        "\\end{align*}\n",
        "\n",
        "y su dual\n",
        "\n",
        "\n",
        "\\begin{align*}\n",
        "& \\text{Maximizar } \\mathbf{v}^\\top \\mathbf{b} \\\\\n",
        "& \\text{sujeto a } \\mathbf{vA} \\leq \\mathbf{c} \\\\\n",
        "& \\mathbf{v} \\geq \\mathbf{0}\n",
        "\\end{align*}\n",
        "\n",
        "\n",
        "\n",
        "Sea $B$ una base óptima para el problema primal con $\\mathbf{c}_B$ como su vector de costos asociado. Supongamos que esta solución básica factible óptima $x^*$ es no degenerada. Denotando $J$ como el conjunto de índices para las variables no básicas $x_j$, que pueden incluir tanto variables de holgura y execeso como variables estructurales (es decir, $J \\subseteq \\{1, \\ldots, n + m\\}$, tenemos:\n",
        "\n",
        "> $z = \\mathbf{c}_B^T \\mathbf{b} - \\sum_{j \\in J} (c_j - \\mathbf{c}_B^T \\mathbf{B}^{-1} \\mathbf{A}_j) x_j = \\mathbf{v}^T \\mathbf{b} - \\sum_{j \\in J} (\\mathbf{v} - \\mathbf{c}_j) x_j. \\quad $\n",
        "\n",
        "Si el i-ésimo lado derecho $b_i$ se perturba ligeramente (positiva o negativamente), dado que la solución factible básica actual permanece factible, mantenemos su optimalidad. Por lo tanto, si $z$ es el valor óptimo de la función objetivo y $\\mathbf{B}_i$ es la  i-ésima columna de $\\mathbf{B}^{-1}$, tenemos:\n",
        "\n",
        "> $\\frac{\\partial z^*}{\\partial b_i} = \\mathbf{c}_B^T \\mathbf{B}_i = \\mathbf{v}^*$\n",
        "\n",
        "\n",
        "Así, $\\mathbf{v}^*$ es la tasa de cambio del valor óptimo de la función objetivo con un aumento unitario en el valor del lado derecho $b_i$"
      ],
      "metadata": {
        "id": "7EkRISOLr0AV"
      }
    },
    {
      "cell_type": "markdown",
      "source": [
        "### <font color='46B8A9'> **Ejercicio** </font>\n",
        "\n",
        "Considere el programa lineal\n",
        "\n",
        "\\begin{align*}\n",
        "\\text{maximizar} \\ z = &20x_A + 15x_B + 25x_C + 50x_D\\\\\n",
        "\\text{s.a.} \\\\\n",
        "\\text{Ingredientes 1:} & \\quad 2x_A + x_B + 3x_C + 2x_D \\leq 60 \\\\\n",
        "\\text{Ingredientes 2:} & \\quad 3x_A + 2x_B + x_C + 4x_D \\leq 50 \\\\\n",
        "\\text{Ingredientes 3:} & \\quad x_A + 2x_B + 4x_C + 3x_D \\leq 100 \\\\\n",
        "\\text{Producción sost.:} & \\quad 4x_A + 3x_B + 2x_C + 1x_D \\geq 50 \\\\\n",
        "\\text{No negatividad:} & \\quad x_A \\geq 0, \\, x_B \\geq 0, \\, x_C \\geq 0, \\, x_D \\geq 0\n",
        "\\end{align*}\n",
        "\n",
        "cuya solución óptima es la siguiente:"
      ],
      "metadata": {
        "id": "VeB8A4Fbw4zE"
      }
    },
    {
      "cell_type": "code",
      "source": [
        "%%ampl_eval\n",
        "option solver cplex;\n",
        "option cplex_options 'sensitivity';\n",
        "option presolve 0;"
      ],
      "metadata": {
        "id": "-8hG7MNHxgfC"
      },
      "execution_count": null,
      "outputs": []
    },
    {
      "cell_type": "code",
      "source": [
        "# Creamos el mdoelo y resolvemos el modelo\n",
        "ampl = create_model(ampl, products, ingredients, benefits, disponibility, requirement, volumn, prod_min)\n",
        "ampl.solve()\n",
        "# Imprimimos los resultados\n",
        "TotalBenefit = ampl.get_objective(\"TotalBenefit\")\n",
        "print(\"\\nObjective is:\", TotalBenefit.get().value())\n",
        "ampl.get_data(\"x\").to_pandas()\n"
      ],
      "metadata": {
        "id": "71OrhXutxnOk"
      },
      "execution_count": null,
      "outputs": []
    },
    {
      "cell_type": "code",
      "source": [
        "ampl.display('_conname, _con.slack, _con.down,  _con.current, _con.up')"
      ],
      "metadata": {
        "id": "RlC4AOhSyLNt"
      },
      "execution_count": null,
      "outputs": []
    },
    {
      "cell_type": "markdown",
      "source": [
        "Teniendo en cuenta esta información obtenga el valor de las varaibles duales como\n",
        "> $\\frac{\\partial z^*}{\\partial b_i} = \\mathbf{c}_B^T \\mathbf{B}_i = \\mathbf{v}^*$"
      ],
      "metadata": {
        "id": "HxzQdO3myDiV"
      }
    },
    {
      "cell_type": "code",
      "source": [
        "# Escriba aqui su respuesta\n",
        "\n"
      ],
      "metadata": {
        "id": "05r99GO5yyCg"
      },
      "execution_count": null,
      "outputs": []
    },
    {
      "cell_type": "markdown",
      "source": [
        "**tip**: Puede serle de utilidad como calcular la inversa de de una matriz y realizar el producto de un vector con una matriz"
      ],
      "metadata": {
        "id": "5hMcgiuqy2Tp"
      }
    },
    {
      "cell_type": "code",
      "source": [
        "from sympy.matrices import Matrix\n",
        "from sympy.vector import Vector\n",
        "B = Matrix(( [1, 2, 3], [3, 6, 2], [2, 0, 1] ))\n",
        "cB = Matrix(( [1, 2, 3]))\n",
        "\n",
        "# Calcular inversa\n",
        "Binv = B.inv(method=\"LU\")\n",
        "\n",
        "# Efectuar producto\n",
        "cB.transpose()*Binv\n",
        "\n"
      ],
      "metadata": {
        "id": "hWx8gyxQzUQB"
      },
      "execution_count": null,
      "outputs": []
    },
    {
      "cell_type": "markdown",
      "source": [
        "## <font color='8EC044'> **Problema de minimización** </font>\n",
        "\n",
        "Supongamos que contratamos a una empresa para producir cantidades especificadas $b_1, b_2, ..., b_m$ de $m$ productos o bienes. La empresa puede participar en cualquiera de $n$ actividades a diferentes niveles para producir los productos. Cada actividad $j$ tiene su propio costo unitario $c_j$, y acordamos pagar el costo total de producción. Desde nuestro punto de vista, nos gustaría tener control sobre las operaciones de la empresa para que podamos especificar la combinación y niveles de actividades en los que la empresa participará para minimizar el costo total de producción. Si $a_{ij}$ denota la cantidad de producto $i$ generado por una unidad de actividad $j$, entonces $\\sum_{j=1}^{n} a_{ij} x_j $ representa las unidades de producción $i$ que se producen. Estas deben ser mayores o iguales a la cantidad requerida $b_i$. Por lo tanto, deseamos resolver el siguiente problema, que es precisamente el problema primal:\n",
        "\n",
        "\\begin{align*}\n",
        "\\text{Minimizar:} & \\quad \\sum_{j=1}^{n} c_j  x_j \\\\\n",
        "\\text{Sujeto a:} & \\quad \\sum_{j=1}^{n} a_{ij} \\cdot x_j \\geq b_i \\quad \\text{para} \\quad i = 1, 2, ..., m \\\\\n",
        "& \\quad x_j \\geq 0 \\quad \\text{para} \\quad j = 1, 2, ..., n\n",
        "\\end{align*}\n",
        "\n",
        "\n",
        "\n",
        "En lugar de intentar controlar la operación de la empresa para obtener la mezcla más deseable de actividades, supongamos que acordamos pagar a la empresa precios unitarios $v_1, v_2, ..., v_m$ por cada uno de los $m$ productos. Sin embargo, también estipulamos que estos precios anunciados por la empresa deben ser justos. Dado que $a_{ij}$ es la cantidad de unidades del producto $i$ producidas por una unidad de actividad $j$ y $v_i$ es el precio unitario del producto $i$, entonces $\\sum_{i=1}^{m} a_{ij} w_i $ puede interpretarse como el precio unitario de la actividad $j $ consistente con los precios $v_1, v_2, ..., v_m$. Por lo tanto, le decimos a la empresa que el precio implícito de la actividad $j$, es decir, $\\sum_{i=1}^{m} a_{ij} v_i$, no debe exceder el costo real $c_j$. Por lo tanto, la empresa debe observar las restricciones $\\sum_{i=1}^{m} a_{ij} v_i \\leq c_j $ para $j = 1, 2, ..., n$ . Dentro de estas restricciones, la empresa desea elegir un conjunto de precios que maximice su retorno $\\sum_{j=1}^{n} v_j b_j$. Esto conduce al siguiente problema dual considerado por la empresa:\n",
        "\n",
        "\\begin{align*}\n",
        "\\text{Maximizar:} & \\quad \\sum_{i=1}^{m} v_i  b_i \\\\\n",
        "\\text{s.a:} & \\quad \\sum_{i=1}^{m} a_{ij}  v_i \\leq c_j \\quad \\text{para} \\quad j = 1, 2, ..., n \\\\\n",
        "& \\quad v_i > 0 \\quad \\text{para} \\quad i = 1, 2, ..., m\n",
        "\\end{align*}"
      ],
      "metadata": {
        "id": "lXALy2ZTPH-r"
      }
    },
    {
      "cell_type": "markdown",
      "source": [
        "## <font color='8EC044'> **Problema de maximización** </font>\n",
        "\n",
        "\n",
        "\n",
        "Supongamos que el programa lineal es un problema de mezcla de productos en el que se están fabricando $n$ productos utilizando algunos $m$ tipos de recursos. Aquí, $x_j$ representa la cantidad de unidades producidas del producto $j$, y $b_i$ representa la cantidad de unidades disponibles para el recurso $i$ para $j = 1, ..., n$ e $i = 1, ..., m$. Una unidad del producto $j$ genera una ganancia de $c_j$ unidades y consume $a_{ij}$ unidades del recurso $i$ para $i = 1, ..., m $. Por lo tanto, deseamos resolver el siguiente problema, que es precisamente el problema primal:\n",
        "\n",
        "\\begin{align*}\n",
        "\\text{Maximizar:} & \\quad \\sum_{j=1}^{n} c_j x_j \\\\\n",
        "\\text{s.a.} & \\quad \\sum_{j=1}^{n} a_{ij}  x_j \\leq b_i \\quad \\text{for} \\quad i = 1, 2, ..., m \\\\\n",
        "& \\quad x_j \\geq 0 \\quad \\text{for} \\quad j = 1, 2, ..., n\n",
        "\\end{align*}\n",
        "\n",
        "\n",
        " Consideramos $w_i$ como el precio sombra, el valor implicito o el precio de mercado por una unidad de recurso $i$. Entonces, las restricciones duales tienen la siguiente interpretación. Observe que si el fabricante considera alquilar los $m$ recursos a precios unitarios $w_1, ..., w_m$ en lugar de fabricar la mezcla de productos, entonces cada unidad del producto no fabricada resultaría en una pérdida de ganancia de $c_i$ unidades, pero ganaría un alquiler de $\\sum_{i=1}^m a_{ij} w_i$ unidades debido a los recursos que esto libera. Las restricciones duales $\\sum_{i=1}^m a_{ij} w_i \\geq c_j$ garantizan que esto sea al menos tan rentable como la fabricación de los productos. Sin embargo, para mantener precios justos o competitivos mientras se garantiza esta rentabilidad, el objetivo dual busca minimizar el alquiler total. Dando como resultado el siguiente problema dual:\n",
        "\n",
        " \\begin{align*}\n",
        "\\text{Minimizar:} & \\quad \\sum_{j=1}^{m} b_j  v_j \\\\\n",
        "\\text{s.a.} & \\quad \\sum_{j=1}^{m} a_{ij} v_j \\geq c_i \\quad \\text{for} \\quad i = 1, 2, ..., n \\\\\n",
        "& \\quad v_j \\geq 0 \\quad \\text{for} \\quad j = 1, 2, ..., m\n",
        "\\end{align*}"
      ],
      "metadata": {
        "id": "H2ZrLSNyRhPS"
      }
    },
    {
      "cell_type": "code",
      "source": [],
      "metadata": {
        "id": "TGo8nqV_vqoD"
      },
      "execution_count": null,
      "outputs": []
    },
    {
      "cell_type": "markdown",
      "source": [
        "# <font color='056938'> **Relaciones entre componentes del problema primal y dual** </font>"
      ],
      "metadata": {
        "id": "h9wyPFzHaMGm"
      }
    },
    {
      "cell_type": "markdown",
      "source": [
        "## <font color='8EC044'> **Igualdad entre el valor óptimo primal y dual** </font>\n",
        "Si las variables duales están destinadas a fijar correctamente los precios de los recursos asociados con las restricciones, los suministros y las demandas de esos recursos deben equivaler exactamente al valor óptimo primal.\n",
        "\n",
        "> Si un programa lineal primal tiene una solución óptima, su valor óptimo $\\sum_{j=1}^{n} c_j  x_j^*$ es igual al valor total implícito dual óptimo $\\sum_{i=1}^{m} b_i \\cdot v_i^*$ de todos los recursos de restricción correspondientes.\n",
        "\n",
        "En el caso del problema de mezcla tendriamos:\n",
        "\n",
        "> $20x_A^* + 15x_B^* + 25x_C^* + 50x_D^* = 60v_1^* + 50v_2^* + 100v_3^* + 50v_4^*$"
      ],
      "metadata": {
        "id": "ZGx0B0HQar0B"
      }
    },
    {
      "cell_type": "markdown",
      "source": [
        "## <font color='8EC044'> **Holgura complementaria entre restricciones primales y variables duales** </font>\n",
        "\n",
        "Una desigualdad está activa si se satisface como una igualdad por una solución dada, y está inactiva de lo contrario. Si una desigualdad está inactiva en la solución óptima primal, cambios pequeños en su lado derecho no afectarían en absoluto al valor óptimo; la restricción tiene holgura. Podemos deducir inmediatamente el valor de la variable dual correspondiente $v_i$.\n",
        "\n",
        "> En la solución óptima primal, o bien la restricción principal de desigualdad $i$ está activa, o la variable dual correspondiente $v_i = 0$."
      ],
      "metadata": {
        "id": "Gp6cE_6ccjv0"
      }
    },
    {
      "cell_type": "markdown",
      "source": [
        "### <font color='46B8A9'> **Ejercicio** </font>"
      ],
      "metadata": {
        "id": "s49PkbPHjEY0"
      }
    },
    {
      "cell_type": "markdown",
      "source": [
        "Considere la solución óptima del problema dual"
      ],
      "metadata": {
        "id": "h5RgWvm0jFmm"
      }
    },
    {
      "cell_type": "code",
      "source": [
        "%%ampl_eval\n",
        "option solver cplex;\n",
        "option cplex_options 'sensitivity';\n",
        "option presolve 0;"
      ],
      "metadata": {
        "id": "3ZPD4ejMh1M3"
      },
      "execution_count": null,
      "outputs": []
    },
    {
      "cell_type": "code",
      "source": [
        "# Creamos el mdoelo y resolvemos el modelo\n",
        "ampl = create_model(ampl, products, ingredients, benefits, disponibility, requirement, volumn, prod_min)\n",
        "ampl.solve()\n",
        "ampl.display('_conname, _con.slack, _con.down,  _con.current, _con.up')"
      ],
      "metadata": {
        "id": "2B979koIgzFA"
      },
      "execution_count": null,
      "outputs": []
    },
    {
      "cell_type": "markdown",
      "source": [
        "Obtenga e interprete el valor de la variable dual asociado a la tercera restricción $v_3$"
      ],
      "metadata": {
        "id": "tRs1mFcXjMZ9"
      }
    },
    {
      "cell_type": "markdown",
      "source": [
        "## <font color='8EC044'> **Holgura complementaria entre variables primales y restricciones duales** </font>\n",
        "\n",
        "Las restricciones del problema dual mantienen los precios de las actividades por debajo del costo real en problemas de minimización y por encima del beneficio real en problemas de maximización. A primera vista, podría parecer razonable pedir más (es decir, exigir que los precios de las actividades coincidan exactamente con los correspondientes $c_j$).\n",
        "\n",
        "Habría una dificultad matemática práctica  en el caso común donde tenemos muchas más variables primales que restricciones. Relativamente pocas $v_i$ tendrían que satisfacer simultáneamente restricciones\n",
        "\n",
        " > $\\sum_i a_{ij}  x_i = c_j$\n",
        "\n",
        "para demasiadas actividades $j$.\n",
        "\n",
        "Más importante aún, queremos que las variables duales midan el valor de los recursos en la optimalidad. Las únicas variables primales (no negativas) involucradas en una solución óptima son aquellas con $x_j^* > 0$. Limitar la valoración perfecta a esta lista más limitada de actividades produce las condiciones de holgura complementaria dual.\n",
        "\n",
        "> O bien una variable primal no negativa tiene un valor óptimo $x_j = 0$, o los precios duales correspondientes $v_i$ deben hacer que la restricción dual La restricción dual $\\sum_i a_i v_i \\leq c_j $ o  $\\sum_i a_i v_i \\geq c_j$ sea activa."
      ],
      "metadata": {
        "id": "P-9WsCmKjlPQ"
      }
    },
    {
      "cell_type": "markdown",
      "source": [
        "# <font color='056938'> **Problema dual para problemas mixtos** </font>\n",
        "\n",
        "En la práctica, muchos programas lineales contienen algunas restricciones del tipo $\\leq$, algunas del tipo $\\geq$ y algunas del tipo $=$. Además, las variables pueden ser $\\geq 0$, $\\leq 0$ o \"no restringidas\". En teoría, esto no presenta ningún problema ya que podemos aplicar las técnicas de transformación para convertir cualquier problema \"mixto\" en una de las formas canónicas, después de lo cual el dual se puede obtener fácilmente.\n",
        "\n",
        "Sin embargo, tales conversiones pueden ser tediosas. Afortunadamente, no es necesario hacer estas conversiones realmente, y es posible declarar inmediatamente el dual de cualquier programa lineal, teniendo en cuenta para ello la siguiente tabla tomada de [2]:\n",
        "\n",
        "![](https://docs.google.com/uc?export=download&id=1031YF3uKeTSnhDhK7R8mtg8VfK9Kchx0)\n",
        "\n",
        "\n",
        "Por ejemplo, considere el siguiente problema primal\n",
        "\n",
        "\n",
        "> $\n",
        "\\begin{align*}\n",
        "\\text{Maximizar:} \\quad & 3x_1 - 2x_2 + x_3 \\\\\n",
        "\\text{s.a:} \\quad & 2x_1 - x_2 + x_3 \\geq 5 \\\\\n",
        "& x_1 + 3x_2 - 2x_3 \\leq 10 \\\\\n",
        "& -x_1 + x_2 + 2x_3 < 7 \\\\\n",
        "& x_1 + 2x_2 - 3x_3 = 12 \\\\\n",
        "&x_1 \\geq 0, \\ x_2 \\leq 0, \\ x_3 \\quad \\text{ unrestricted}\n",
        "\\end{align*}\n",
        "$\n",
        "\n",
        "Usando la tabla anterior su dual sería:\n",
        "\n",
        "\n",
        "\n",
        "> $\n",
        "\\begin{align*}\n",
        "\\text{Minimizar:} \\quad & 5v_1 + 10v_2 + 7v_3 + 12v_4 \\\\\n",
        "\\text{s.a:} \\quad & 2v_1 + v_2 - v_3 + v_4 \\geq 3 \\\\\n",
        "& -v_1 + 3v_2 + v_3 + 2v_4 \\leq -2 \\\\\n",
        "& v_1 + 2v_2 - 2v_3 \\geq 1 \\\\\n",
        "& 3v_1 - 2v_2 + 2v_3 \\leq 1 \\\\\n",
        "& v_1, v_2, v_3 \\geq 0,  \\ v_4 \\ \\text{ unrestricted}\n",
        "\\end{align*}\n",
        "$\n",
        "\n"
      ],
      "metadata": {
        "id": "EUx4MNs5ooYD"
      }
    },
    {
      "cell_type": "markdown",
      "source": [
        "### <font color='46B8A9'> **Ejercicio** </font>\n",
        "\n",
        "Cosntruya el problema dual asociado al siguiente problema primal\n",
        "\n",
        "> $\n",
        "\\begin{align*}\n",
        "\\text{Maximizar:} \\quad & 2x_1 - 3x_2 + 4x_3 \\\\\n",
        "\\text{s.a:} \\quad & 2x_1 + x_2 - 3x_3 \\leq 10 \\\\\n",
        "& x_1 + 2x_2 - 3x_3 = 12 \\\\\n",
        "& -x_1 + 2x_2 + 4x_3 < 7 \\\\\n",
        "& 3x_1 - 2x_2 + x_3 \\geq 5 \\\\\n",
        "& x_1 - x_2 + 2x_3 = 8 \\\\\n",
        "\\quad & x_1 \\leq 0, \\ x_2 \\geq 0, \\ x_3, x_4 \\text{ unrestricted}\n",
        "\\end{align*}\n",
        "$\n",
        "\n"
      ],
      "metadata": {
        "id": "kBpeWVvF3nC4"
      }
    },
    {
      "cell_type": "markdown",
      "source": [
        "# <font color='056938'> **Resultados computacionales** </font>\n",
        "\n",
        "al igual que encontramos el análisis de sensibilidad para las restricciones, el valor de la variable dual asociada a cada restricción puede calcularse directamente en el software"
      ],
      "metadata": {
        "id": "afTzW2yn1X9O"
      }
    },
    {
      "cell_type": "code",
      "source": [
        "%%ampl_eval\n",
        "option solver cplex;\n",
        "option cplex_options 'sensitivity';\n",
        "option presolve 0;"
      ],
      "metadata": {
        "id": "TfiYsaUV2PNt"
      },
      "execution_count": null,
      "outputs": []
    },
    {
      "cell_type": "code",
      "source": [
        "# Creamos el mdoelo y resolvemos el modelo\n",
        "ampl = create_model(ampl, products, ingredients, benefits, disponibility, requirement, volumn, prod_min)\n",
        "ampl.solve()\n",
        "# Imprimimos los resultados\n",
        "ampl.display('_conname, _con.slack, _con.down,  _con.current, _con.up, _con.dual')"
      ],
      "metadata": {
        "id": "gj06UnEK2Nqg"
      },
      "execution_count": null,
      "outputs": []
    },
    {
      "cell_type": "markdown",
      "source": [
        "# <font color='056938'> **Dualidad y optimalidad** </font>"
      ],
      "metadata": {
        "id": "4BpJCWZFFzo5"
      }
    },
    {
      "cell_type": "markdown",
      "source": [
        "\n",
        "Consideremos el siguiente programa lineal :\n",
        "\n",
        "\n",
        "\\begin{align*}\n",
        "& \\text{Minimizar } \\mathbf{c}^\\top \\mathbf{x} \\\\\n",
        "& \\text{sujeto a } \\mathbf{Ax} \\geq \\mathbf{b} \\\\\n",
        "& \\mathbf{x} \\geq \\mathbf{0}\n",
        "\\end{align*}\n",
        "\n",
        "y su dual\n",
        "\n",
        "\n",
        "\\begin{align*}\n",
        "& \\text{Maximizar } \\mathbf{v}^\\top \\mathbf{b} \\\\\n",
        "& \\text{sujeto a } \\mathbf{vA} \\leq \\mathbf{c} \\\\\n",
        "& \\mathbf{v} \\geq \\mathbf{0}\n",
        "\\end{align*}"
      ],
      "metadata": {
        "id": "xtkckOHGF9rS"
      }
    },
    {
      "cell_type": "markdown",
      "source": [
        "\n",
        "## <font color='8EC044'> **Dual del Dual** </font>\n",
        "\n",
        " Una de las relaciones más fáciles de ver.\n",
        "\n",
        "> El dual del dual de cualquier programa lineal es el primal."
      ],
      "metadata": {
        "id": "vwTUIkwRHVOb"
      }
    },
    {
      "cell_type": "markdown",
      "source": [
        "## <font color='8EC044'> **Teorema de dualidad débil entre funciones objetivo** </font>\n",
        "\n",
        "los valores objetivos de las soluciones factibles de uno de los problemas acotan los valores de las soluciones factibles del otro.\n",
        "> Respecto a la La función objetivo primal evaluada en cualquier solución factible\n",
        "* Para un problema primal de minimización es mayor o igual que el valor de la función objetivo correspondiente del dual evaluada en cualquier solución factible del dual.\n",
        "* Para un problema primal de maximización es  menor o igual que el valor de la función objetivo correspondiente del dual evaluada en cualquier solución factible del dual."
      ],
      "metadata": {
        "id": "u701tYAUHnjJ"
      }
    },
    {
      "cell_type": "markdown",
      "source": [
        "### <font color='46B8A9'> **Ejercicio** </font>\n",
        "\n"
      ],
      "metadata": {
        "id": "cTDS8HduNekS"
      }
    },
    {
      "cell_type": "markdown",
      "source": [
        "Considere el siguiente problema primal\n",
        "\n",
        "\\begin{align*}\n",
        "\\text{maximizar} \\ z = &20x_A + 15x_B + 25x_C + 50x_D\\\\\n",
        "\\text{s.a.} \\\\\n",
        " &  2x_A + x_B + 3x_C + 2x_D \\leq 60 \\\\\n",
        " &  3x_A + 2x_B + x_C + 4x_D \\leq 50 \\\\\n",
        " & x_A + 2x_B + 4x_C + 3x_D \\leq 100 \\\\\n",
        " & 4x_A + 3x_B + 2x_C + 1x_D \\geq 50 \\\\\n",
        " & x_A \\geq 0, \\, x_B \\geq 0, \\, x_C \\geq 0, \\, x_D \\geq 0\n",
        "\\end{align*}\n",
        "\n",
        "\n",
        "Cuyo dual es:\n",
        "\n",
        "\n",
        "\n",
        "\\begin{align*}\n",
        "\\text{minimizar} \\ v = &60v_1 + 50v_2 + 100v_3 - 50v_4\\\\\n",
        "\\text{s.a.} \\\\\n",
        " &  2v_1 + 3v_2 + v_3 - 4v_4 \\geq 20 \\\\\n",
        " &  v_1 + 2v_2 + 2v_3 - 3v_4 \\geq 15 \\\\\n",
        " &  3v_1 + v_2 + 4v_3 - 2v_4 \\geq 25 \\\\\n",
        " &  2v_1 + 4v_2 + 3v_3 - v_4 \\geq 50 \\\\\n",
        " & v_1 \\geq 0, \\, v_2 \\geq 0, \\, v_3 \\geq 0, \\, v_4 \\geq 0\n",
        "\\end{align*}\n",
        "\n",
        "Considere las siguientes soluciones para el problema dual y el problema primal:\n",
        "\n",
        "\n",
        "> $x_A = 10, x_B = 10, x_C = 10, x_D = 10$.\n",
        "\n",
        "> $v_1 = 5, v_2 = 10, v_3 = 10, v_4 = 5$.\n",
        "\n",
        "\n"
      ],
      "metadata": {
        "id": "ZBxYWXzfJPFk"
      }
    },
    {
      "cell_type": "markdown",
      "source": [
        "1. Verifique que las soluciones dadas son factibles en sus respectivos problemas\n",
        "2. Valide el cumplimiento del teorema de dualidad débil"
      ],
      "metadata": {
        "id": "zJqzPhIeLVxa"
      }
    },
    {
      "cell_type": "markdown",
      "source": [
        "## <font color='8EC044'> **Infactibilidad o no acotamiento** </font>\n",
        "\n",
        "> Si el programa lineal primal o su dual es no acotado, el problema asociado (dual o primal) es no factible"
      ],
      "metadata": {
        "id": "mRMUqC-3OFdA"
      }
    },
    {
      "cell_type": "markdown",
      "source": [
        "## <font color='8EC044'> **Holgura complementario y optimalidad** </font>\n",
        "\n",
        "La holgura complementaria relaciona la holgura en las desigualdades del primal con valores no nulos de las variables duales correspondientes y viceversa. Otra mirada al cálculo de la dualidad débil (6.10) revela más. Las dos expresiones finales (no negativas) en la diferencia entre los valores de soluciones factibles del primal y el dual allí son exactamente la holgura complementaria total.\n",
        "\n",
        "> Si $x$ es una solución factible para un programa lineal primal, y $v$ es una solución factible para el correspondiente dual, entonces la diferencia en sus valores objetivos es exactamente la holgura complementaria total entre las soluciones.\n",
        "* $(c_j - vA)x = \\sum_j \\left(c_j- \\sum_i v_i a_{ij}\\right)x_j$\n",
        "* $v(Ax -b) = \\sum_i v_i \\left(\\sum_j a_{ij}x_j-b_i\\right)$\n",
        "\n",
        "> Además, si los valores de las funciones objetivo coinciden, es decir, $c^Tx = v^T b$, entonces tanto $x$ como $v$ son óptimos en sus respectivos problemas, y las condiciones de holgura complementaria entre las soluciones óptimas deben cumplirse en la optimalidad\n",
        "* $(c-vA)x=0$\n",
        "* $v(Ax - b)=0$\n"
      ],
      "metadata": {
        "id": "DnCnhWt9Pg_O"
      }
    },
    {
      "cell_type": "markdown",
      "source": [
        "## <font color='8EC044'> **Teorema de dualidad fuerte** </font>\n",
        "\n",
        "Las relaciones de dualidad débil entre los valores objetivos de soluciones factibles del primal y el dual establecen cotas para sus valores. Pero cuando ambos problemas tienen soluciones factibles óptimas, la  dualidad fuerte puede establecerse.\n",
        "\n",
        "> Si un programa lineal primal o su dual tienen una solución óptima finita, ambos la tienen, y sus valores óptimos son iguales.\n",
        "\n",
        "\n",
        "\n",
        "\n"
      ],
      "metadata": {
        "id": "o_Dv-Afre4nU"
      }
    },
    {
      "cell_type": "markdown",
      "source": [
        "### <font color='46B8A9'> **Ejercicio** </font>\n",
        "\n",
        "Considere el siguiente problema primal\n",
        "\n",
        "\\begin{align*}\n",
        "\\text{maximizar} \\ z = &20x_A + 15x_B + 25x_C + 50x_D\\\\\n",
        "\\text{s.a.} \\\\\n",
        " &  2x_A + x_B + 3x_C + 2x_D \\leq 60 \\\\\n",
        " &  3x_A + 2x_B + x_C + 4x_D \\leq 50 \\\\\n",
        " & x_A + 2x_B + 4x_C + 3x_D \\leq 100 \\\\\n",
        " & 4x_A + 3x_B + 2x_C + 1x_D \\geq 50 \\\\\n",
        " & x_A \\geq 0, \\, x_B \\geq 0, \\, x_C \\geq 0, \\, x_D \\geq 0\n",
        "\\end{align*}\n",
        "\n",
        "\n",
        "Cuyo dual es:\n",
        "\n",
        "\n",
        "\n",
        "\\begin{align*}\n",
        "\\text{minimizar} \\ v = &60v_1 + 50v_2 + 100v_3 - 50v_4\\\\\n",
        "\\text{s.a.} \\\\\n",
        " &  2v_1 + 3v_2 + v_3 - 4v_4 \\geq 20 \\\\\n",
        " &  v_1 + 2v_2 + 2v_3 - 3v_4 \\geq 15 \\\\\n",
        " &  3v_1 + v_2 + 4v_3 - 2v_4 \\geq 25 \\\\\n",
        " &  2v_1 + 4v_2 + 3v_3 - v_4 \\geq 50 \\\\\n",
        " & v_1 \\geq 0, \\, v_2 \\geq 0, \\, v_3 \\geq 0, \\, v_4 \\geq 0\n",
        "\\end{align*}\n",
        "\n",
        "Teniendo en cuanta la solución óptima de ambos problemas, obtenida computacionalmente a continuación, Verifique el cumplimiento del teorema de dualidad Fuerte"
      ],
      "metadata": {
        "id": "izWLLtqmlLYp"
      }
    },
    {
      "cell_type": "code",
      "source": [
        "# Creamos el mdoelo y resolvemos el modelo\n",
        "ampl = create_model(ampl, products, ingredients, benefits, disponibility, requirement, volumn, prod_min)\n",
        "ampl.solve()\n",
        "# Imprimimos solución primal\n",
        "print(ampl.get_data(\"x\").to_pandas())\n",
        "# Imprimimos solución dual\n",
        "ampl.display(' _con.dual')"
      ],
      "metadata": {
        "id": "eNGzAqs6lMXJ"
      },
      "execution_count": null,
      "outputs": []
    },
    {
      "cell_type": "markdown",
      "source": [
        "## <font color='8EC044'> **Condiciones de Karush–Kuhn–Tucker (KKT)** </font>\n",
        "\n",
        "Adicionalmente, suponiendo que tenemos el siguiente problema de optimización lineal:\n",
        "\n",
        "\n",
        "\n",
        "\\begin{align*}\n",
        "\\text{Minimizar } & c^\\top x \\\\\n",
        "\\text{sujeto a } & Ax \\leq b \\\\\n",
        "& x \\geq 0\n",
        "\\end{align*}\n",
        "\n",
        "\n",
        "Las condiciones de Karush-Kuhn-Tucker (KKT) para la optimalidad de una solución óptima $x$ y su dual asociado $v$  son:\n",
        "\n",
        "1. **Factibilidad primal**: Las variables de decisión $x$ deben ser no negativas y satisfacer todas las restricciones de desigualdad: $x \\geq 0$ y $Ax \\leq b$.\n",
        "\n",
        "2. **Factibilidad dual**: Las variables duales asociadas a las restricciones de desigualdad deben ser no negativas: $v \\geq 0$. y $v^TA \\leq c^T$\n",
        "\n",
        "3. **Condiciones de complementariedad**: Para cada variable de decisión del primal o restricción del dual se satisface:\n",
        "* $v_i(A_i^Tx -b_i) = 0 \\quad \\forall i = 1 \\ldots m$\n",
        "* $(c_j-v^Ta_j)x_j = 0 \\quad \\forall j = 1 \\ldots n$\n",
        "\n",
        "Esta última condición implica que:\n",
        "* La varabiable dual asociada a una restricción debe ser cero cuando la variable de holgura o exceso de dicha restricción no es cero\n",
        "* El costo reducido asociado a una variable debe ser cero cuando esta variable no sea cero"
      ],
      "metadata": {
        "id": "UNHdhV07k6jX"
      }
    },
    {
      "cell_type": "markdown",
      "source": [
        "# <font color='056938'> **Práctica** </font>\n",
        "\n",
        "La compañia **Nutricol** esta interesado en desrrollar una app que permita al usuario crear una dieta balanceada con base en el lstado de posibles ingredientes y requerimientos nutricionales específicos. Para ello ha contratado nuestros servicios para desrrollar un modelo que encuentre una dieta diaria de mínimo costo\n",
        "\n"
      ],
      "metadata": {
        "id": "h0sMzcN2bdXC"
      }
    },
    {
      "cell_type": "markdown",
      "source": [
        "## <font color='8EC044'> **Verbalización del modelo** </font>\n",
        "Consideraremos una versión bastante simplificada del problema. Para ello definamos los elementos\n",
        "\n"
      ],
      "metadata": {
        "id": "JpTpdq81dJCf"
      }
    },
    {
      "cell_type": "markdown",
      "source": [
        "#### <font color='46B8A9'> **Conjuntos** </font>\n",
        "\n",
        "$I$: conjunto de ingredientes\n",
        "\n",
        "$N$ conjunto de nutrientes\n",
        "\n",
        "Note que el conjunto de ingredientes podria a su ve subdividirse en tipos de ingredientes como carnes, verduras, granos y frutas."
      ],
      "metadata": {
        "id": "_odidTvtdXOn"
      }
    },
    {
      "cell_type": "markdown",
      "source": [
        "#### <font color='46B8A9'> **Parámetros** </font>\n",
        "\n",
        "Debemos cosiderar los siguientes parametros\n",
        "\n",
        "* costo por kilo de cada ingreiente\n",
        "* aporte nutricional (en cada nutriente) de cada ingrediente\n",
        "* catindad mínima de cada tipo de nutriente\n",
        "* cantidad máxima de cada tipo de nutriente\n",
        "* Debe existir proporcionalidad entre cada tipo de nutrientes (ej, la carne no debe excer más del 30% del menú)"
      ],
      "metadata": {
        "id": "3mWRkGFUmSQG"
      }
    },
    {
      "cell_type": "markdown",
      "source": [
        "#### <font color='46B8A9'> **Decisiones** </font>\n",
        "Debemos decidir la cantidad de cada alimento que debe incluirse en el menú diario"
      ],
      "metadata": {
        "id": "i6MPOygzm_Ur"
      }
    },
    {
      "cell_type": "markdown",
      "source": [
        "#### <font color='46B8A9'> **Restricciones** </font>\n",
        "La decisión esta sujeta a que:\n",
        "* se cumplan los requisitos mínimos de cada nutriente\n",
        "* se cumplan los requisitos máximos de cada nutriente\n",
        "* No se excedan las cantidades máximas por tipos de nutrientes\n"
      ],
      "metadata": {
        "id": "ZJrtaKULnNVa"
      }
    },
    {
      "cell_type": "markdown",
      "source": [
        "#### <font color='46B8A9'> **Objetivo** </font>\n",
        "Minimizar el costo total del menú"
      ],
      "metadata": {
        "id": "eJmHghHun7ah"
      }
    },
    {
      "cell_type": "markdown",
      "source": [
        "\n",
        "| Variable | Descripción                    |\n",
        "|----------|--------------------------------|\n",
        "| $I$      | Conjunto de ingredientes       |\n",
        "| $S$      | Conjunto de tipos de ingredientes  |\n",
        "| $N$      | Conjunto de nutrientes         |\n",
        "\n",
        "\n",
        "| Parámetro | Descripción |\n",
        "|-----------|-------------|\n",
        "| $c_i$     | Costo por kilogramo del ingrediente $i \\in I$. |\n",
        "| $n_{ij}$  | Aporte nutricional del ingrediente $i \\in I$ al nutriente $j \\in N$. |\n",
        "| $amin_j$   | Cantidad mínima requerida del nutriente $j \\in N$. |\n",
        "| $amax_j$   | Cantidad máxima permitida del nutriente $j \\in N$. |\n",
        "| $p_{k}$  | Proporción máxima de tipo de ingrediente $k$ en la mezcla. |\n",
        "| $s_{ik}$  | Indicador binario que define si el ingrediente $i$ es del tipo $k$ |\n",
        "\n",
        "La variable de decisión\n",
        "> $x_i$: Cantidad de kilogramos del ingrediente $i \\in I$ a incluir en el menú diario.\n",
        "\n",
        "\n"
      ],
      "metadata": {
        "id": "jrshRvz2oSqg"
      }
    },
    {
      "cell_type": "markdown",
      "source": [
        "## <font color='8EC044'> **Formulación del modelo** </font>\n",
        "\n",
        "\n",
        "\\begin{align}\n",
        "  \\text{Minimizar} \\quad \\sum_{i \\in I} c_i x_i\\\\\n",
        "  \\text{s.a.}\\\\\n",
        "    \\sum_{i \\in I} n_{ij} x_i &\\geq \\text{amin}_j & \\forall j \\in N \\\\\n",
        "    \\sum_{i \\in I} n_{ij} x_i &\\leq \\text{amax}_j & \\forall j \\in N \\\\\n",
        "    \\frac{\\sum_{i \\in I} s_{ik}x_i}{\\sum_{i \\in I} x_i} &\\leq p_{ij} & \\forall k \\in S, \\forall i \\in I\\\\\n",
        "    x_i &\\geq 0 \\quad \\forall i \\in I\n",
        "\\end{align}\n"
      ],
      "metadata": {
        "id": "vsEXUY4ysRYu"
      }
    },
    {
      "cell_type": "markdown",
      "source": [
        "## <font color='8EC044'> **Implementación del modelo** </font>"
      ],
      "metadata": {
        "id": "cig49F6hsXd6"
      }
    },
    {
      "cell_type": "markdown",
      "source": [
        "Creamos el objeto `ampl`"
      ],
      "metadata": {
        "id": "GhZahlou5JKG"
      }
    },
    {
      "cell_type": "code",
      "source": [
        "ampl = tools.ampl_notebook(\n",
        "    modules=[\"highs\", \"cbc\", \"gurobi\", \"cplex\"], # Los optimizadores que vamos a usar\n",
        "    license_uuid=\"default\") # license to use (Aqui hay que poner su licencia :-;\n"
      ],
      "metadata": {
        "id": "p5xh6TPHw4dG"
      },
      "execution_count": null,
      "outputs": []
    },
    {
      "cell_type": "markdown",
      "source": [
        "Definimos una función que cree el modelo"
      ],
      "metadata": {
        "id": "_xfpfPTL5NO9"
      }
    },
    {
      "cell_type": "code",
      "source": [
        "def create_model(ampl, ingredients, types_ing, nutrients, cost, contrib, min_nutri, max_nutri, pmix, ind_type):\n",
        "  #Conjuntos\n",
        "  ampl.eval(\n",
        "    \"\"\" reset;\n",
        "    set I;   # Conjunto de ingredientes\n",
        "    set S;   # Conjunto de tipos de ingredientes\n",
        "    set N;   # Conjunto de nutrientes\n",
        "\n",
        "    param cost{i in I};     # Costo por kilogramo del ingrediente i\n",
        "    param contrib{i in I, j in N};  # Aporte nutricional del ingrediente i al nutriente j\n",
        "    param min_nutri{j in N};  # Cantidad mínima requerida del nutriente j\n",
        "    param max_nutri{j in N};  # Cantidad máxima permitida del nutriente j\n",
        "    param pmix{k in S};     # Proporción máxima de tipo de ingrediente k en la mezcla\n",
        "    param ind_type{i in I, k in S};  # Indicador binario que define si el ingrediente i es del tipo k\n",
        "\n",
        "    var x{i in I} >= 0;  # Cantidad de kilogramos del ingrediente i a incluir en el menú diario\n",
        "\n",
        "    minimize Total_cost:\n",
        "        sum{i in I} cost[i] * x[i];\n",
        "\n",
        "    subject to min_nutrient{j in N}:\n",
        "        sum{i in I} contrib[i, j] * x[i] >= min_nutri[j];\n",
        "\n",
        "    subject to max_nutrient{j in N}:\n",
        "        sum{i in I} contrib[i, j] * x[i] <= max_nutri[j];\n",
        "\n",
        "    subject to mix_proportion{k in S}:\n",
        "        sum{i in I} ind_type[i, k] * x[i] - sum{i in I} x[i]*pmix[k] <= 0;\"\"\")\n",
        "\n",
        "  # instantiate the model\n",
        "  ampl.set[\"I\"] = ingredients\n",
        "  ampl.set[\"S\"] = types_ing\n",
        "  ampl.set[\"N\"] = nutrients\n",
        "  ampl.param[\"cost\"] = cost\n",
        "  ampl.param[\"contrib\"] = contrib\n",
        "  ampl.param[\"min_nutri\"] = min_nutri\n",
        "  ampl.param[\"max_nutri\"] = max_nutri\n",
        "  ampl.param[\"pmix\"] = pmix\n",
        "  ampl.param[\"ind_type\"] = ind_type\n",
        "\n",
        "  return ampl"
      ],
      "metadata": {
        "id": "Cl2b53JqWX33"
      },
      "execution_count": null,
      "outputs": []
    },
    {
      "cell_type": "markdown",
      "source": [
        "Consideramos la instancia de datos del modelo"
      ],
      "metadata": {
        "id": "f8phSzrl5Q7e"
      }
    },
    {
      "cell_type": "code",
      "source": [
        "# Datos de ejemplo con nombres reales\n",
        "ingredients = [\"Pollo\", \"Res\", \"Pescado\", \"Tomate\", \"Brócoli\", \"Lechuga\", \"Arroz\", \"Frijol\", \"Lenteja\", \"Aguacate\", \"Mango\", \"Banano\"]\n",
        "types_ing = [\"Carne\", \"Verduras\", \"Granos\", \"Frutas\"]\n",
        "nutrients = ['Proteína', 'Grasa', 'Carbohidratos', 'Fibra', 'Vitaminas']\n",
        "\n",
        "# Costo por kilogramo del ingrediente por kilo (miles de pesos)\n",
        "cost = {\n",
        "    \"Pollo\": 15.6, \"Res\": 18.4, \"Pescado\": 19, \"Tomate\": 3.8, \"Brócoli\": 10.4, \"Lechuga\": 2.8,\n",
        "    \"Arroz\": 5.1, \"Frijol\": 7.9, \"Lenteja\": 14.8, \"Aguacate\": 10.4, \"Mango\": 7.2, \"Banano\": 2.7\n",
        "}\n",
        "\n",
        "# Aporte nutricional del ingrediente al nutriente (en unidades por kg)\n",
        "contrib = {\n",
        "    ('Pollo', 'Proteína'): 25, ('Pollo', 'Grasa'): 10, ('Pollo', 'Carbohidratos'): 0, ('Pollo', 'Fibra'): 0, ('Pollo', 'Vitaminas'): 1,\n",
        "    ('Res', 'Proteína'): 20, ('Res', 'Grasa'): 15, ('Res', 'Carbohidratos'): 0, ('Res', 'Fibra'): 0, ('Res', 'Vitaminas'): 1,\n",
        "    ('Pescado', 'Proteína'): 22, ('Pescado', 'Grasa'): 8, ('Pescado', 'Carbohidratos'): 0, ('Pescado', 'Fibra'): 0, ('Pescado', 'Vitaminas'): 2,\n",
        "    ('Tomate', 'Proteína'): 1, ('Tomate', 'Grasa'): 0, ('Tomate', 'Carbohidratos'): 5, ('Tomate', 'Fibra'): 2, ('Tomate', 'Vitaminas'): 15,\n",
        "    ('Brócoli', 'Proteína'): 3, ('Brócoli', 'Grasa'): 0, ('Brócoli', 'Carbohidratos'): 5, ('Brócoli', 'Fibra'): 10, ('Brócoli', 'Vitaminas'): 20,\n",
        "    ('Lechuga', 'Proteína'): 1, ('Lechuga', 'Grasa'): 0, ('Lechuga', 'Carbohidratos'): 2, ('Lechuga', 'Fibra'): 3, ('Lechuga', 'Vitaminas'): 10,\n",
        "    ('Arroz', 'Proteína'): 6, ('Arroz', 'Grasa'): 1, ('Arroz', 'Carbohidratos'): 80, ('Arroz', 'Fibra'): 4, ('Arroz', 'Vitaminas'): 2,\n",
        "    ('Frijol', 'Proteína'): 8, ('Frijol', 'Grasa'): 1, ('Frijol', 'Carbohidratos'): 60, ('Frijol', 'Fibra'): 8, ('Frijol', 'Vitaminas'): 3,\n",
        "    ('Lenteja', 'Proteína'): 10, ('Lenteja', 'Grasa'): 1, ('Lenteja', 'Carbohidratos'): 50, ('Lenteja', 'Fibra'): 15, ('Lenteja', 'Vitaminas'): 4,\n",
        "    ('Aguacate', 'Proteína'): 2, ('Aguacate', 'Grasa'): 15, ('Aguacate', 'Carbohidratos'): 8, ('Aguacate', 'Fibra'): 7, ('Aguacate', 'Vitaminas'): 10,\n",
        "    ('Mango', 'Proteína'): 1, ('Mango', 'Grasa'): 0, ('Mango', 'Carbohidratos'): 20, ('Mango', 'Fibra'): 3, ('Mango', 'Vitaminas'): 30,\n",
        "    ('Banano', 'Proteína'): 1, ('Banano', 'Grasa'): 0, ('Banano', 'Carbohidratos'): 30, ('Banano', 'Fibra'): 2, ('Banano', 'Vitaminas'): 20\n",
        "}\n",
        "\n",
        "\n",
        "# Cantidad mínima requerida del nutriente (en unidades)\n",
        "min_nutri = {'Proteína': 50, 'Grasa': 30, 'Carbohidratos': 50, 'Fibra': 25, 'Vitaminas': 10}\n",
        "\n",
        "# Cantidad máxima permitida del nutriente (en unidades)\n",
        "max_nutri = {'Proteína': 150, 'Grasa': 50, 'Carbohidratos': 200, 'Fibra': 50, 'Vitaminas': 30}\n",
        "\n",
        "# Proporción máxima de tipo de ingrediente en la mezcla\n",
        "pmix = {\"Carne\": 0.4, \"Verduras\": 0.3, \"Granos\": 0.2, \"Frutas\": 0.5}\n",
        "\n",
        "# Indicador binario que define si el ingrediente es del tipo k\n",
        "ind_type = {(ing, ing_type):0 for ing in ingredients for ing_type in types_ing}\n",
        "ind_type_sparce = {\n",
        "    (\"Pollo\", \"Carne\"): 1, (\"Res\", \"Carne\"): 1, (\"Pescado\", \"Carne\"): 1,\n",
        "    (\"Tomate\", \"Verduras\"): 1, (\"Brócoli\", \"Verduras\"): 1, (\"Lechuga\", \"Verduras\"): 1,\n",
        "    (\"Arroz\", \"Granos\"): 1, (\"Frijol\", \"Granos\"): 1, (\"Lenteja\", \"Granos\"): 1,\n",
        "    (\"Aguacate\", \"Frutas\"): 1, (\"Mango\", \"Frutas\"): 1, (\"Banano\", \"Frutas\"): 1}\n",
        "ind_type.update(ind_type_sparce)\n",
        "\n"
      ],
      "metadata": {
        "id": "o3VFG5HWt27V"
      },
      "execution_count": null,
      "outputs": []
    },
    {
      "cell_type": "markdown",
      "source": [
        "Definimos algunos parámetros para el optimizador"
      ],
      "metadata": {
        "id": "oOIsCfVH5Ubd"
      }
    },
    {
      "cell_type": "code",
      "source": [
        "%%ampl_eval\n",
        "option solver cplex;\n",
        "option cplex_options 'sensitivity';\n",
        "option presolve 0;"
      ],
      "metadata": {
        "id": "cu4BQL4zxE61"
      },
      "execution_count": null,
      "outputs": []
    },
    {
      "cell_type": "markdown",
      "source": [
        "Creamos el modelo, resolvemos e imprimimos la solución"
      ],
      "metadata": {
        "id": "0I9_DS3h5bq5"
      }
    },
    {
      "cell_type": "code",
      "source": [
        "ampl = create_model(ampl, ingredients, types_ing, nutrients, cost, contrib, min_nutri, max_nutri, pmix, ind_type)\n",
        "ampl.solve()\n",
        "# Imprimimos los resultados\n",
        "Total_cost = ampl.get_objective(\"Total_cost\")\n",
        "print(\"\\nObjective is:\", Total_cost.get().value())\n",
        "ampl.get_data(\"x\").to_pandas()"
      ],
      "metadata": {
        "id": "N80UwLwQ37Em"
      },
      "execution_count": null,
      "outputs": []
    },
    {
      "cell_type": "markdown",
      "source": [
        "## <font color='8EC044'> **Análisis de sensibilidady dualidad** </font>\n",
        "\n",
        "Desarrolle el análisis de sensibilidad y dualidad respecto a los parámetros del modelo interpretando sus resultados de acuerdo al contexto del problema"
      ],
      "metadata": {
        "id": "FcH5jtaj6aeo"
      }
    },
    {
      "cell_type": "markdown",
      "source": [
        "# <font color='056938'> **Referencias** </font>"
      ],
      "metadata": {
        "id": "iX83t4Ve7AzI"
      }
    },
    {
      "cell_type": "markdown",
      "source": [
        "[1] Tovey, C. A. (2020). Linear Optimization and Duality: A Modern Exposition. Chapman and Hall/CRC.\n",
        "\n",
        "[2] Bazaraa, M. S., Jarvis, J. J., & Sherali, H. D. (2011). Linear programming and network flows. John Wiley & Sons."
      ],
      "metadata": {
        "id": "5ZE2a4Ka6-cY"
      }
    }
  ]
}