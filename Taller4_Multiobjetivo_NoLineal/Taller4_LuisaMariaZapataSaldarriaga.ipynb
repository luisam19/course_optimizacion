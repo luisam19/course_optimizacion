{
  "nbformat": 4,
  "nbformat_minor": 0,
  "metadata": {
    "colab": {
      "provenance": [],
      "mount_file_id": "1XBfVyNPYgqGAhwYci5su9T2O2o007iOf",
      "authorship_tag": "ABX9TyNOP2X4OIToVgLYruuLNYAD",
      "include_colab_link": true
    },
    "kernelspec": {
      "name": "python3",
      "display_name": "Python 3"
    },
    "language_info": {
      "name": "python"
    }
  },
  "cells": [
    {
      "cell_type": "markdown",
      "metadata": {
        "id": "view-in-github",
        "colab_type": "text"
      },
      "source": [
        "<a href=\"https://colab.research.google.com/github/luisam19/course_optimizacion/blob/main/Taller4_LuisaMariaZapataSaldarriaga.ipynb\" target=\"_parent\"><img src=\"https://colab.research.google.com/assets/colab-badge.svg\" alt=\"Open In Colab\"/></a>"
      ]
    },
    {
      "cell_type": "markdown",
      "source": [
        "# <font color='056938'> **Requerimientos iniciales -** </font> </font> <font color='8EC044'> **Instalación de librerias** </font>"
      ],
      "metadata": {
        "id": "Po4W5KlUwe7z"
      }
    },
    {
      "cell_type": "code",
      "source": [
        "!pip install -q pyomo\n",
        "from pyomo.environ import *\n",
        "from pyomo.opt import *\n",
        "import os\n",
        "# NEOS es un servicio de optimizacion en linea que vamos a usar\n",
        "solver_manager = SolverManagerFactory('neos')\n",
        "# An  email address is needed to setup of the NEOS service\n",
        "os.environ['NEOS_EMAIL'] = 'luisa.zapatas@udea.edu.co'"
      ],
      "metadata": {
        "colab": {
          "base_uri": "https://localhost:8080/"
        },
        "id": "KxqnlbA-wegf",
        "outputId": "5cb452cc-5ab6-4727-c45b-38ea1b7b8ce7"
      },
      "execution_count": 1,
      "outputs": [
        {
          "output_type": "stream",
          "name": "stdout",
          "text": [
            "\u001b[2K     \u001b[90m━━━━━━━━━━━━━━━━━━━━━━━━━━━━━━━━━━━━━━━━\u001b[0m \u001b[32m12.8/12.8 MB\u001b[0m \u001b[31m44.7 MB/s\u001b[0m eta \u001b[36m0:00:00\u001b[0m\n",
            "\u001b[2K     \u001b[90m━━━━━━━━━━━━━━━━━━━━━━━━━━━━━━━━━━━━━━━━\u001b[0m \u001b[32m49.6/49.6 kB\u001b[0m \u001b[31m4.3 MB/s\u001b[0m eta \u001b[36m0:00:00\u001b[0m\n",
            "\u001b[?25h"
          ]
        }
      ]
    },
    {
      "cell_type": "code",
      "source": [
        "import numpy as np\n",
        "import pandas as pd\n",
        "import random as rand\n",
        "rand.seed(10)\n",
        "import matplotlib.pyplot as plt\n",
        "import pyomo.environ as pyo\n",
        "from pyomo.opt import SolverManagerFactory\n",
        "import os"
      ],
      "metadata": {
        "id": "9gIzQyDQw0hS"
      },
      "execution_count": 2,
      "outputs": []
    },
    {
      "cell_type": "markdown",
      "source": [
        "# <font color='056938'> **Problema**\n",
        "\n",
        "Una compañía está interesada en ubicar sus servidores de atención en 35 sitios candidatos en la ciudad, para cada uno de estos sitios tiene la información de los costos de operación y de la cantidad de personas que podrían cubrir (véase el archivo adjunto). La única restricción que impone la compañía es que los sitios que se abran deben estar espaciados entre si como mínimo 2 km de distancia (es decir, entre dos sitios abiertos no puede haber menos de 2km). Para ello le suministraron la matriz de distancia correspondiente (también adjunta)"
      ],
      "metadata": {
        "id": "-TNW4TD0w64e"
      }
    },
    {
      "cell_type": "markdown",
      "source": [
        "#</font> <font color='8EC044'> **Modelo no lineal** </font>\n",
        "\n",
        "La compañía quiere maximizar la cantidad de personas cubiertas para un número fijo de instalaciones dado (en este caso 19). Formule y resuelva un modelo de optimización cuadrático  que le permita escoger óptimamente las 19 ubicaciones."
      ],
      "metadata": {
        "id": "QTu0kEouwxSj"
      }
    },
    {
      "cell_type": "markdown",
      "source": [
        "<font color='056938'> **Verbalización:**</font>\n",
        "\n",
        "* **Para**: Maximizar la cantidad de personas cubiertas por las ubicaciones seleccionadas.\n",
        "\n",
        "* **decidir**: Decidir qué ubicaciones seleccionar para maximizar la cantidad de personas cubiertas por esas ubicaciones.\n",
        "\n",
        "* **Cumpliendo**:  las 19 ubicaciones\n",
        "\n",
        "\n",
        "<font color='056938'> **Conjuntos** </font>\n",
        "\n",
        "S={1,2 ,3,…35}\n",
        "\n",
        "\n",
        "<font color='056938'> **Parámetros:** </font>\n",
        "\n",
        "- $P_i$: Cantidad de personas que pueden ser cubiertas en el sitio $i$, donde $i$ está en el conjunto $S$.\n",
        "- $d_{ij}$: Distancia entre los sitios $i$ y $j$, donde $i, j$ están en el conjunto $S$.\n",
        "\n",
        "<font color='056938'>**Variables de decisión:** </font>\n",
        "\n",
        "- $X_i$: Variable binaria que indica si se selecciona el sitio $i$, donde $i$ está en el conjunto $S$.\n",
        "\n",
        "<font color='056938'>**Restricciones:** </font>\n",
        "\n",
        "1. Seleccionar exactamente 19 ubicaciones:\n",
        "\n",
        "$\\sum_{i \\in S} X_i = 19$\n",
        "\n",
        "2. La distancia entre los sitios seleccionados debe ser al menos de 2 km:\n",
        "\n",
        "$$d_{ij} \\geq 2  X_i  X_j$$\n",
        "donde $i, j$ están en el conjunto $S$ y $i \\neq j$.\n",
        "\n",
        "<font color='056938'>**Función Objetivo:** </font>\n",
        "\n",
        "Maximizar la cantidad de personas cubiertas:\n",
        "\n",
        "$$\n",
        "\\max \\sum_{i \\in S} P_i X_i\n",
        "$$\n"
      ],
      "metadata": {
        "id": "9ATOc2-aSNU0"
      }
    },
    {
      "cell_type": "code",
      "source": [
        "\n",
        "\n",
        "# Ruta del archivo Excel\n",
        "file_path = '/content/drive/MyDrive/Colab Notebooks/Maestria/Optimización/Taller04/DATOS.xlsx'\n",
        "\n",
        "# Leer los datos desde el archivo Excel\n",
        "cost_cover_df = pd.read_excel(file_path, sheet_name='cost_cover')\n",
        "dist_matrix_df = pd.read_excel(file_path, sheet_name='dist_matrix')\n",
        "\n",
        "# Convertir el costo de operación a un formato numérico\n",
        "cost_cover_df['COSTO DE OPERACIÓN'] = cost_cover_df['COSTO DE OPERACIÓN'].replace('[\\$,]', '', regex=True).astype(float)\n",
        "\n",
        "# Extraer los datos relevantes\n",
        "P = cost_cover_df['# VISITAS (ts)'].values\n",
        "\n",
        "# Convertir la matriz de distancias a un formato numérico\n",
        "dist_matrix_df = dist_matrix_df.drop('PUNTOS KAPTAR', axis=1)  # Eliminar la primera columna\n",
        "dist_matrix = dist_matrix_df.values.astype(float)  # Convertir a tipo float\n",
        "\n",
        "# Definir el modelo\n",
        "model = pyo.ConcreteModel()\n",
        "\n",
        "# Conjuntos\n",
        "model.S = pyo.RangeSet(1, len(P))\n",
        "\n",
        "# Parámetros\n",
        "model.P = pyo.Param(model.S, initialize={i: P[i-1] for i in model.S})\n",
        "model.d = pyo.Param(model.S, model.S, initialize={(i, j): dist_matrix[i-1][j-1] for i in model.S for j in model.S})\n",
        "\n",
        "# Variables de decisión\n",
        "model.X = pyo.Var(model.S, domain=pyo.Binary)\n",
        "\n",
        "# Función objetivo\n",
        "model.obj = pyo.Objective(expr=sum(model.P[i] * model.X[i] for i in model.S), sense=pyo.maximize)\n",
        "\n",
        "# Restricciones\n",
        "model.coverage_constraint = pyo.Constraint(expr=sum(model.X[i] for i in model.S) == 19)\n",
        "\n",
        "def distance_constraint_rule(model, i, j):\n",
        "    if i != j:\n",
        "        return model.d[i, j] >= 2 * model.X[i] * model.X[j]\n",
        "    return pyo.Constraint.Skip\n",
        "\n",
        "model.distance_constraint = pyo.Constraint(model.S, model.S, rule=distance_constraint_rule)\n",
        "\n",
        "# Configuración del solver con NEOS y CPLEX\n",
        "solver_manager = SolverManagerFactory('neos')\n",
        "os.environ['NEOS_EMAIL'] = 'luisa.zapatas@udea.edu.co'\n",
        "results = solver_manager.solve(model, opt='cplex', tee=True)\n"
      ],
      "metadata": {
        "cellView": "code",
        "id": "HdsUXxeRJRH0"
      },
      "execution_count": 8,
      "outputs": []
    },
    {
      "cell_type": "code",
      "source": [
        "# Imprimir resultados\n",
        "selected_sites = []\n",
        "for i in model.S:\n",
        "    if pyo.value(model.X[i]) > 0:\n",
        "        selected_sites.append((i, pyo.value(model.P[i])))\n",
        "        print(f\"X[{i}] = {pyo.value(model.X[i])}\")\n",
        "\n",
        "print(\"\\nObjetivo:\", pyo.value(model.obj))\n",
        "\n",
        "# Crear la gráfica\n",
        "sites = [site[0] for site in selected_sites]\n",
        "persons = [site[1] for site in selected_sites]\n",
        "\n",
        "plt.figure(figsize=(10, 6))\n",
        "plt.bar(sites, persons, color='blue')\n",
        "plt.xlabel('Sitio')\n",
        "plt.ylabel('Cantidad de Personas')\n",
        "plt.title('Sitios Seleccionados y Cantidad de Personas Asignadas')\n",
        "plt.xticks(sites)\n",
        "plt.show()"
      ],
      "metadata": {
        "colab": {
          "base_uri": "https://localhost:8080/",
          "height": 929
        },
        "id": "axLVMIzRIeMo",
        "outputId": "82405759-6737-4b80-9896-f3f8f92fb87e"
      },
      "execution_count": 7,
      "outputs": [
        {
          "output_type": "stream",
          "name": "stdout",
          "text": [
            "X[2] = 1.0\n",
            "X[5] = 1.0\n",
            "X[7] = 1.0\n",
            "X[10] = 1.0\n",
            "X[11] = 1.0\n",
            "X[14] = 1.0\n",
            "X[16] = 1.0\n",
            "X[17] = 1.0\n",
            "X[19] = 1.0\n",
            "X[20] = 1.0\n",
            "X[21] = 1.0\n",
            "X[23] = 1.0\n",
            "X[24] = 1.0\n",
            "X[25] = 1.0\n",
            "X[26] = 1.0\n",
            "X[27] = 1.0\n",
            "X[28] = 1.0\n",
            "X[30] = 1.0\n",
            "X[33] = 1.0\n",
            "\n",
            "Objetivo: 29783.0\n"
          ]
        },
        {
          "output_type": "display_data",
          "data": {
            "text/plain": [
              "<Figure size 1000x600 with 1 Axes>"
            ],
            "image/png": "[encoded data removed]"
          },
          "metadata": {}
        }
      ]
    },
    {
      "cell_type": "markdown",
      "source": [
        "En el gráfico previamente presentado se observan los 19 sitios seleccionados y su respectiva cantidad de personas asignadas, de aquí se deriva el valor resultante de la función objetivo que fue de 29783.0, es decir este valor corresponde al la máxima cantidad de personas cubiertas por las ubicaciones seleccionadas."
      ],
      "metadata": {
        "id": "2oL1KFTB0rJk"
      }
    },
    {
      "cell_type": "markdown",
      "source": [
        "#</font> <font color='8EC044'> **Modelo Multiobjetivo** </font>\n",
        "\n",
        "Luego, la compañía quiere analizar el trade-off entre el costo de operación y las personas cubiertas (ignorando la restricción de un número fijo de instalaciones). Implemente un método de optimización multiobjetivo que le permita a la compañía conocer dicho trade-off a través de un conjunto de soluciones no dominadas (para ello grafique la frontera eficiente Costo vs. Personas cubiertas que se obtiene e interprétela.  \n",
        "\n",
        "\n",
        "<font color='056938'> **Verbalización** </font>\n",
        "\n",
        "* **Para**: minimizar el costo total, que es la suma de los costos de establecer instalaciones en los sitios seleccionados.\n",
        "\n",
        "* **decidir**: Encontrar un conjunto de soluciones no dominadas, lo que significa buscar soluciones que no sean peores en términos de costo y cobertura poblacional en comparación con otras soluciones\n",
        "\n",
        "* **Cumpliendo**:  \n",
        "  - Se impone una restricción de cobertura mínima que especifica que la suma de la población cubierta por los sitios seleccionados debe ser al menos igual a un valor 𝜖 ϵ dado.\n",
        "\n",
        "\n",
        "<font color='056938'> **Conjuntos** </font>\n",
        "\n",
        "S={1,2 ,3,…35}\n",
        "\n",
        "<font color='056938'> **Parámetros** </font>\n",
        "\n",
        "$d_{ij}$ :distancia entre el sitio i y el sitio j\n",
        "\n",
        "$c_i$ :es el costo de operación del sitio i\n",
        "\n",
        "\n",
        "<font color='056938'> **Variables de decisión** </font>\n",
        "\n",
        "$X_i$ :Variable binaria que indica si se elige el sitio i ( 1:si se elige,0 en caso contrario)\n",
        "\n",
        "$P_i$:Cantidad de personas que se cubrirían si se abre el sitio i\n",
        "\n",
        "<font color='056938'> **Función multiobjetivo** </font>\n",
        "\n",
        "$$\n",
        "\\text{max } P(x) = \\sum_{i \\in S} P_i X_i\n",
        "$$\n",
        "$$\n",
        "\\text{min } C(x) = \\sum_{i \\in S} c_i X_i\n",
        "$$\n",
        "\n",
        "<font color='056938'> **Sujeto a:** </font>\n",
        "La distancia entre los sitios seleccionados debe ser al menos de 2 km:\n",
        "\n",
        "$$d_{ij} \\geq 2  X_i  X_j$$\n",
        "donde $i, j$ están en el conjunto $S$ y $i \\neq j$."
      ],
      "metadata": {
        "id": "smod73nCwnVd"
      }
    },
    {
      "cell_type": "markdown",
      "source": [
        "\n"
      ],
      "metadata": {
        "id": "Gql5uiri9h1i"
      }
    },
    {
      "cell_type": "code",
      "source": [
        "!pip install pyomo\n",
        "!pip install highspy # Agregué un nuevo solver\n",
        "!apt-get install -y -qq glpk-utils"
      ],
      "metadata": {
        "colab": {
          "base_uri": "https://localhost:8080/"
        },
        "id": "1CM8z8MbwI69",
        "outputId": "62f5ee5d-6646-4bed-b7bc-488aece09a8d"
      },
      "execution_count": 68,
      "outputs": [
        {
          "output_type": "stream",
          "name": "stdout",
          "text": [
            "Requirement already satisfied: pyomo in /usr/local/lib/python3.10/dist-packages (6.7.3)\n",
            "Requirement already satisfied: ply in /usr/local/lib/python3.10/dist-packages (from pyomo) (3.11)\n",
            "Collecting highspy\n",
            "  Downloading highspy-1.5.3-cp310-cp310-manylinux_2_17_x86_64.manylinux2014_x86_64.whl (2.0 MB)\n",
            "\u001b[2K     \u001b[90m━━━━━━━━━━━━━━━━━━━━━━━━━━━━━━━━━━━━━━━━\u001b[0m \u001b[32m2.0/2.0 MB\u001b[0m \u001b[31m8.3 MB/s\u001b[0m eta \u001b[36m0:00:00\u001b[0m\n",
            "\u001b[?25hInstalling collected packages: highspy\n",
            "Successfully installed highspy-1.5.3\n"
          ]
        }
      ]
    },
    {
      "cell_type": "code",
      "source": [
        "import numpy as np\n",
        "import pandas as pd\n",
        "from pyomo.environ import *\n",
        "from pyomo.opt import SolverFactory, SolverManagerFactory\n",
        "import os\n",
        "import matplotlib.pyplot as plt\n",
        "\n",
        "# Ruta del archivo Excel\n",
        "file_path = '/content/drive/MyDrive/Colab Notebooks/Maestria/Optimización/Taller04/DATOS.xlsx'\n",
        "\n",
        "# Leer los datos desde el archivo Excel\n",
        "cost_cover_df = pd.read_excel(file_path, sheet_name='cost_cover')\n",
        "dist_matrix_df = pd.read_excel(file_path, sheet_name='dist_matrix')\n",
        "\n",
        "# Convertir el costo de operación a un formato numérico\n",
        "cost_cover_df['COSTO DE OPERACIÓN'] = cost_cover_df['COSTO DE OPERACIÓN'].replace('[\\$,]', '', regex=True).astype(float)\n",
        "\n",
        "# Extraer los datos relevantes\n",
        "P = cost_cover_df['# VISITAS (ts)'].values\n",
        "C = cost_cover_df['COSTO DE OPERACIÓN'].values\n",
        "dist_matrix = dist_matrix_df.values\n",
        "\n",
        "n_sites = len(P)\n"
      ],
      "metadata": {
        "id": "WQEf8hq5s68v"
      },
      "execution_count": 74,
      "outputs": []
    },
    {
      "cell_type": "code",
      "source": [
        "!pip install -q pyomo\n",
        "!apt-get install -y -qq glpk-utils\n"
      ],
      "metadata": {
        "id": "mWGA1D38yoYL"
      },
      "execution_count": null,
      "outputs": []
    },
    {
      "cell_type": "code",
      "source": [
        "\n",
        "def solve_epsilon_constraint(epsilon):\n",
        "    model = ConcreteModel()\n",
        "\n",
        "    # Conjuntos\n",
        "    model.S = RangeSet(n_sites)\n",
        "\n",
        "    # Parámetros\n",
        "    model.P = Param(model.S, initialize=lambda model, i: P[i-1])\n",
        "    model.C = Param(model.S, initialize=lambda model, i: C[i-1])\n",
        "    model.d = Param(model.S, model.S, initialize=lambda model, i, j: dist_matrix[i-1][j-1])\n",
        "\n",
        "    # Variables\n",
        "    model.x = Var(model.S, domain=Binary)\n",
        "\n",
        "    # Restricciones\n",
        "    def distance_constraint_rule(model, i, j):\n",
        "        if i < j and dist_matrix[i-1][j-1] < 2:\n",
        "            return model.x[i] + model.x[j] <= 1\n",
        "        return Constraint.Skip\n",
        "\n",
        "    model.distance_constraint = Constraint(model.S, model.S, rule=distance_constraint_rule)\n",
        "\n",
        "    # Restricción de cobertura mínima\n",
        "    model.coverage_constraint = Constraint(expr=sum(model.P[i] * model.x[i] for i in model.S) >= epsilon)\n",
        "\n",
        "    # Función objetivo: minimizar costo\n",
        "    model.obj = Objective(expr=sum(model.C[i] * model.x[i] for i in model.S), sense=minimize)\n",
        "\n",
        "    # Resolver el modelo\n",
        "\n",
        "    solver_manager = SolverManagerFactory('neos')\n",
        "    results = solver_manager.solve(model, opt='cplex', tee=True)\n",
        "\n",
        "\n",
        "    if results.solver.termination_condition == TerminationCondition.optimal:\n",
        "        # Obtener resultados\n",
        "        selected_sites = [i for i in model.S if value(model.x[i]) > 0.5]\n",
        "        people_covered = sum(value(model.P[i]) * value(model.x[i]) for i in model.S)\n",
        "        cost = sum(value(model.C[i]) * value(model.x[i]) for i in model.S)\n",
        "        return selected_sites, people_covered, cost\n",
        "    else:\n",
        "        print(f\"Warning: Solver did not find an optimal solution for epsilon = {epsilon}\")\n",
        "        return None, None, None\n",
        "\n",
        "# Probar con diferentes niveles de cobertura para el método \\(\\epsilon\\)-constraint\n",
        "coverage_levels = np.linspace(min(P), sum(P), 20)\n",
        "results = [solve_epsilon_constraint(epsilon) for epsilon in coverage_levels]\n",
        "\n",
        "# Filtrar resultados válidos\n",
        "results = [result for result in results if result[0] is not None]\n",
        "\n"
      ],
      "metadata": {
        "colab": {
          "base_uri": "https://localhost:8080/"
        },
        "id": "e07kGf4Etowx",
        "outputId": "9785d0f6-5d6c-4db4-c29a-1fbf61f3db63"
      },
      "execution_count": 80,
      "outputs": [
        {
          "output_type": "stream",
          "name": "stderr",
          "text": [
            "WARNING:pyomo.core:Loading a SolverResults object with a warning status into model.name=\"unknown\";\n",
            "  - termination condition: infeasible\n",
            "  - message from solver: CPLEX 22.1.1.0\\x3a integer infeasible.; 26 MIP simplex iterations; 0 branch-and-bound nodes; No basis.\n"
          ]
        },
        {
          "output_type": "stream",
          "name": "stdout",
          "text": [
            "Warning: Solver did not find an optimal solution for epsilon = 25889.947368421053\n"
          ]
        },
        {
          "output_type": "stream",
          "name": "stderr",
          "text": [
            "WARNING:pyomo.core:Loading a SolverResults object with a warning status into model.name=\"unknown\";\n",
            "  - termination condition: infeasible\n",
            "  - message from solver: CPLEX 22.1.1.0\\x3a integer infeasible.; 0 MIP simplex iterations; 0 branch-and-bound nodes; No basis.\n"
          ]
        },
        {
          "output_type": "stream",
          "name": "stdout",
          "text": [
            "Warning: Solver did not find an optimal solution for epsilon = 28208.57894736842\n"
          ]
        },
        {
          "output_type": "stream",
          "name": "stderr",
          "text": [
            "WARNING:pyomo.core:Loading a SolverResults object with a warning status into model.name=\"unknown\";\n",
            "  - termination condition: infeasible\n",
            "  - message from solver: CPLEX 22.1.1.0\\x3a integer infeasible.; 0 MIP simplex iterations; 0 branch-and-bound nodes; No basis.\n"
          ]
        },
        {
          "output_type": "stream",
          "name": "stdout",
          "text": [
            "Warning: Solver did not find an optimal solution for epsilon = 30527.210526315786\n"
          ]
        },
        {
          "output_type": "stream",
          "name": "stderr",
          "text": [
            "WARNING:pyomo.core:Loading a SolverResults object with a warning status into model.name=\"unknown\";\n",
            "  - termination condition: infeasible\n",
            "  - message from solver: CPLEX 22.1.1.0\\x3a integer infeasible.; 0 MIP simplex iterations; 0 branch-and-bound nodes; No basis.\n"
          ]
        },
        {
          "output_type": "stream",
          "name": "stdout",
          "text": [
            "Warning: Solver did not find an optimal solution for epsilon = 32845.84210526316\n"
          ]
        },
        {
          "output_type": "stream",
          "name": "stderr",
          "text": [
            "WARNING:pyomo.core:Loading a SolverResults object with a warning status into model.name=\"unknown\";\n",
            "  - termination condition: infeasible\n",
            "  - message from solver: CPLEX 22.1.1.0\\x3a integer infeasible.; 0 MIP simplex iterations; 0 branch-and-bound nodes; No basis.\n"
          ]
        },
        {
          "output_type": "stream",
          "name": "stdout",
          "text": [
            "Warning: Solver did not find an optimal solution for epsilon = 35164.47368421053\n"
          ]
        },
        {
          "output_type": "stream",
          "name": "stderr",
          "text": [
            "WARNING:pyomo.core:Loading a SolverResults object with a warning status into model.name=\"unknown\";\n",
            "  - termination condition: infeasible\n",
            "  - message from solver: CPLEX 22.1.1.0\\x3a integer infeasible.; 0 MIP simplex iterations; 0 branch-and-bound nodes; No basis.\n"
          ]
        },
        {
          "output_type": "stream",
          "name": "stdout",
          "text": [
            "Warning: Solver did not find an optimal solution for epsilon = 37483.10526315789\n"
          ]
        },
        {
          "output_type": "stream",
          "name": "stderr",
          "text": [
            "WARNING:pyomo.core:Loading a SolverResults object with a warning status into model.name=\"unknown\";\n",
            "  - termination condition: infeasible\n",
            "  - message from solver: CPLEX 22.1.1.0\\x3a integer infeasible.; 0 MIP simplex iterations; 0 branch-and-bound nodes; No basis.\n"
          ]
        },
        {
          "output_type": "stream",
          "name": "stdout",
          "text": [
            "Warning: Solver did not find an optimal solution for epsilon = 39801.73684210526\n"
          ]
        },
        {
          "output_type": "stream",
          "name": "stderr",
          "text": [
            "WARNING:pyomo.core:Loading a SolverResults object with a warning status into model.name=\"unknown\";\n",
            "  - termination condition: infeasible\n",
            "  - message from solver: CPLEX 22.1.1.0\\x3a integer infeasible.; 0 MIP simplex iterations; 0 branch-and-bound nodes; No basis.\n"
          ]
        },
        {
          "output_type": "stream",
          "name": "stdout",
          "text": [
            "Warning: Solver did not find an optimal solution for epsilon = 42120.368421052626\n"
          ]
        },
        {
          "output_type": "stream",
          "name": "stderr",
          "text": [
            "WARNING:pyomo.core:Loading a SolverResults object with a warning status into model.name=\"unknown\";\n",
            "  - termination condition: infeasible\n",
            "  - message from solver: CPLEX 22.1.1.0\\x3a integer infeasible.; 0 MIP simplex iterations; 0 branch-and-bound nodes; No basis.\n"
          ]
        },
        {
          "output_type": "stream",
          "name": "stdout",
          "text": [
            "Warning: Solver did not find an optimal solution for epsilon = 44439.0\n"
          ]
        }
      ]
    },
    {
      "cell_type": "markdown",
      "source": [
        "El modelo se prueba con diferentes niveles de cobertura (ϵ-constraint) variando el valor de 𝜖 a lo largo de un rango específico, los resultados obtenidos se ilustran en la siguiente curva de pareto.\n",
        "\n",
        "La curva de Pareto ilustra el trade-off entre el **costo de operación** y la **cantidad de personas cubiertas**. Cada punto en la curva representa una solución donde no se puede mejorar un objetivo sin empeorar el otro. Esto permitirá a la compañía seleccionar una solución que balancee adecuadamente sus prioridades entre minimizar costos y maximizar cobertura."
      ],
      "metadata": {
        "id": "mCEFMWir_BUv"
      }
    },
    {
      "cell_type": "code",
      "source": [
        "# Extraer y graficar los resultados\n",
        "people_covered = [result[1] for result in results]\n",
        "costs = [result[2] for result in results]\n",
        "\n",
        "plt.figure()\n",
        "plt.plot(costs, people_covered, marker='o')\n",
        "plt.xlabel('Costo de operación')\n",
        "plt.ylabel('Personas cubiertas')\n",
        "plt.title('Frontera eficiente Costo vs. Personas cubiertas')\n",
        "plt.grid(True)\n",
        "plt.show()\n"
      ],
      "metadata": {
        "colab": {
          "base_uri": "https://localhost:8080/",
          "height": 472
        },
        "id": "2tdfEi7H9RFd",
        "outputId": "c1260b34-d36b-4e3a-8d10-bbe34157e0c4"
      },
      "execution_count": 79,
      "outputs": [
        {
          "output_type": "display_data",
          "data": {
            "text/plain": [
              "<Figure size 640x480 with 1 Axes>"
            ],
            "image/png": "[encoded data removed]"
          },
          "metadata": {}
        }
      ]
    }
  ]
}