{
  "cells": [
    {
      "cell_type": "markdown",
      "metadata": {
        "id": "view-in-github",
        "colab_type": "text"
      },
      "source": [
        "<a href=\"https://colab.research.google.com/github/luisam19/course_optimizacion/blob/main/3_Ejemplo_asignacion.ipynb\" target=\"_parent\"><img src=\"https://colab.research.google.com/assets/colab-badge.svg\" alt=\"Open In Colab\"/></a>"
      ]
    },
    {
      "cell_type": "markdown",
      "metadata": {
        "id": "1-vCEK67aq7U"
      },
      "source": [
        "# Ejemplo asignación en Pyomo\n",
        "\n",
        "Este cuaderno ejemplifica la implementación de modelos de asignación haciendo uso de Pyomo (Hart et al, 2011). Además a traves de este ejemplo se ilustrará el acceso a otro tipo de optimizadores (comerciales y no comerciales) a traves de NEOS (Dolan et al, 2002). Para la implementación de este mismo modelo de optimización en XpressMP usando MOSEL y en el Solver de Excel, te invitamos a revisar los ejemplos resueltos incluidos en el material de la segunda unidad de aprendizaje\n",
        "\n",
        "\n",
        "\n",
        "\n",
        "\n"
      ]
    },
    {
      "cell_type": "markdown",
      "metadata": {
        "id": "y-gpl1myrQBN"
      },
      "source": [
        "# Ejemplo: Estructura de asignación (tomado de Bronson, 1983)\n",
        "\n",
        "Un bufete de abogados ha aceptado cinco nuevos casos, cada uno de los cuales puede ser llevado adecuadamente por cualquiera de los cinco asociados más recientes. Debido a la diferencia de experiencia y práctica, los abogados emplearían distintos tiempos en los casos. Uno de los asociados más experimentados ha estimado las necesidades de tiempo, en horas, de cada abogado para cada caso como sigue:\n",
        "\n",
        "\n",
        "\n",
        "|   |Caso 1  |Caso 2  | Caso 3  | Caso 4  | Caso 5|\n",
        "|-------|----|----|----|----|----|\n",
        "| **Abogado 1** | 145 | 122 | 130 | 95 | 115|\n",
        "| **Abogado 2** | 80  |\t63\t|  85\t| 48 | 78 |\n",
        "| **Abogado 3** | 121\t|107\t|  93\t| 69 | 95 |\n",
        "| **Abogado 4** | 118 |\t83\t| 116\t| 80 |105 |\n",
        "| **Abogado 5** | 97\t| 75\t| 120\t| 80 |111 |\n",
        "\n",
        "\n",
        "Vamos a formular un modelo de optimización que le ayude al abogado coordinador a asignar los casos de manera que el número total de horas invertidas sea mínimo. Todos los casos deben ser asignados y ningún abogado puede tener más de un caso asignado.\n",
        "\n",
        "Para ello seguiremos los 5 pasos del proceso de modelación:\n",
        "\n",
        "1.   Definición de elementos y notación\n",
        "2.   Verbalización\n",
        "3.   Formulación del modelo descrito en la verbalización del paso 2, usando la notación y elementos definidos en el paso 1\n",
        "4. Solución con software de optimización, en este caso  Pyomo\n",
        "5. Interpretación de la solución  \n",
        "\n"
      ]
    },
    {
      "cell_type": "markdown",
      "metadata": {
        "id": "0BzQQHrLuBYZ"
      },
      "source": [
        "#1. Notación y formulación\n",
        "\n",
        "Para formular este modelo iniciamos definiendo la notación necesaria:\n",
        "\n",
        "**Conjuntos**\n",
        "\n",
        "> Abogados: A={A1, A2, A3, A4, A5}\n",
        "\n",
        "> Casos : C={C1, C2, C3, C4, C5}\n",
        "\n",
        "**Parámetros**\n",
        "> $t_{ij}$: tiempo necesario por el abogado $i \\in A$ para abordar el caso $j \\in C$  [horas]\n",
        "\n",
        "**Variables de decisión**\n",
        "\n",
        "> $x_{ij}$: Variable binaria, $x_{ij}=1$ si se asigna el abogado $ i \\in A$ al caso $ j \\in C$. $x_{ij}=0$ si no se asigna.\n"
      ]
    },
    {
      "cell_type": "markdown",
      "metadata": {
        "id": "TvB-TqghwqK5"
      },
      "source": [
        "#2. Verbalización\n",
        "\n",
        "Ahora, expresamos en palabras el modelo que queremos constuir, declarando explicitamente su <font color='blue'>función objetivo</font>,<font color='red'> restricciones</font> y <font color='green'>decisiones</font>:\n",
        "\n",
        "<font color='green'>Decidir qué abogado asignar a cada caso, </font> <font color='red'> cumpliendo que todos los casos deben ser atendidos por un abogado (demanda) y ningún abogado debe ser asignado a más de un caso (recurso) </font> <font color='blue'>, para minimizar el número total de horas invertidas.</font>\n"
      ]
    },
    {
      "cell_type": "markdown",
      "metadata": {
        "id": "YZ3qoVu6yYXS"
      },
      "source": [
        "# 3. Formulación\n",
        "\n",
        "Ahora, usando la notación de 1. y la verbalización de 2. tenemos el siguiente modelo de optimización que permitirá planear óptimamente la asignación de los casos en el bufete de abogados.\n",
        "\n",
        ">$\\text{min}\\ TiempoTotal = \\sum_{i \\in A}\\sum_{j \\in C}t_{ij}x_{ij} $    (<font color='blue'> Total de horas invertidas </font>)\n",
        "\n",
        "$sujeto \\, a:$\n",
        "\n",
        ">$\\sum_{i \\in A}x_{ij}= 1, \\quad \\forall j \\in C \\quad$(<font color='red'> Todos los casos deben ser atendidos por un abogado (demanda)  </font>)\n",
        "\n",
        ">$\\sum_{j \\in C}x_{ij}\\leq 1, \\quad \\forall i \\in A \\quad$(<font color='red'> Ningún abogado debe ser asignado a más de un caso (recurso)  </font>)\n",
        "\n",
        "> $x_{ij} \\in \\{ 0, 1\\} \\quad \\forall i \\in A, \\forall j \\in C \\quad $(<font color='green'>Dominio de las variables - binarias- </font>)\n",
        "\n"
      ]
    },
    {
      "cell_type": "markdown",
      "metadata": {
        "id": "N-kIGzGb3Hlq"
      },
      "source": [
        "# 4. Implementación computacional\n",
        "\n",
        "Ahora usaremos un modelo abstracto de pyomo para implemetar este modelo de optimización.\n",
        "\n",
        "Primero es necesario instalar Pyomo y el optimizador (solver); en este caso usaremos el servicio gratuito de optimización en la nube  que ofrece [NEOS](https://neos-server.org/neos/solvers/index.html), con el cual tenemos acceso a muchos optimizadores lineales, no lineales, comerciales, no comerciales, etc. En este caso usaremos el optimizador comercial [Cplex](https://www.ibm.com/co-es/analytics/cplex-optimizer) de IBM, el cual es uno de los optimizadores más eficientes que hay en el mercado. Para que NEOS pueda enviar los resultados una vez resuelto el modelo es necesario especificar un correo electrónico válido. Para indicar NEOS como solucionador y el correo adecuado usamos las siguientes líneas:\n",
        "\n",
        ">NEOS\n",
        "\n",
        "$\\texttt{solver_manager = SolverManagerFactory('neos')}$\n",
        "$\\texttt{os.environ['NEOS_EMAIL'] = 'usuario@udea.edu.co'}$\n"
      ]
    },
    {
      "cell_type": "code",
      "execution_count": null,
      "metadata": {
        "id": "WUu9wxcO3G80",
        "colab": {
          "base_uri": "https://localhost:8080/"
        },
        "outputId": "286517cb-8d7f-4364-e721-f161791f8be6"
      },
      "outputs": [
        {
          "output_type": "stream",
          "name": "stdout",
          "text": [
            "\u001b[2K     \u001b[90m━━━━━━━━━━━━━━━━━━━━━━━━━━━━━━━━━━━━━━━━\u001b[0m \u001b[32m11.0/11.0 MB\u001b[0m \u001b[31m36.2 MB/s\u001b[0m eta \u001b[36m0:00:00\u001b[0m\n",
            "\u001b[2K     \u001b[90m━━━━━━━━━━━━━━━━━━━━━━━━━━━━━━━━━━━━━━━━\u001b[0m \u001b[32m49.6/49.6 KB\u001b[0m \u001b[31m3.4 MB/s\u001b[0m eta \u001b[36m0:00:00\u001b[0m\n",
            "\u001b[?25h"
          ]
        }
      ],
      "source": [
        "# install pyomo and import libraries\n",
        "!pip install -q pyomo\n",
        "from pyomo.environ import *\n",
        "from pyomo.opt import *\n",
        "import os\n",
        "\n",
        "\n",
        "# Establecer NEOS  como servicio para el solucionador\n",
        "solver_manager = SolverManagerFactory('neos')\n",
        "# Una dirección valida para ejecutar NEOS\n",
        "os.environ['NEOS_EMAIL'] = 'juan.villegas@udea.edu.co' #Ponga su dirección de correo para una ejecución y visualización correcta de los resultados\n",
        "\n",
        "\n"
      ]
    },
    {
      "cell_type": "markdown",
      "metadata": {
        "id": "9nZBS_e8ChGm"
      },
      "source": [
        "# Modelo de optimización abstracto\n",
        "\n",
        "**DEFINICIÓN DE LOS ELEMENTOS DEL MODELO**\n",
        "\n",
        "\n",
        "Primero declaramos (computacionalmente) los elementos del modelo de optimización, de manera similar a como lo hicimos cuando definimos (matemáticamente) los elementos del modelo de optimización y su notación.\n",
        "\n",
        "\n",
        "Para ello creamos el modelo con la instrucción: $\\texttt{model = AbstractModel}$\n",
        "\n",
        "Y luego le agregamos\n",
        "\n",
        ">Conjuntos ($\\texttt{Set})$\n",
        "\n",
        "$\\texttt{model.Abogados = Set(ordered = False)}$\n",
        "\n",
        "$\\texttt{model.Casos = Set(ordered = False)}$\n",
        "\n",
        ">Parámetros ($\\texttt{Param}$)\n",
        "\n",
        "$\\texttt{model.t = Param(model.Abogados, model.Casos, within=PositiveReals)}$\n",
        "\n",
        ">Variables de decisión (binaria)\n",
        "\n",
        "$\\texttt{model.x = Var(model.Abogados, model.Casos, within=Binary)}$\n"
      ]
    },
    {
      "cell_type": "code",
      "execution_count": null,
      "metadata": {
        "id": "8uM_Up7NCueG"
      },
      "outputs": [],
      "source": [
        "# Crear el modelo abstracto\n",
        "model = AbstractModel()\n",
        "#Notación\n",
        "# Conjuntos: Abogados  y Casos\n",
        "model.Abogados = Set(ordered = False)\n",
        "model.Casos = Set(ordered = False)\n",
        "#Parametros\n",
        "#Tiempo que toma cada Abogado en cada caso\n",
        "model.t = Param(model.Abogados, model.Casos, within=PositiveReals)\n",
        "# Define variables\n",
        "model.x = Var(model.Abogados, model.Casos, within=Binary)\n",
        "\n",
        "\n"
      ]
    },
    {
      "cell_type": "markdown",
      "metadata": {
        "id": "QrgVvLxV6Rbs"
      },
      "source": [
        "**FORMULACION DEL MODELO ABSTRACTO**\n",
        "\n",
        "Ahora que ya tenemos los elementos del modelo le agregamos la función objetivo y las restricciones:\n",
        "\n",
        ">Función objetivo ($\\texttt{Objective}$):\n",
        "\n",
        "$\\texttt{def time_rule(model):}$\n",
        "\n",
        " $\\quad\\texttt{return sum(model.t[i,j] * model.x[i,j] for i in model.Abogados for j in model.Casos)}$\n",
        "\n",
        "$\\texttt{model.tiempo_total = Objective(sense=minimize, rule=time_rule)}$\n",
        "\n",
        ">Restricciones ($\\texttt{Constraint}$)\n",
        "\n",
        "*Todos los casos deben ser atendidos por un abogado (demanda)*:\n",
        "\n",
        "$\\texttt{def req_rule(model, j):}$\n",
        "\n",
        "  $\\quad\\texttt{return sum(model.x[i,j] for i in model.Abogados)=1}$\n",
        "  \n",
        "$\\texttt{model.req_rule = Constraint(model.Casos,rule=req_rule)}$\n",
        "\n",
        "*Ningún abogado debe ser asignado a más de un caso (recurso)*:\n",
        "\n",
        "$\\texttt{def disp_rule(model, i):}$\n",
        "\n",
        "  $\\quad\\texttt{return sum(model.x[i,j] for j in model.Casos)<=1}$\n",
        "\n",
        "$\\texttt{model.disp_rule = Constraint(model.Abogados,rule=disp_rule)}$\n",
        "\n",
        "\n",
        "\n"
      ]
    },
    {
      "cell_type": "code",
      "execution_count": null,
      "metadata": {
        "id": "S4Zg0Y648WjP",
        "colab": {
          "base_uri": "https://localhost:8080/"
        },
        "outputId": "2fd25edf-9a8a-42c6-eade-edfe90e10ef2"
      },
      "outputs": [
        {
          "output_type": "stream",
          "name": "stderr",
          "text": [
            "WARNING:pyomo.core:Implicitly replacing the Component attribute tiempo_total (type=<class 'pyomo.core.base.objective.ScalarObjective'>) on block unknown with a new Component (type=<class 'pyomo.core.base.objective.ScalarObjective'>).\n",
            "This is usually indicative of a modelling error.\n",
            "To avoid this warning, use block.del_component() and block.add_component().\n",
            "WARNING:pyomo.core:Implicitly replacing the Component attribute req_rule (type=<class 'pyomo.core.base.constraint.IndexedConstraint'>) on block unknown with a new Component (type=<class 'pyomo.core.base.constraint.IndexedConstraint'>).\n",
            "This is usually indicative of a modelling error.\n",
            "To avoid this warning, use block.del_component() and block.add_component().\n",
            "WARNING:pyomo.core:Implicitly replacing the Component attribute disp_rule (type=<class 'pyomo.core.base.constraint.IndexedConstraint'>) on block unknown with a new Component (type=<class 'pyomo.core.base.constraint.IndexedConstraint'>).\n",
            "This is usually indicative of a modelling error.\n",
            "To avoid this warning, use block.del_component() and block.add_component().\n"
          ]
        }
      ],
      "source": [
        "# Función objetivo - costo total\n",
        "def time_rule(model):\n",
        "  return sum(model.t[i,j] * model.x[i,j] for i in model.Abogados for j in model.Casos)\n",
        "model.tiempo_total = Objective(sense=minimize, rule=time_rule)\n",
        "\n",
        "# Restriccion de requerimiento de los casos\n",
        "def req_rule(model, j):\n",
        "  return sum(model.x[i,j] for i in model.Abogados) == 1\n",
        "model.req_rule = Constraint(model.Casos,rule=req_rule)\n",
        "\n",
        "# Restriccion de disponibilidad de los abogados\n",
        "def disp_rule(model, i):\n",
        "  return sum(model.x[i,j] for j in model.Casos)<=1\n",
        "model.disp_rule = Constraint(model.Abogados,rule=disp_rule)\n"
      ]
    },
    {
      "cell_type": "markdown",
      "metadata": {
        "id": "v8Mpjn4FDYsC"
      },
      "source": [
        "# Lectura de datos\n",
        "\n",
        "Ahora, vamos a utilizar el archivo $\\texttt{abogados.dat}$ para leer los tiempos de la tabla 1. El archivo está disponible en el material del curso.\n",
        "Para elegir y subir el archivo, y así cargarlo en el espacio de almacenamiento de sesión del Notebook, tenemos dos opciones básicas:\n",
        "\n",
        "Aquí usaremos la opción $\\texttt{files.upload()}$\n",
        "\n",
        "\n",
        "También podemos usar el botón de subida de archivos de la izquierda del notebook ![Almacenamiento de sesion.PNG](data:image/png;base64,iVBORw0KGgoAAAANSUhEUgAAADAAAAA1CAYAAAAHz2g0AAAAAXNSR0IArs4c6QAAAARnQU1BAACxjwv8YQUAAAAJcEhZcwAAGdYAABnWARjRyu0AAAEtSURBVGhD7ZhBCoMwEEV7Vbd6B9d6B9euPYR38BCuXU/54JRgYyNJ7I8wDz4NmRjylBTjSx6OCbAxATYmwMYE2JgAGxNgYwJsTIBNssC6rjKOo/R9HwzG5SZJYNs2aZpGqqq6nGEY9qvzkCSwLMtnYV3X/Uxd17dIZBMIAQkdm1OCJoDkkKAKIKkSdAEkRaIIAQRzxfA3gXmeZZqmrzxG4AwT2H+juCKADfprkxYtgIVr/UxC68UJuIvX+CS0VpSAb/Gao4T2FyOAv0vta9vW28YYRfuKewKIW0db+13cegy3buKjgI9QPYQJ6AJ8PF4AR06MQdD2UYyA7xB/JVQB3FX3rBsbzHH2hEIkCQD9rIL3/ZjgWswRS7IAGxNgYwJsTICNCbAxATYPFxB5A0ABAtv8i/PAAAAAAElFTkSuQmCC).\n",
        "\n",
        "En ambos casos se abre un cuadro de diálogo que nos permite subir el archivo.\n"
      ]
    },
    {
      "cell_type": "code",
      "execution_count": null,
      "metadata": {
        "colab": {
          "base_uri": "https://localhost:8080/",
          "height": 144
        },
        "id": "hQXrU8NTbYxn",
        "outputId": "c83abec4-3939-4e8f-b651-c88e7b750383"
      },
      "outputs": [
        {
          "output_type": "display_data",
          "data": {
            "text/plain": [
              "<IPython.core.display.HTML object>"
            ],
            "text/html": [
              "\n",
              "     <input type=\"file\" id=\"files-ee270bfd-0ab2-4639-b4a3-8f789fd6c25a\" name=\"files[]\" multiple disabled\n",
              "        style=\"border:none\" />\n",
              "     <output id=\"result-ee270bfd-0ab2-4639-b4a3-8f789fd6c25a\">\n",
              "      Upload widget is only available when the cell has been executed in the\n",
              "      current browser session. Please rerun this cell to enable.\n",
              "      </output>\n",
              "      <script>// Copyright 2017 Google LLC\n",
              "//\n",
              "// Licensed under the Apache License, Version 2.0 (the \"License\");\n",
              "// you may not use this file except in compliance with the License.\n",
              "// You may obtain a copy of the License at\n",
              "//\n",
              "//      http://www.apache.org/licenses/LICENSE-2.0\n",
              "//\n",
              "// Unless required by applicable law or agreed to in writing, software\n",
              "// distributed under the License is distributed on an \"AS IS\" BASIS,\n",
              "// WITHOUT WARRANTIES OR CONDITIONS OF ANY KIND, either express or implied.\n",
              "// See the License for the specific language governing permissions and\n",
              "// limitations under the License.\n",
              "\n",
              "/**\n",
              " * @fileoverview Helpers for google.colab Python module.\n",
              " */\n",
              "(function(scope) {\n",
              "function span(text, styleAttributes = {}) {\n",
              "  const element = document.createElement('span');\n",
              "  element.textContent = text;\n",
              "  for (const key of Object.keys(styleAttributes)) {\n",
              "    element.style[key] = styleAttributes[key];\n",
              "  }\n",
              "  return element;\n",
              "}\n",
              "\n",
              "// Max number of bytes which will be uploaded at a time.\n",
              "const MAX_PAYLOAD_SIZE = 100 * 1024;\n",
              "\n",
              "function _uploadFiles(inputId, outputId) {\n",
              "  const steps = uploadFilesStep(inputId, outputId);\n",
              "  const outputElement = document.getElementById(outputId);\n",
              "  // Cache steps on the outputElement to make it available for the next call\n",
              "  // to uploadFilesContinue from Python.\n",
              "  outputElement.steps = steps;\n",
              "\n",
              "  return _uploadFilesContinue(outputId);\n",
              "}\n",
              "\n",
              "// This is roughly an async generator (not supported in the browser yet),\n",
              "// where there are multiple asynchronous steps and the Python side is going\n",
              "// to poll for completion of each step.\n",
              "// This uses a Promise to block the python side on completion of each step,\n",
              "// then passes the result of the previous step as the input to the next step.\n",
              "function _uploadFilesContinue(outputId) {\n",
              "  const outputElement = document.getElementById(outputId);\n",
              "  const steps = outputElement.steps;\n",
              "\n",
              "  const next = steps.next(outputElement.lastPromiseValue);\n",
              "  return Promise.resolve(next.value.promise).then((value) => {\n",
              "    // Cache the last promise value to make it available to the next\n",
              "    // step of the generator.\n",
              "    outputElement.lastPromiseValue = value;\n",
              "    return next.value.response;\n",
              "  });\n",
              "}\n",
              "\n",
              "/**\n",
              " * Generator function which is called between each async step of the upload\n",
              " * process.\n",
              " * @param {string} inputId Element ID of the input file picker element.\n",
              " * @param {string} outputId Element ID of the output display.\n",
              " * @return {!Iterable<!Object>} Iterable of next steps.\n",
              " */\n",
              "function* uploadFilesStep(inputId, outputId) {\n",
              "  const inputElement = document.getElementById(inputId);\n",
              "  inputElement.disabled = false;\n",
              "\n",
              "  const outputElement = document.getElementById(outputId);\n",
              "  outputElement.innerHTML = '';\n",
              "\n",
              "  const pickedPromise = new Promise((resolve) => {\n",
              "    inputElement.addEventListener('change', (e) => {\n",
              "      resolve(e.target.files);\n",
              "    });\n",
              "  });\n",
              "\n",
              "  const cancel = document.createElement('button');\n",
              "  inputElement.parentElement.appendChild(cancel);\n",
              "  cancel.textContent = 'Cancel upload';\n",
              "  const cancelPromise = new Promise((resolve) => {\n",
              "    cancel.onclick = () => {\n",
              "      resolve(null);\n",
              "    };\n",
              "  });\n",
              "\n",
              "  // Wait for the user to pick the files.\n",
              "  const files = yield {\n",
              "    promise: Promise.race([pickedPromise, cancelPromise]),\n",
              "    response: {\n",
              "      action: 'starting',\n",
              "    }\n",
              "  };\n",
              "\n",
              "  cancel.remove();\n",
              "\n",
              "  // Disable the input element since further picks are not allowed.\n",
              "  inputElement.disabled = true;\n",
              "\n",
              "  if (!files) {\n",
              "    return {\n",
              "      response: {\n",
              "        action: 'complete',\n",
              "      }\n",
              "    };\n",
              "  }\n",
              "\n",
              "  for (const file of files) {\n",
              "    const li = document.createElement('li');\n",
              "    li.append(span(file.name, {fontWeight: 'bold'}));\n",
              "    li.append(span(\n",
              "        `(${file.type || 'n/a'}) - ${file.size} bytes, ` +\n",
              "        `last modified: ${\n",
              "            file.lastModifiedDate ? file.lastModifiedDate.toLocaleDateString() :\n",
              "                                    'n/a'} - `));\n",
              "    const percent = span('0% done');\n",
              "    li.appendChild(percent);\n",
              "\n",
              "    outputElement.appendChild(li);\n",
              "\n",
              "    const fileDataPromise = new Promise((resolve) => {\n",
              "      const reader = new FileReader();\n",
              "      reader.onload = (e) => {\n",
              "        resolve(e.target.result);\n",
              "      };\n",
              "      reader.readAsArrayBuffer(file);\n",
              "    });\n",
              "    // Wait for the data to be ready.\n",
              "    let fileData = yield {\n",
              "      promise: fileDataPromise,\n",
              "      response: {\n",
              "        action: 'continue',\n",
              "      }\n",
              "    };\n",
              "\n",
              "    // Use a chunked sending to avoid message size limits. See b/62115660.\n",
              "    let position = 0;\n",
              "    do {\n",
              "      const length = Math.min(fileData.byteLength - position, MAX_PAYLOAD_SIZE);\n",
              "      const chunk = new Uint8Array(fileData, position, length);\n",
              "      position += length;\n",
              "\n",
              "      const base64 = btoa(String.fromCharCode.apply(null, chunk));\n",
              "      yield {\n",
              "        response: {\n",
              "          action: 'append',\n",
              "          file: file.name,\n",
              "          data: base64,\n",
              "        },\n",
              "      };\n",
              "\n",
              "      let percentDone = fileData.byteLength === 0 ?\n",
              "          100 :\n",
              "          Math.round((position / fileData.byteLength) * 100);\n",
              "      percent.textContent = `${percentDone}% done`;\n",
              "\n",
              "    } while (position < fileData.byteLength);\n",
              "  }\n",
              "\n",
              "  // All done.\n",
              "  yield {\n",
              "    response: {\n",
              "      action: 'complete',\n",
              "    }\n",
              "  };\n",
              "}\n",
              "\n",
              "scope.google = scope.google || {};\n",
              "scope.google.colab = scope.google.colab || {};\n",
              "scope.google.colab._files = {\n",
              "  _uploadFiles,\n",
              "  _uploadFilesContinue,\n",
              "};\n",
              "})(self);\n",
              "</script> "
            ]
          },
          "metadata": {}
        },
        {
          "output_type": "stream",
          "name": "stdout",
          "text": [
            "Saving abogados.dat to abogados.dat\n"
          ]
        },
        {
          "output_type": "execute_result",
          "data": {
            "text/plain": [
              "{'abogados.dat': b'#Data file para el ejemplo de la refineria de petroleo\\r\\n\\r\\nset Casos := C1 C2 C3 C4 C5; \\r\\nset Abogados := A1 A2 A3 A4 A5;\\r\\n\\r\\nparam t:=\\r\\n A1 C1 145\\r\\n A1 C2 122\\r\\n A1 C3\\t130\\r\\n A1 C4\\t95\\r\\n A1 C5\\t115\\r\\n A2 C1  80\\r\\n A2 C2\\t63\\r\\n A2 C3\\t85\\r\\n A2 C4\\t48\\r\\n A2 C5\\t78\\r\\n A3 C1 121\\r\\n A3 C2 107\\r\\n A3 C3\\t93\\r\\n A3 C4\\t69\\r\\n A3 C5\\t95\\r\\n A4 C1 118\\r\\n A4 C2\\t83\\r\\n A4 C3\\t116\\r\\n A4 C4\\t80\\r\\n A4 C5\\t105\\r\\n A5 C1  97\\r\\n A5 C2  75\\r\\n A5 C3 120\\r\\n A5 C4\\t80\\r\\n A5 C5\\t111\\r\\n;    \\r\\n'}"
            ]
          },
          "metadata": {},
          "execution_count": 5
        }
      ],
      "source": [
        "from google.colab import files\n",
        "\n",
        "files.upload()\n"
      ]
    },
    {
      "cell_type": "markdown",
      "metadata": {
        "id": "vE96kJ54HFO_"
      },
      "source": [
        "# Instanciación del modelo abstracto y solución\n",
        "\n",
        "Ahora, (i) combinamos el modelo abstracto  y los datos para la creación de una instancia particular del problema de optimización, y asi poder (ii) enviar la instancia del modelo resultante al  solucionador  (NEOS en este caso):\n",
        "\n",
        ">Instanciación\n",
        "\n",
        "Luego de haber creado el modelo Abstracto $\\texttt{AbstractModel}$ se utiliza una realización de los datos ($\\texttt{abogados.dat}$) para construir una instancia particular del modelo:  \n",
        "($\\texttt{instance = model.create_instance('abogados.dat')}$)\n",
        "\n",
        ">Solución\n",
        "\n",
        "Una vez creada la instancia se le pasa al optimizador para que resuelva el problema, usando para ello el optimizador [CPLEX] en NEOS.\n",
        "\n",
        "($\\texttt{solver_manager.solve(instance, opt='cplex')}$)\n",
        "\n"
      ]
    },
    {
      "cell_type": "code",
      "execution_count": null,
      "metadata": {
        "colab": {
          "base_uri": "https://localhost:8080/"
        },
        "id": "XtEw_DFMG_Kb",
        "outputId": "53575615-4543-4a45-912d-da28e877e2ad"
      },
      "outputs": [
        {
          "output_type": "execute_result",
          "data": {
            "text/plain": [
              "{'Problem': [{'Lower bound': -inf, 'Upper bound': inf, 'Number of objectives': 1, 'Number of constraints': 10, 'Number of variables': 25, 'Sense': 'unknown'}], 'Solver': [{'Status': 'ok', 'Message': 'CPLEX 20.1.0.0\\\\x3a optimal integer solution; objective 436; 4 MIP simplex iterations; 0 branch-and-bound nodes', 'Termination condition': 'optimal', 'Id': 2}], 'Solution': [OrderedDict([('number of solutions', 0), ('number of solutions displayed', 0)])]}"
            ]
          },
          "metadata": {},
          "execution_count": 6
        }
      ],
      "source": [
        "# Crea una instancia del modelo abstracto\n",
        "\n",
        "instance = model.create_instance('abogados.dat')\n",
        "# resuleve la instancia\n",
        "solver_manager.solve(instance, opt='cplex')\n",
        "\n",
        "\n",
        "\n"
      ]
    },
    {
      "cell_type": "markdown",
      "metadata": {
        "id": "BEY-DyqMTfKU"
      },
      "source": [
        " # 5 Interpretación de la solución\n",
        "\n",
        "Finalmente, después de haber  resuelto la problema de optimización,  recuperamos los resultados de las variables de decisión y la función objetivo óptima.\n",
        "\n",
        " >Impresión de resultados\n",
        "\n",
        "Para visualizar los resultados usaremos la función $\\texttt{value()}$, la cual permite acceder y calcular el valor de distintos componentes de los modelos de Pyomo; por ejemplo, las variables: $\\texttt{value(instance.x[i,j])}$, o la función objetivo: $\\texttt{value(instance.tiempo_total)}$  \n",
        "\n",
        "\n",
        "\n"
      ]
    },
    {
      "cell_type": "code",
      "execution_count": null,
      "metadata": {
        "colab": {
          "base_uri": "https://localhost:8080/"
        },
        "id": "wlARlPmbUEKz",
        "outputId": "b93ce386-285d-45d9-dcbb-3686d2233a0f"
      },
      "outputs": [
        {
          "output_type": "stream",
          "name": "stdout",
          "text": [
            "La solución optima toma 436.0 horas, la asignación es la siguiente\n",
            "El abogado A2 esta asignado al caso C4 con un tiempo de 48 horas\n",
            "El abogado A3 esta asignado al caso C3 con un tiempo de 93 horas\n",
            "El abogado A4 esta asignado al caso C2 con un tiempo de 83 horas\n",
            "El abogado A1 esta asignado al caso C5 con un tiempo de 115 horas\n",
            "El abogado A5 esta asignado al caso C1 con un tiempo de 97 horas\n"
          ]
        }
      ],
      "source": [
        "#Impresion de resultados\n",
        "print(\"La solución optima toma \" + str(value(instance.tiempo_total)) + \" horas, la asignación es la siguiente\")\n",
        "for i in instance.Abogados:\n",
        "  for j in instance.Casos:\n",
        "    if(value(instance.x[i,j]>0)):\n",
        "      print(\"El abogado \" + i + \" esta asignado al caso \" + j + \" con un tiempo de \" + str(instance.t[i,j]) + \" horas\")"
      ]
    },
    {
      "cell_type": "markdown",
      "metadata": {
        "id": "eCOUXYzLkNVg"
      },
      "source": [
        "# Referencias bibliográficas\n",
        "\n",
        "Bronson, R. (1983). *Teorías y problemas de investigación de operaciones* (M. de L. Fournier, Trad.; Vol. 1). McGraw-Hill.\n",
        "\n",
        "Dolan, E. D., Fourer, R., Moré, J. J., & Munson, T. S. (2002). Optimization on the NEOS server. *SIAM News*, 35(6), 4.\n",
        "\n",
        "Hart, W. E., Watson, J. P., & Woodruff, D. L. (2011). Pyomo: modeling and solving mathematical programs in Python. *Mathematical Programming Computation*, 3(3), 219-260. https://doi.org/10.1007/s12532-011-0026-8\n",
        "\n",
        "\n",
        "\n",
        "\n",
        "\n"
      ]
    }
  ],
  "metadata": {
    "colab": {
      "collapsed_sections": [
        "1-vCEK67aq7U",
        "y-gpl1myrQBN",
        "0BzQQHrLuBYZ",
        "TvB-TqghwqK5",
        "YZ3qoVu6yYXS",
        "9nZBS_e8ChGm",
        "v8Mpjn4FDYsC",
        "eCOUXYzLkNVg"
      ],
      "provenance": [],
      "include_colab_link": true
    },
    "kernelspec": {
      "display_name": "Python 3",
      "name": "python3"
    },
    "language_info": {
      "name": "python"
    }
  },
  "nbformat": 4,
  "nbformat_minor": 0
}